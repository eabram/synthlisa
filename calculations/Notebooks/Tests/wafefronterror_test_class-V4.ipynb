{
 "cells": [
  {
   "cell_type": "code",
   "execution_count": 1,
   "metadata": {},
   "outputs": [],
   "source": [
    "import PAA_LISA\n",
    "import NOISE_LISA\n",
    "import os\n",
    "\n",
    "%matplotlib inline\n",
    "\n",
    "import matplotlib.pyplot as plt\n",
    "import numpy as np\n",
    "import random\n",
    "import os\n",
    "from fractions import Fraction\n",
    "import math\n",
    "import datetime\n",
    "from scipy.interpolate import interp1d\n",
    "from scipy.interpolate import RegularGridInterpolator\n",
    "import warnings\n",
    "warnings.filterwarnings('ignore', 'The iteration is not making good progress')\n",
    "#warnings.filterwarnings(\"error\")\n",
    "import scipy.optimize\n",
    "\n",
    "year2sec=32536000\n",
    "day2sec=year2sec/365.25\n",
    "c=300000000"
   ]
  },
  {
   "cell_type": "code",
   "execution_count": null,
   "metadata": {},
   "outputs": [],
   "source": []
  },
  {
   "cell_type": "code",
   "execution_count": 2,
   "metadata": {},
   "outputs": [
    {
     "name": "stdout",
     "output_type": "stream",
     "text": [
      "['positions_timestep_days_scale_1000.txt', 'Folkner_orbit_timestep_seconds_scale_10.txt', 'readable.py', 'NGO_1M_10deg_synthlisa_timestep_days_scale_1000.txt']\n",
      "['McKenzie_orbit_timestep_seconds_scale_1000.txt', 'Folkner_orbit_timestep_seconds_scale_1.txt', 'Hallion_2pt5G_orbits_pos_uniquedays_timestep_days_scale_1000.txt']\n",
      "['Folkner_orbit_timestep_seconds_scale_10.txt', 'NGO_1M_10deg_synthlisa_timestep_days_scale_1.txt', 'Folkner_orbit_timestep_seconds_scale_1.txt', 'NGO_1M_10deg_synthlisa_timestep_days_scale_1000.txt']\n",
      "Dir_extr:zzzWaluschka_no_abberation\n",
      "Dir_extr:zzzWaluschka_no_abberation\n",
      "Dir_extr:zzzWaluschka_no_abberation\n",
      "Dir_extr:zzzWaluschka_no_abberation\n",
      "Dir_extr:zzzWaluschka_no_abberation\n",
      "Dir_extr:zzzWaluschka_no_abberation\n",
      "Getting scale by filename:\n",
      "1000.0\n",
      "\n",
      "Getting timestep by filename:\n",
      "days\n",
      "\n",
      "Waluschka\n",
      "\n",
      "Importing Orbit\n",
      "20 datapoints\n",
      "Done in 0.030418\n",
      "Selected calculation method is: Waluschka\n",
      "\n",
      "Selected calculation method is: Waluschka\n",
      "\n",
      "Selected calculation method is: Waluschka\n",
      "\n",
      "Abberation: False\n",
      "\n",
      "\n",
      "test_calc: False\n",
      "Dir_extr:zzzWaluschka_no_abberation\n",
      "Dir_extr:zzzWaluschka_no_abberation\n",
      "Dir_extr:zzzWaluschka_no_abberation\n",
      "Dir_extr:zzzWaluschka_no_abberation\n"
     ]
    }
   ],
   "source": [
    "input_param = {\n",
    "        'calc_method': 'Waluschka',\n",
    "        'plot_on':False, #If plots will be made\n",
    "        'dir_savefig': os.getcwd(), # The directory where the figures will be saved. If False, it will be in the current working directory\n",
    "        'noise_check':False,\n",
    "        'home':'/home/ester/git/synthlisa/', # Home directory\n",
    "        'directory_imp': False,\n",
    "        'num_back': 0,\n",
    "        'dir_orbits': '/home/ester/git/synthlisa/orbits/', # Folder with orbit files\n",
    "        'length_calc': 20, # Length of number of imported datapoints of orbit files. 'all' is also possible\n",
    "        'dir_extr': 'zzzWaluschka_no_abberation', # This will be added to the folder name of the figures\n",
    "        'timeunit':'Default', # The timeunit of the plots (['minutes'],['days']['years'])\n",
    "        'LISA_opt':True, # If a LISA object from syntheticLISA will be used for further calculations (not sure if it works properly if this False)\n",
    "        'arm_influence': True, # Set True to consider the travel time of the photons when calculating the nominal armlengths\n",
    "        'tstep':False,\n",
    "        'delay':True, #'Not ahead' or False\n",
    "        'method':'fsolve', # Method used to solve the equation for the photon traveling time\n",
    "        'valorfunc':'Function', #\n",
    "        'select':'Hallion', # Select which orbit files will be imported ('all' is all)\n",
    "        'test_calc':False,\n",
    "        'abberation':False,\n",
    "        'delay': True\n",
    "        }\n",
    "\n",
    "data_all = PAA_LISA.runfile.do_run(input_param)"
   ]
  },
  {
   "cell_type": "code",
   "execution_count": 3,
   "metadata": {},
   "outputs": [],
   "source": [
    "for k in range(0,len(data_all)/2):\n",
    "    #data = PAA_res[str(k+1)]\n",
    "    data = data_all[str(k+1)]\n",
    "t_vec = data.t_all"
   ]
  },
  {
   "cell_type": "code",
   "execution_count": 4,
   "metadata": {},
   "outputs": [
    {
     "name": "stdout",
     "output_type": "stream",
     "text": [
      "Obtaining noise\n",
      "Obaining lasernoise\n",
      "Obtaining shotnoise\n"
     ]
    }
   ],
   "source": [
    "Ndata = NOISE_LISA.Noise(data=data)"
   ]
  },
  {
   "cell_type": "code",
   "execution_count": 5,
   "metadata": {},
   "outputs": [
    {
     "data": {
      "text/plain": [
       "<bound method Noise.PAA_point of <NOISE_LISA.calc.Noise instance at 0x7fa26434c200>>"
      ]
     },
     "execution_count": 5,
     "metadata": {},
     "output_type": "execute_result"
    }
   ],
   "source": [
    "Ndata.PAA_point"
   ]
  },
  {
   "cell_type": "code",
   "execution_count": null,
   "metadata": {},
   "outputs": [],
   "source": []
  },
  {
   "cell_type": "code",
   "execution_count": null,
   "metadata": {},
   "outputs": [],
   "source": []
  },
  {
   "cell_type": "code",
   "execution_count": 6,
   "metadata": {},
   "outputs": [],
   "source": [
    "wfe = NOISE_LISA.WFE(Ndata=Ndata)"
   ]
  },
  {
   "cell_type": "code",
   "execution_count": 7,
   "metadata": {},
   "outputs": [],
   "source": [
    "wfe.tele_control='full control'\n",
    "wfe.pupil(Nbins=20)\n",
    "wfe.side = 'r'\n",
    "wfe.scale = 1#1e-9 # Scales distance of SC\n",
    "\n",
    "wfe.speed_on = True # Makes calculation faster, only valid for long armlengths\n",
    "wfe.simple = True # Calculates only 1 pixel"
   ]
  },
  {
   "cell_type": "code",
   "execution_count": null,
   "metadata": {
    "scrolled": true
   },
   "outputs": [],
   "source": []
  },
  {
   "cell_type": "code",
   "execution_count": 8,
   "metadata": {
    "scrolled": true
   },
   "outputs": [
    {
     "data": {
      "text/plain": [
       "0"
      ]
     },
     "execution_count": 8,
     "metadata": {},
     "output_type": "execute_result"
    }
   ],
   "source": [
    "wfe.tele_control_ss(step_max=4,dt = 3600)"
   ]
  },
  {
   "cell_type": "code",
   "execution_count": null,
   "metadata": {},
   "outputs": [],
   "source": []
  },
  {
   "cell_type": "code",
   "execution_count": 9,
   "metadata": {},
   "outputs": [],
   "source": [
    "i=1\n",
    "t = t_vec[2]\n",
    "wfe.simple=False\n",
    "wfe.jitter=[False,False]"
   ]
  },
  {
   "cell_type": "code",
   "execution_count": null,
   "metadata": {},
   "outputs": [],
   "source": []
  },
  {
   "cell_type": "code",
   "execution_count": 10,
   "metadata": {},
   "outputs": [],
   "source": [
    "labda = wfe.Ndata.data.labda\n",
    "w0 = wfe.Ndata.data.w0\n",
    "E0 = 1 #...adjust\n",
    "k = (2*np.pi)/labda\n",
    "D = wfe.Ndata.data.D\n",
    "LA = PAA_LISA.utils.la()"
   ]
  },
  {
   "cell_type": "code",
   "execution_count": 11,
   "metadata": {},
   "outputs": [
    {
     "data": {
      "text/plain": [
       "0"
      ]
     },
     "execution_count": 11,
     "metadata": {},
     "output_type": "execute_result"
    }
   ],
   "source": [
    "wfe.do_ttl_send()"
   ]
  },
  {
   "cell_type": "code",
   "execution_count": null,
   "metadata": {},
   "outputs": [],
   "source": []
  },
  {
   "cell_type": "code",
   "execution_count": 12,
   "metadata": {},
   "outputs": [
    {
     "data": {
      "text/plain": [
       "0"
      ]
     },
     "execution_count": 12,
     "metadata": {},
     "output_type": "execute_result"
    }
   ],
   "source": [
    "wfe.Ndata.PAA_point()"
   ]
  },
  {
   "cell_type": "code",
   "execution_count": null,
   "metadata": {},
   "outputs": [],
   "source": []
  },
  {
   "cell_type": "code",
   "execution_count": null,
   "metadata": {},
   "outputs": [],
   "source": []
  },
  {
   "cell_type": "code",
   "execution_count": 13,
   "metadata": {},
   "outputs": [],
   "source": [
    "#...adjust ps_send"
   ]
  },
  {
   "cell_type": "code",
   "execution_count": 14,
   "metadata": {},
   "outputs": [],
   "source": [
    "def rec_wf(i_self,t,dX,dY,ps_send,side='l',tilt_send = False,scale=1):\n",
    "\n",
    "    \n",
    "    \n",
    "    dx_list = self.xlist\n",
    "    dy_list = self.ylist\n",
    "    Ndata = self.Ndata\n",
    "    Deltax = self.Deltax\n",
    "    Deltay = self.Deltay\n",
    "    Nbinsx = self.Nbinsx\n",
    "    Nbinsy = self.Nbinsy\n",
    "\n",
    "    [i_self,i_left,i_right] = PAA_LISA.utils.i_slr(i_self)\n",
    "\n",
    "    n = Ndata.data.n_func(i_self,t)\n",
    "    \n",
    "    if side=='l':\n",
    "        tdel = self.Ndata.data.L_rl_func_tot(i_self,t)\n",
    "        n_left = Ndata.data.n_func(i_left,t-tdel)\n",
    "        if self.tele_control=='full control':\n",
    "            tele_rec = Ndata.tele_l_fc(i_self,t)\n",
    "            tele_send = Ndata.tele_r_fc(i_left,tdel)\n",
    "        elif self.tele_control=='no control':\n",
    "            tele_rec = Ndata.tele_l(i_self,t)\n",
    "            tele_send = Ndata.tele_r(i_left,t-tdel)\n",
    "        elif self.tele_control=='SS':\n",
    "            r = Ndata.data.r_func(i_self,t)\n",
    "            ang_SS = self.tele_SS_l(i_self,t)\n",
    "            ang_SS_left = self.tele_SS_r(i_left,t-tdel)\n",
    "            tele_rec = LA.unit(LA.rotate(Ndata.tele_l(i_self,t),n,ang_SS))\n",
    "            tele_send = LA.unit(LA.rotate(Ndata.tele_r(i_left,t-tdel),n_left,ang_SS_left))\n",
    "\n",
    "        n_beam = self.Ndata.data.n_func(i_left,(t-tdel))\n",
    "        beam = self.Ndata.PAA_point_r(i_left,t-tdel)#...adjust for sending telescope --> PAAM control\n",
    "        v_pos = self.Ndata.data.v_r_func_tot(i_left,t-tdel)\n",
    "        ps_send = self.phasefront_send(i_self,t,side='l')\n",
    "        \n",
    "    elif side=='r':\n",
    "        tdel = self.Ndata.data.L_rr_func_tot(i,t)\n",
    "        if self.tele_control=='full control':\n",
    "            tele_rec = Ndata.tele_r_fc(i_self,t)\n",
    "            tele_send = Ndata.tele_l_fc(i_right,t-tdel)\n",
    "        elif self.tele_control=='no control':\n",
    "            tele_rec = Ndata.tele_r(i_self,t)\n",
    "            tele_send = Ndata.tele_l(i_right,t-tdel)\n",
    "        elif self.tele_control=='SS':\n",
    "            r = Ndata.data.r_func(i_self,t)\n",
    "            ang_SS = self.tele_SS_r(i_self,t)\n",
    "            ang_SS_right = self.tele_SS_l(i_right,t-tdel)\n",
    "            \n",
    "            tele_rec = LA.unit(LA.rotate(Ndata.tele_r(i_self,t),n,ang_SS))\n",
    "            tele_send = LA.unit(LA.rotate(Ndata.tele_l(i_right,t-tdel),n_right,ang_SS_right))\n",
    "        \n",
    "        n_beam = self.Ndata.data.n_func(i_right,(t-tdel))\n",
    "        beam = self.Ndata.PAA_point_l(i_right,t-tdel)*scale\n",
    "        v_pos = self.Ndata.data.v_l_func_tot(i_right,t-tdel)*scale\n",
    "        ps_send = self.phasefront_send(i_self,t,side='r')\n",
    "        \n",
    "    ang_x = 0\n",
    "    ang_y = 0\n",
    "    [ang_x,ang_y] = LA.beam_ang(beam,tele_rec,n)\n",
    "\n",
    "    #print(LA.beam_ang(beam,tele_rec,n))\n",
    "    E0 = 1\n",
    "    psi=0\n",
    "    # calculate offset\n",
    "    offset = v_pos - beam\n",
    "    [xoff,yoff,zoff] = LA.beam_coor(offset,LA.unit(-beam),n_beam)\n",
    "    R = np.linalg.norm(v_pos)*scale\n",
    "    \n",
    "    dX_ac = np.cos(ang_x)*dX\n",
    "    dY_ac = np.cos(ang_y)*dY\n",
    "    dZ_ac = np.sin(ang_x)*dX+np.sin(ang_y)*dY\n",
    "    dR_ac = (dX_ac**2+dY_ac**2)**0.5\n",
    "    #d_ac = R - dZ_ac\n",
    "    d_ac = self.z_solve(dX_ac,dY_ac,R+dZ_ac)\n",
    "\n",
    "    \n",
    "    ps=np.empty((Nbinsx,Nbinsy),dtype = np.complex64)\n",
    "    for i in range(0,len(dx_list)):\n",
    "        for j in range(0,len(dy_list)):\n",
    "            dx = dx_list[i]\n",
    "            dy = dy_list[j]\n",
    "            dr = (dx**2+dy**2)**0.5\n",
    "            if tilt_send==True:\n",
    "                Zn=ps_send[i,j]\n",
    "            else:\n",
    "                Zn=0\n",
    "            if dr<=0.5*D:\n",
    "                E = E0*np.exp(-(dr**2)/(w0**2))*np.exp(1j*psi)              \n",
    "                S = (R**2+((dX_ac+xoff)-dx_list[i])**2+((dY_ac+yoff)-dy_list[j])**2)**0.5\n",
    "                #print(S)\n",
    "                ps[i,j] = np.exp(1j*(2*np.pi/labda)*(Zn+S))*Deltax*Deltay # removed E/S\n",
    "            else:\n",
    "                ps[i,j] = np.nan\n",
    "\n",
    "        ret = np.nansum(ps)\n",
    "        I = np.real(ret)\n",
    "        #TTL = np.log(np.imag(ret))\n",
    "        TTL = np.angle(ret)*labda/(2*np.pi)\n",
    "\n",
    "    return I,TTL,ps"
   ]
  },
  {
   "cell_type": "code",
   "execution_count": 15,
   "metadata": {},
   "outputs": [],
   "source": [
    "i_self=1\n",
    "t = t_vec[2]\n",
    "self = wfe\n",
    "side='l'\n",
    "dX = 0.1\n",
    "dY = 0.1\n",
    "tilt_send = False"
   ]
  },
  {
   "cell_type": "code",
   "execution_count": 16,
   "metadata": {},
   "outputs": [
    {
     "ename": "NameError",
     "evalue": "name 'ps_send' is not defined",
     "output_type": "error",
     "traceback": [
      "\u001b[0;31m---------------------------------------------------------------------------\u001b[0m",
      "\u001b[0;31mNameError\u001b[0m                                 Traceback (most recent call last)",
      "\u001b[0;32m<ipython-input-16-2791096a89d1>\u001b[0m in \u001b[0;36m<module>\u001b[0;34m()\u001b[0m\n\u001b[0;32m----> 1\u001b[0;31m \u001b[0mA\u001b[0m \u001b[0;34m=\u001b[0m \u001b[0mrec_wf\u001b[0m\u001b[0;34m(\u001b[0m\u001b[0mi_self\u001b[0m\u001b[0;34m,\u001b[0m\u001b[0mt\u001b[0m\u001b[0;34m,\u001b[0m\u001b[0mself\u001b[0m\u001b[0;34m.\u001b[0m\u001b[0mxlist\u001b[0m\u001b[0;34m[\u001b[0m\u001b[0;36m10\u001b[0m\u001b[0;34m]\u001b[0m\u001b[0;34m,\u001b[0m\u001b[0mself\u001b[0m\u001b[0;34m.\u001b[0m\u001b[0mylist\u001b[0m\u001b[0;34m[\u001b[0m\u001b[0;36m10\u001b[0m\u001b[0;34m]\u001b[0m\u001b[0;34m,\u001b[0m\u001b[0mps_send\u001b[0m\u001b[0;34m,\u001b[0m\u001b[0mside\u001b[0m\u001b[0;34m=\u001b[0m\u001b[0;34m'l'\u001b[0m\u001b[0;34m,\u001b[0m\u001b[0mtilt_send\u001b[0m \u001b[0;34m=\u001b[0m \u001b[0mFalse\u001b[0m\u001b[0;34m,\u001b[0m\u001b[0mscale\u001b[0m \u001b[0;34m=\u001b[0m \u001b[0;36m1e-9\u001b[0m\u001b[0;34m)\u001b[0m\u001b[0;34m\u001b[0m\u001b[0m\n\u001b[0m",
      "\u001b[0;31mNameError\u001b[0m: name 'ps_send' is not defined"
     ]
    }
   ],
   "source": [
    "A = rec_wf(i_self,t,self.xlist[10],self.ylist[10],ps_send,side='l',tilt_send = False,scale = 1e-9)"
   ]
  },
  {
   "cell_type": "code",
   "execution_count": 26,
   "metadata": {},
   "outputs": [
    {
     "name": "stdout",
     "output_type": "stream",
     "text": [
      "Simple mode is on, only calculating for center of receiving telescope\n"
     ]
    }
   ],
   "source": [
    "wfe.simple=True\n",
    "TTL_simp = wfe.TTL_rec(1,12321,side='l')"
   ]
  },
  {
   "cell_type": "code",
   "execution_count": 27,
   "metadata": {},
   "outputs": [
    {
     "name": "stdout",
     "output_type": "stream",
     "text": [
      "Simple mode is off, calculating over whole aperture receiving telescope\n",
      "Type of telescope control is: SS\n"
     ]
    },
    {
     "name": "stderr",
     "output_type": "stream",
     "text": [
      "/home/ester/git/synthlisa/calculations/NOISE_LISA/NOISE_LISA/WFE.py:166: RuntimeWarning: invalid value encountered in power\n",
      "  I = (np.real(ret)**2 + np.imag(ret**2))**0.5\n"
     ]
    }
   ],
   "source": [
    "wfe.simple=False\n",
    "TTL_hard = wfe.TTL_rec(1,12321,side='l')"
   ]
  },
  {
   "cell_type": "code",
   "execution_count": 28,
   "metadata": {},
   "outputs": [
    {
     "data": {
      "text/plain": [
       "<matplotlib.colorbar.Colorbar at 0x7fa260667550>"
      ]
     },
     "execution_count": 28,
     "metadata": {},
     "output_type": "execute_result"
    },
    {
     "data": {
      "image/png": "[encoded data removed]",
      "text/plain": [
       "<Figure size 288x288 with 2 Axes>"
      ]
     },
     "metadata": {},
     "output_type": "display_data"
    }
   ],
   "source": [
    "plt.matshow(np.real(TTL_hard),cmap='magma')\n",
    "plt.colorbar()"
   ]
  },
  {
   "cell_type": "code",
   "execution_count": 33,
   "metadata": {},
   "outputs": [
    {
     "name": "stdout",
     "output_type": "stream",
     "text": [
      "-3.414745738786341e-07\n",
      "(-3.663985e-07+0j)\n"
     ]
    }
   ],
   "source": [
    "print(TTL_simp)\n",
    "print(np.nanmean(TTL_hard))"
   ]
  },
  {
   "cell_type": "code",
   "execution_count": 41,
   "metadata": {},
   "outputs": [
    {
     "name": "stdout",
     "output_type": "stream",
     "text": [
      "Simple mode is off, calculating over whole aperture receiving telescope\n",
      "Type of telescope control is: SS\n",
      "Simple mode is off, calculating over whole aperture receiving telescope\n",
      "Type of telescope control is: SS\n",
      "Simple mode is off, calculating over whole aperture receiving telescope\n",
      "Type of telescope control is: SS\n",
      "Simple mode is off, calculating over whole aperture receiving telescope\n",
      "Type of telescope control is: SS\n",
      "Simple mode is off, calculating over whole aperture receiving telescope\n",
      "Type of telescope control is: SS\n",
      "Simple mode is off, calculating over whole aperture receiving telescope\n",
      "Type of telescope control is: SS\n",
      "Simple mode is off, calculating over whole aperture receiving telescope\n",
      "Type of telescope control is: SS\n",
      "Simple mode is off, calculating over whole aperture receiving telescope\n",
      "Type of telescope control is: SS\n",
      "Simple mode is off, calculating over whole aperture receiving telescope\n",
      "Type of telescope control is: SS\n",
      "Simple mode is off, calculating over whole aperture receiving telescope\n",
      "Type of telescope control is: SS\n",
      "Simple mode is off, calculating over whole aperture receiving telescope\n",
      "Type of telescope control is: SS\n",
      "Simple mode is off, calculating over whole aperture receiving telescope\n",
      "Type of telescope control is: SS\n",
      "Simple mode is off, calculating over whole aperture receiving telescope\n",
      "Type of telescope control is: SS\n",
      "Simple mode is off, calculating over whole aperture receiving telescope\n",
      "Type of telescope control is: SS\n",
      "Simple mode is off, calculating over whole aperture receiving telescope\n",
      "Type of telescope control is: SS\n",
      "Simple mode is off, calculating over whole aperture receiving telescope\n",
      "Type of telescope control is: SS\n",
      "Simple mode is off, calculating over whole aperture receiving telescope\n",
      "Type of telescope control is: SS\n",
      "Simple mode is off, calculating over whole aperture receiving telescope\n",
      "Type of telescope control is: SS\n",
      "Simple mode is off, calculating over whole aperture receiving telescope\n",
      "Type of telescope control is: SS\n",
      "Simple mode is off, calculating over whole aperture receiving telescope\n",
      "Type of telescope control is: SS\n"
     ]
    }
   ],
   "source": [
    "N=10\n",
    "t_plot = np.linspace(t_vec[0],t_vec[1],N)\n",
    "TTL_wf = []\n",
    "wfe.simple=False\n",
    "for t in t_vec:\n",
    "    TTL_wf.append(np.nanmean(wfe.TTL_rec(1,12321,side='l')))"
   ]
  },
  {
   "cell_type": "code",
   "execution_count": 43,
   "metadata": {},
   "outputs": [
    {
     "data": {
      "text/plain": [
       "[<matplotlib.lines.Line2D at 0x7fa26020a590>]"
      ]
     },
     "execution_count": 43,
     "metadata": {},
     "output_type": "execute_result"
    },
    {
     "data": {
      "image/png": "[encoded data removed]",
      "text/plain": [
       "<Figure size 432x288 with 1 Axes>"
      ]
     },
     "metadata": {},
     "output_type": "display_data"
    }
   ],
   "source": [
    "plt.plot(t_vec,TTL_wf)"
   ]
  },
  {
   "cell_type": "code",
   "execution_count": null,
   "metadata": {},
   "outputs": [],
   "source": []
  },
  {
   "cell_type": "code",
   "execution_count": null,
   "metadata": {},
   "outputs": [],
   "source": []
  },
  {
   "cell_type": "code",
   "execution_count": null,
   "metadata": {},
   "outputs": [],
   "source": []
  },
  {
   "cell_type": "code",
   "execution_count": null,
   "metadata": {},
   "outputs": [],
   "source": []
  },
  {
   "cell_type": "code",
   "execution_count": null,
   "metadata": {},
   "outputs": [],
   "source": []
  }
 ],
 "metadata": {
  "kernelspec": {
   "display_name": "Python 2",
   "language": "python",
   "name": "python2"
  },
  "language_info": {
   "codemirror_mode": {
    "name": "ipython",
    "version": 2
   },
   "file_extension": ".py",
   "mimetype": "text/x-python",
   "name": "python",
   "nbconvert_exporter": "python",
   "pygments_lexer": "ipython2",
   "version": "2.7.15"
  }
 },
 "nbformat": 4,
 "nbformat_minor": 2
}
