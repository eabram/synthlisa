{
 "cells": [
  {
   "cell_type": "code",
   "execution_count": 1,
   "metadata": {},
   "outputs": [],
   "source": [
    "import PAA_LISA\n",
    "import NOISE_LISA\n",
    "import os\n",
    "\n",
    "%matplotlib inline\n",
    "\n",
    "import matplotlib.pyplot as plt\n",
    "import numpy as np\n",
    "import random\n",
    "import os\n",
    "from fractions import Fraction\n",
    "import math\n",
    "import datetime\n",
    "from scipy.interpolate import interp1d\n",
    "from scipy.interpolate import RegularGridInterpolator\n",
    "import warnings\n",
    "warnings.filterwarnings('ignore', 'The iteration is not making good progress')\n",
    "#warnings.filterwarnings(\"error\")\n",
    "import scipy.optimize\n",
    "\n",
    "year2sec=32536000\n",
    "day2sec=year2sec/365.25\n",
    "c=300000000"
   ]
  },
  {
   "cell_type": "code",
   "execution_count": null,
   "metadata": {},
   "outputs": [],
   "source": []
  },
  {
   "cell_type": "code",
   "execution_count": 2,
   "metadata": {},
   "outputs": [
    {
     "name": "stdout",
     "output_type": "stream",
     "text": [
      "['positions_timestep_days_scale_1000.txt', 'Folkner_orbit_timestep_seconds_scale_10.txt', 'readable.py', 'NGO_1M_10deg_synthlisa_timestep_days_scale_1000.txt']\n",
      "['McKenzie_orbit_timestep_seconds_scale_1000.txt', 'Folkner_orbit_timestep_seconds_scale_1.txt', 'Hallion_2pt5G_orbits_pos_uniquedays_timestep_days_scale_1000.txt']\n",
      "['Folkner_orbit_timestep_seconds_scale_10.txt', 'NGO_1M_10deg_synthlisa_timestep_days_scale_1.txt', 'Folkner_orbit_timestep_seconds_scale_1.txt', 'NGO_1M_10deg_synthlisa_timestep_days_scale_1000.txt']\n",
      "Dir_extr:zzzWaluschka_no_abberation\n",
      "Dir_extr:zzzWaluschka_no_abberation\n",
      "Dir_extr:zzzWaluschka_no_abberation\n",
      "Dir_extr:zzzWaluschka_no_abberation\n",
      "Dir_extr:zzzWaluschka_no_abberation\n",
      "Dir_extr:zzzWaluschka_no_abberation\n",
      "Getting scale by filename:\n",
      "1000.0\n",
      "\n",
      "Getting timestep by filename:\n",
      "days\n",
      "\n",
      "Waluschka\n",
      "\n",
      "Importing Orbit\n",
      "20 datapoints\n",
      "Done in 0.03326\n",
      "Selected calculation method is: Waluschka\n",
      "\n",
      "Selected calculation method is: Waluschka\n",
      "\n",
      "Selected calculation method is: Waluschka\n",
      "\n",
      "Abberation: False\n",
      "\n",
      "\n",
      "test_calc: False\n",
      "Dir_extr:zzzWaluschka_no_abberation\n",
      "Dir_extr:zzzWaluschka_no_abberation\n",
      "Dir_extr:zzzWaluschka_no_abberation\n",
      "Dir_extr:zzzWaluschka_no_abberation\n"
     ]
    }
   ],
   "source": [
    "input_param = {\n",
    "        'calc_method': 'Waluschka',\n",
    "        'plot_on':False, #If plots will be made\n",
    "        'dir_savefig': os.getcwd(), # The directory where the figures will be saved. If False, it will be in the current working directory\n",
    "        'noise_check':False,\n",
    "        'home':'/home/ester/git/synthlisa/', # Home directory\n",
    "        'directory_imp': False,\n",
    "        'num_back': 0,\n",
    "        'dir_orbits': '/home/ester/git/synthlisa/orbits/', # Folder with orbit files\n",
    "        'length_calc': 20, # Length of number of imported datapoints of orbit files. 'all' is also possible\n",
    "        'dir_extr': 'zzzWaluschka_no_abberation', # This will be added to the folder name of the figures\n",
    "        'timeunit':'Default', # The timeunit of the plots (['minutes'],['days']['years'])\n",
    "        'LISA_opt':True, # If a LISA object from syntheticLISA will be used for further calculations (not sure if it works properly if this False)\n",
    "        'arm_influence': True, # Set True to consider the travel time of the photons when calculating the nominal armlengths\n",
    "        'tstep':False,\n",
    "        'delay':True, #'Not ahead' or False\n",
    "        'method':'fsolve', # Method used to solve the equation for the photon traveling time\n",
    "        'valorfunc':'Function', #\n",
    "        'select':'Hallion', # Select which orbit files will be imported ('all' is all)\n",
    "        'test_calc':False,\n",
    "        'abberation':False,\n",
    "        'delay': True\n",
    "        }\n",
    "\n",
    "data_all = PAA_LISA.runfile.do_run(input_param)"
   ]
  },
  {
   "cell_type": "code",
   "execution_count": 3,
   "metadata": {},
   "outputs": [],
   "source": [
    "for k in range(0,len(data_all)/2):\n",
    "    #data = PAA_res[str(k+1)]\n",
    "    data = data_all[str(k+1)]\n",
    "t_vec = data.t_all"
   ]
  },
  {
   "cell_type": "code",
   "execution_count": 4,
   "metadata": {},
   "outputs": [
    {
     "name": "stdout",
     "output_type": "stream",
     "text": [
      "Obtaining noise\n",
      "Obaining lasernoise\n",
      "Obtaining shotnoise\n"
     ]
    }
   ],
   "source": [
    "Ndata = NOISE_LISA.Noise(data=data)"
   ]
  },
  {
   "cell_type": "code",
   "execution_count": 5,
   "metadata": {},
   "outputs": [
    {
     "data": {
      "text/plain": [
       "<bound method Noise.PAA_point of <NOISE_LISA.calc.Noise instance at 0x7f634bfb2320>>"
      ]
     },
     "execution_count": 5,
     "metadata": {},
     "output_type": "execute_result"
    }
   ],
   "source": [
    "Ndata.PAA_point"
   ]
  },
  {
   "cell_type": "code",
   "execution_count": null,
   "metadata": {},
   "outputs": [],
   "source": []
  },
  {
   "cell_type": "code",
   "execution_count": null,
   "metadata": {},
   "outputs": [],
   "source": []
  },
  {
   "cell_type": "code",
   "execution_count": 6,
   "metadata": {},
   "outputs": [],
   "source": [
    "wfe = NOISE_LISA.WFE(Ndata=Ndata)"
   ]
  },
  {
   "cell_type": "code",
   "execution_count": 7,
   "metadata": {},
   "outputs": [],
   "source": [
    "wfe.tele_control='full control'\n",
    "wfe.pupil(Nbins=20)\n",
    "wfe.side = 'r'\n",
    "wfe.scale = 1#1e-9 # Scales distance of SC\n",
    "\n",
    "wfe.speed_on = True # Makes calculation faster, only valid for long armlengths\n",
    "wfe.simple = True # Calculates only 1 pixel"
   ]
  },
  {
   "cell_type": "code",
   "execution_count": null,
   "metadata": {
    "scrolled": true
   },
   "outputs": [],
   "source": []
  },
  {
   "cell_type": "code",
   "execution_count": 8,
   "metadata": {
    "scrolled": true
   },
   "outputs": [
    {
     "data": {
      "text/plain": [
       "0"
      ]
     },
     "execution_count": 8,
     "metadata": {},
     "output_type": "execute_result"
    }
   ],
   "source": [
    "wfe.tele_control_ss(step_max=4,dt = 3600)"
   ]
  },
  {
   "cell_type": "code",
   "execution_count": null,
   "metadata": {},
   "outputs": [],
   "source": []
  },
  {
   "cell_type": "code",
   "execution_count": 9,
   "metadata": {},
   "outputs": [],
   "source": [
    "i=1\n",
    "t = t_vec[2]\n",
    "wfe.simple=False\n",
    "wfe.jitter=[False,False]"
   ]
  },
  {
   "cell_type": "code",
   "execution_count": null,
   "metadata": {},
   "outputs": [],
   "source": []
  },
  {
   "cell_type": "code",
   "execution_count": 10,
   "metadata": {},
   "outputs": [],
   "source": [
    "labda = wfe.Ndata.data.labda\n",
    "w0 = wfe.Ndata.data.w0\n",
    "E0 = 1 #...adjust\n",
    "k = (2*np.pi)/labda\n",
    "D = wfe.Ndata.data.D\n",
    "LA = PAA_LISA.utils.la()\n",
    "L_tele = 2 # length telescope"
   ]
  },
  {
   "cell_type": "code",
   "execution_count": 11,
   "metadata": {},
   "outputs": [
    {
     "data": {
      "text/plain": [
       "0"
      ]
     },
     "execution_count": 11,
     "metadata": {},
     "output_type": "execute_result"
    }
   ],
   "source": [
    "wfe.do_ttl_send()"
   ]
  },
  {
   "cell_type": "code",
   "execution_count": null,
   "metadata": {},
   "outputs": [],
   "source": []
  },
  {
   "cell_type": "code",
   "execution_count": 12,
   "metadata": {},
   "outputs": [
    {
     "data": {
      "text/plain": [
       "0"
      ]
     },
     "execution_count": 12,
     "metadata": {},
     "output_type": "execute_result"
    }
   ],
   "source": [
    "wfe.Ndata.PAA_point()"
   ]
  },
  {
   "cell_type": "code",
   "execution_count": 13,
   "metadata": {},
   "outputs": [
    {
     "data": {
      "text/plain": [
       "0"
      ]
     },
     "execution_count": 13,
     "metadata": {},
     "output_type": "execute_result"
    }
   ],
   "source": [
    "wfe.scan_tele()"
   ]
  },
  {
   "cell_type": "code",
   "execution_count": 46,
   "metadata": {},
   "outputs": [
    {
     "data": {
      "text/plain": [
       "6.54684727209085e-07"
      ]
     },
     "execution_count": 46,
     "metadata": {},
     "output_type": "execute_result"
    }
   ],
   "source": []
  },
  {
   "cell_type": "code",
   "execution_count": 53,
   "metadata": {
    "scrolled": true
   },
   "outputs": [],
   "source": [
    "scan_wf = []\n",
    "ang_SS = []\n",
    "PAA_ang = []\n",
    "i = 1\n",
    "[i_self,i_left,i_right] = PAA_LISA.utils.i_slr(i_self)\n",
    "t_plot = np.linspace(t_vec[1],t_vec[4],100)\n",
    "for t in t_plot:\n",
    "    tdel = wfe.Ndata.data.L_rl_func_tot(i,t)\n",
    "    scan_wf.append(wfe.wf_scan_l(i,t))\n",
    "    ang_SS.append(wfe.tele_SS_l(i,t))\n",
    "    PAA_ang.append(LA.angle(wfe.Ndata.PAA_point_r(i_left,t-tdel),wfe.Ndata.data.v_r_func_tot(i_left,t-tdel)))"
   ]
  },
  {
   "cell_type": "code",
   "execution_count": 54,
   "metadata": {},
   "outputs": [
    {
     "data": {
      "text/plain": [
       "[<matplotlib.lines.Line2D at 0x7f6346322650>]"
      ]
     },
     "execution_count": 54,
     "metadata": {},
     "output_type": "execute_result"
    },
    {
     "data": {
      "image/png": "[encoded data removed]",
      "text/plain": [
       "<Figure size 432x288 with 3 Axes>"
      ]
     },
     "metadata": {},
     "output_type": "display_data"
    }
   ],
   "source": [
    "f,ax = plt.subplots(3,1)\n",
    "ax[0].plot(t_plot,scan_wf)\n",
    "ax[1].plot(t_plot,ang_SS)\n",
    "ax[2].plot(t_plot,PAA_ang)\n"
   ]
  },
  {
   "cell_type": "code",
   "execution_count": 81,
   "metadata": {},
   "outputs": [],
   "source": [
    "# ploting\n",
    "ang_opt = []\n",
    "ang_SS = []\n",
    "ang_nc = []\n",
    "for t in t_plot:\n",
    "    r = wfe.Ndata.data.r_func(i,t)\n",
    "    ang_opt.append(LA.angle(wfe.Ndata.tele_l_fc(i,t),r))\n",
    "    ang_nc.append(LA.angle(wfe.Ndata.tele_l(i,t),r))\n",
    "    ang_SS.append(wfe.tele_SS_l(i,t)+ang_nc[-1])"
   ]
  },
  {
   "cell_type": "code",
   "execution_count": 82,
   "metadata": {},
   "outputs": [
    {
     "data": {
      "text/plain": [
       "<matplotlib.legend.Legend at 0x7f634568f910>"
      ]
     },
     "execution_count": 82,
     "metadata": {},
     "output_type": "execute_result"
    },
    {
     "data": {
      "image/png": "[encoded data removed]",
      "text/plain": [
       "<Figure size 432x288 with 4 Axes>"
      ]
     },
     "metadata": {},
     "output_type": "display_data"
    }
   ],
   "source": [
    "f,ax = plt.subplots(4,1)\n",
    "ax[0].plot(t_plot,ang_opt,label = 'Full control')\n",
    "ax[1].plot(t_plot,ang_SS,label='Step and stare')\n",
    "ax[2].plot(t_plot,ang_nc,label='No control')\n",
    "ax[3].plot(t_plot,ang_opt,label = 'Full control')\n",
    "ax[3].plot(t_plot,ang_SS,label='Step and stare')\n",
    "ax[3].plot(t_plot,ang_nc,label='No control')\n",
    "ax[3].legend(loc='best')"
   ]
  },
  {
   "cell_type": "code",
   "execution_count": 77,
   "metadata": {},
   "outputs": [
    {
     "data": {
      "text/plain": [
       "array([-1.50165186e+09,  9.79988679e+08, -1.82428586e+09])"
      ]
     },
     "execution_count": 77,
     "metadata": {},
     "output_type": "execute_result"
    }
   ],
   "source": [
    "wfe.Ndata.data.v_l_func_tot(1,12321)"
   ]
  },
  {
   "cell_type": "code",
   "execution_count": 80,
   "metadata": {},
   "outputs": [
    {
     "data": {
      "text/plain": [
       "array([      0.        ,   89078.71321013,  178157.42642026,\n",
       "        267236.13963039,  356314.85284052,  445393.56605065,\n",
       "        534472.27926078,  623550.99247091,  712629.70568104,\n",
       "        801708.41889117,  890787.1321013 ,  979865.84531143,\n",
       "       1068944.55852156, 1158023.27173169, 1247101.98494182,\n",
       "       1336180.69815195, 1425259.41136208, 1514338.12457221,\n",
       "       1603416.83778234, 1692495.55099247])"
      ]
     },
     "execution_count": 80,
     "metadata": {},
     "output_type": "execute_result"
    }
   ],
   "source": [
    "wfe.Ndata.data.t_all"
   ]
  },
  {
   "cell_type": "code",
   "execution_count": null,
   "metadata": {},
   "outputs": [],
   "source": []
  },
  {
   "cell_type": "code",
   "execution_count": 15,
   "metadata": {},
   "outputs": [],
   "source": [
    "i_self = 1\n",
    "t = t_vec[2]\n",
    "side='l'\n",
    "self=wfe"
   ]
  },
  {
   "cell_type": "code",
   "execution_count": 16,
   "metadata": {},
   "outputs": [],
   "source": [
    "[i_self,i_left,i_right] = PAA_LISA.utils.i_slr(i_self)\n",
    "n = Ndata.data.n_func(i_self,t)\n",
    "    \n",
    "if side=='l':\n",
    "    i_next = i_left\n",
    "    tdel = self.Ndata.data.L_rl_func_tot(i_self,t)\n",
    "    n_left = Ndata.data.n_func(i_left,t-tdel)\n",
    "    if self.tele_control=='full control':\n",
    "        tele_rec = Ndata.tele_l_fc(i_self,t)\n",
    "        tele_send = Ndata.tele_r_fc(i_left,tdel)\n",
    "    elif self.tele_control=='no control':\n",
    "        tele_rec = Ndata.tele_l(i_self,t)\n",
    "        tele_send = Ndata.tele_r(i_left,t-tdel)\n",
    "    elif self.tele_control=='SS':\n",
    "        r = Ndata.data.r_func(i_self,t)\n",
    "        ang_SS = self.tele_SS_l(i_self,t)\n",
    "        ang_SS_left = self.tele_SS_r(i_left,t-tdel)\n",
    "        tele_rec = LA.unit(LA.rotate(Ndata.tele_l(i_self,t),n,ang_SS))\n",
    "        tele_send = LA.unit(LA.rotate(Ndata.tele_r(i_left,t-tdel),n_left,ang_SS_left))\n",
    "\n",
    "    n_beam = self.Ndata.data.n_func(i_left,(t-tdel))\n",
    "    beam = self.Ndata.PAA_point_r(i_left,t-tdel)#...adjust for sending telescope --> PAAM control\n",
    "    v_pos = self.Ndata.data.v_r_func_tot(i_left,t-tdel)\n",
    "    ps_send = self.phasefront_send(i_self,t,side='l')\n",
    "        \n",
    "elif side=='r':\n",
    "    i_next = i_right\n",
    "    tdel = self.Ndata.data.L_rr_func_tot(i,t)\n",
    "    if self.tele_control=='full control':\n",
    "        tele_rec = Ndata.tele_r_fc(i_self,t)\n",
    "        tele_send = Ndata.tele_l_fc(i_right,t-tdel)\n",
    "    elif self.tele_control=='no control':\n",
    "        tele_rec = Ndata.tele_r(i_self,t)\n",
    "        tele_send = Ndata.tele_l(i_right,t-tdel)\n",
    "    elif self.tele_control=='SS':\n",
    "        r = Ndata.data.r_func(i_self,t)\n",
    "        ang_SS = self.tele_SS_r(i_self,t)\n",
    "        ang_SS_right = self.tele_SS_l(i_right,t-tdel)\n",
    "\n",
    "        tele_rec = LA.unit(LA.rotate(Ndata.tele_r(i_self,t),n,ang_SS))\n",
    "        tele_send = LA.unit(LA.rotate(Ndata.tele_l(i_right,t-tdel),n_right,ang_SS_right))\n",
    "    \n",
    "    n_beam = self.Ndata.data.n_func(i_right,(t-tdel))\n",
    "    beam = self.Ndata.PAA_point_l(i_right,t-tdel)*scale\n",
    "    v_pos = self.Ndata.data.v_l_func_tot(i_right,t-tdel)*scale\n",
    "    ps_send = self.phasefront_send(i_self,t,side='r')\n",
    "\n",
    "# Calculating tilt\n",
    "[xt,yt,zt] = LA.beam_coor(beam,tele_rec,n)\n",
    "angx = np.sin(xt/zt)\n",
    "angy = np.sin(yt/zt)\n",
    "thmn11 = np.arctan(angx/angy)\n",
    "zmn11 = (angx**2 + angy**2)**0.5\n",
    "\n",
    "# Calculating offset\n",
    "pos_send = np.array(self.Ndata.data.LISA.putp(i_next,t-tdel))\n",
    "pos_rec = np.array(self.Ndata.data.LISA.putp(i_self,t-tdel)) #... set on Waluschka)\n",
    "\n",
    "tele_rel = LA.unit(tele_rec)*L_tele\n",
    "O_tele = pos_rec - pos_send +tele_rel # ... Abram vs. Waluschka\n",
    "tele_beam = np.dot(O_tele,LA.unit(beam))*LA.unit(beam)\n",
    "\n",
    "tele_yoff = LA.outplane(O_tele - tele_beam,n)\n",
    "tele_xoff = np.linalg.norm(O_tele-tele_beam-tele_yoff)\n",
    "tele_yoff = np.linalg.norm(tele_yoff)\n",
    "tele_zoff = np.linalg.norm(tele_beam) - np.linalg.norm(beam)\n",
    "\n",
    "\n",
    "zmn={}\n",
    "\n",
    "zmn['11'] = zmn11\n",
    "thmn={}\n",
    "thmn['11'] = thmn11\n",
    "zxoff = tele_xoff*np.tan(angx)\n",
    "zyoff = tele_yoff*np.tan(angy)\n",
    "xoff = tele_xoff\n",
    "yoff = tele_yoff\n",
    "zoff = np.linalg.norm(tele_beam)+zxoff+zyoff\n",
    "zmn['00'] = zoff\n",
    "thmn['00'] = 0\n",
    "xoff = xoff/np.cos(angx)\n",
    "yoff = yoff/np.cos(angy)\n",
    "offset = np.array([xoff,yoff])"
   ]
  },
  {
   "cell_type": "code",
   "execution_count": 17,
   "metadata": {},
   "outputs": [],
   "source": [
    "ps=np.zeros((wfe.Nbinsx,wfe.Nbinsy))\n",
    "for n in range(0,2):\n",
    "    for m in range(-n,n+1):\n",
    "        if ((m%2) == (n%2)):\n",
    "            ps = ps + wfe.zern(m,n,zmn=zmn,thmn=thmn,offset=offset)\n",
    "wave_ttl = np.nanmean(ps)"
   ]
  },
  {
   "cell_type": "code",
   "execution_count": 18,
   "metadata": {},
   "outputs": [
    {
     "data": {
      "text/plain": [
       "2466524172.5428476"
      ]
     },
     "execution_count": 18,
     "metadata": {},
     "output_type": "execute_result"
    },
    {
     "data": {
      "image/png": "[encoded data removed]",
      "text/plain": [
       "<Figure size 288x288 with 2 Axes>"
      ]
     },
     "metadata": {},
     "output_type": "display_data"
    }
   ],
   "source": [
    "plt.matshow(ps,cmap='magma')\n",
    "plt.colorbar()\n",
    "wave_ttl"
   ]
  },
  {
   "cell_type": "code",
   "execution_count": 19,
   "metadata": {
    "scrolled": true
   },
   "outputs": [
    {
     "data": {
      "text/plain": [
       "<matplotlib.colorbar.Colorbar at 0x7f6381104450>"
      ]
     },
     "execution_count": 19,
     "metadata": {},
     "output_type": "execute_result"
    },
    {
     "data": {
      "image/png": "[encoded data removed]",
      "text/plain": [
       "<Figure size 288x288 with 2 Axes>"
      ]
     },
     "metadata": {},
     "output_type": "display_data"
    }
   ],
   "source": [
    "ps00 = wfe.zern(0,0,zmn=zmn,thmn=thmn,offset=offset)\n",
    "plt.matshow(ps00,cmap='magma')\n",
    "plt.colorbar()"
   ]
  },
  {
   "cell_type": "code",
   "execution_count": 20,
   "metadata": {},
   "outputs": [
    {
     "data": {
      "text/plain": [
       "<matplotlib.colorbar.Colorbar at 0x7f634830d0d0>"
      ]
     },
     "execution_count": 20,
     "metadata": {},
     "output_type": "execute_result"
    },
    {
     "data": {
      "image/png": "[encoded data removed]",
      "text/plain": [
       "<Figure size 288x288 with 2 Axes>"
      ]
     },
     "metadata": {},
     "output_type": "display_data"
    }
   ],
   "source": [
    "ps11 = wfe.zern(1,1,zmn=zmn,thmn=thmn,offset=offset)\n",
    "plt.matshow(ps11,cmap='magma')\n",
    "plt.colorbar()"
   ]
  },
  {
   "cell_type": "code",
   "execution_count": 21,
   "metadata": {
    "scrolled": true
   },
   "outputs": [
    {
     "data": {
      "text/plain": [
       "<matplotlib.colorbar.Colorbar at 0x7f63482d1950>"
      ]
     },
     "execution_count": 21,
     "metadata": {},
     "output_type": "execute_result"
    },
    {
     "data": {
      "image/png": "[encoded data removed]",
      "text/plain": [
       "<Figure size 288x288 with 2 Axes>"
      ]
     },
     "metadata": {},
     "output_type": "display_data"
    }
   ],
   "source": [
    "psm11 = wfe.zern(-1,1,zmn=zmn,thmn=thmn,offset=offset)\n",
    "plt.matshow(psm11,cmap='magma')\n",
    "plt.colorbar()"
   ]
  },
  {
   "cell_type": "code",
   "execution_count": 22,
   "metadata": {},
   "outputs": [
    {
     "data": {
      "text/plain": [
       "<matplotlib.image.AxesImage at 0x7f63481e1e50>"
      ]
     },
     "execution_count": 22,
     "metadata": {},
     "output_type": "execute_result"
    },
    {
     "data": {
      "image/png": "[encoded data removed]",
      "text/plain": [
       "<Figure size 288x288 with 1 Axes>"
      ]
     },
     "metadata": {},
     "output_type": "display_data"
    }
   ],
   "source": [
    "plt.matshow(ps11+psm11)"
   ]
  },
  {
   "cell_type": "code",
   "execution_count": 23,
   "metadata": {},
   "outputs": [
    {
     "data": {
      "text/plain": [
       "<matplotlib.image.AxesImage at 0x7f63481c7c10>"
      ]
     },
     "execution_count": 23,
     "metadata": {},
     "output_type": "execute_result"
    },
    {
     "data": {
      "image/png": "[encoded data removed]",
      "text/plain": [
       "<Figure size 288x288 with 1 Axes>"
      ]
     },
     "metadata": {},
     "output_type": "display_data"
    }
   ],
   "source": [
    "plt.matshow(ps00+ps11+psm11)"
   ]
  },
  {
   "cell_type": "code",
   "execution_count": 24,
   "metadata": {},
   "outputs": [],
   "source": [
    "def plot_vec(v,offset=False):\n",
    "    if offset==False:\n",
    "        offset = [0,0]\n",
    "    plt.plot([offset[0],v[0]],[offset[0],v[i]])\n",
    "    plt.axis('equal')\n",
    "    plt.show()"
   ]
  },
  {
   "cell_type": "code",
   "execution_count": 25,
   "metadata": {},
   "outputs": [
    {
     "data": {
      "image/png": "[encoded data removed]",
      "text/plain": [
       "<Figure size 432x288 with 1 Axes>"
      ]
     },
     "metadata": {},
     "output_type": "display_data"
    },
    {
     "data": {
      "image/png": "[encoded data removed]",
      "text/plain": [
       "<Figure size 432x288 with 1 Axes>"
      ]
     },
     "metadata": {},
     "output_type": "display_data"
    }
   ],
   "source": [
    "plot_vec(tele_beam)\n",
    "plot_vec(beam)"
   ]
  },
  {
   "cell_type": "code",
   "execution_count": 26,
   "metadata": {},
   "outputs": [
    {
     "data": {
      "text/plain": [
       "2030.134007096879"
      ]
     },
     "execution_count": 26,
     "metadata": {},
     "output_type": "execute_result"
    }
   ],
   "source": [
    "np.linalg.norm(pos_rec-pos_send+tele_rel - beam)"
   ]
  },
  {
   "cell_type": "code",
   "execution_count": 27,
   "metadata": {},
   "outputs": [
    {
     "ename": "TypeError",
     "evalue": "beam_coor() takes exactly 4 arguments (2 given)",
     "output_type": "error",
     "traceback": [
      "\u001b[0;31m---------------------------------------------------------------------------\u001b[0m",
      "\u001b[0;31mTypeError\u001b[0m                                 Traceback (most recent call last)",
      "\u001b[0;32m<ipython-input-27-69a3b0412cd2>\u001b[0m in \u001b[0;36m<module>\u001b[0;34m()\u001b[0m\n\u001b[0;32m----> 1\u001b[0;31m \u001b[0mLA\u001b[0m\u001b[0;34m.\u001b[0m\u001b[0mbeam_coor\u001b[0m\u001b[0;34m(\u001b[0m\u001b[0mbeam\u001b[0m\u001b[0;34m)\u001b[0m\u001b[0;34m\u001b[0m\u001b[0m\n\u001b[0m",
      "\u001b[0;31mTypeError\u001b[0m: beam_coor() takes exactly 4 arguments (2 given)"
     ]
    }
   ],
   "source": [
    "LA.beam_coor(beam)"
   ]
  },
  {
   "cell_type": "code",
   "execution_count": null,
   "metadata": {},
   "outputs": [],
   "source": [
    "np.linalg.norm(O_tele)"
   ]
  },
  {
   "cell_type": "code",
   "execution_count": null,
   "metadata": {},
   "outputs": [],
   "source": [
    "tele_xoff"
   ]
  },
  {
   "cell_type": "code",
   "execution_count": null,
   "metadata": {},
   "outputs": [],
   "source": [
    "tele_yoff"
   ]
  },
  {
   "cell_type": "code",
   "execution_count": null,
   "metadata": {},
   "outputs": [],
   "source": [
    "O_tele"
   ]
  },
  {
   "cell_type": "code",
   "execution_count": null,
   "metadata": {},
   "outputs": [],
   "source": [
    "np.linalg.norm(LA.unit(tele_rec)*L_tele)"
   ]
  },
  {
   "cell_type": "code",
   "execution_count": null,
   "metadata": {},
   "outputs": [],
   "source": [
    "\n",
    "        \n",
    "    ang_x = 0\n",
    "    ang_y = 0\n",
    "    [ang_x,ang_y] = LA.beam_ang(beam,tele_rec,n)"
   ]
  },
  {
   "cell_type": "code",
   "execution_count": null,
   "metadata": {},
   "outputs": [],
   "source": [
    "#...adjust ps_send"
   ]
  },
  {
   "cell_type": "code",
   "execution_count": null,
   "metadata": {},
   "outputs": [],
   "source": []
  },
  {
   "cell_type": "code",
   "execution_count": null,
   "metadata": {},
   "outputs": [],
   "source": []
  },
  {
   "cell_type": "code",
   "execution_count": null,
   "metadata": {},
   "outputs": [],
   "source": []
  },
  {
   "cell_type": "code",
   "execution_count": null,
   "metadata": {},
   "outputs": [],
   "source": []
  },
  {
   "cell_type": "code",
   "execution_count": null,
   "metadata": {},
   "outputs": [],
   "source": []
  }
 ],
 "metadata": {
  "kernelspec": {
   "display_name": "Python 2",
   "language": "python",
   "name": "python2"
  },
  "language_info": {
   "codemirror_mode": {
    "name": "ipython",
    "version": 2
   },
   "file_extension": ".py",
   "mimetype": "text/x-python",
   "name": "python",
   "nbconvert_exporter": "python",
   "pygments_lexer": "ipython2",
   "version": "2.7.15"
  }
 },
 "nbformat": 4,
 "nbformat_minor": 2
}
