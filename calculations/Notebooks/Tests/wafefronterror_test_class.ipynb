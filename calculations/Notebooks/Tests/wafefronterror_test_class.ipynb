{
 "cells": [
  {
   "cell_type": "code",
   "execution_count": 1,
   "metadata": {},
   "outputs": [],
   "source": [
    "import PAA_LISA\n",
    "import NOISE_LISA\n",
    "import os"
   ]
  },
  {
   "cell_type": "code",
   "execution_count": 2,
   "metadata": {},
   "outputs": [],
   "source": [
    "%matplotlib inline\n",
    "\n",
    "import matplotlib.pyplot as plt\n",
    "import numpy as np\n",
    "import random\n",
    "import os\n",
    "from fractions import Fraction\n",
    "import math\n",
    "import datetime\n",
    "from scipy.interpolate import interp1d\n",
    "from scipy.interpolate import RegularGridInterpolator\n",
    "import warnings\n",
    "warnings.filterwarnings('ignore', 'The iteration is not making good progress')\n",
    "#warnings.filterwarnings(\"error\")\n",
    "import scipy.optimize\n",
    "\n",
    "year2sec=32536000\n",
    "day2sec=year2sec/365.25\n",
    "c=300000000"
   ]
  },
  {
   "cell_type": "code",
   "execution_count": 3,
   "metadata": {},
   "outputs": [
    {
     "name": "stdout",
     "output_type": "stream",
     "text": [
      "['positions_timestep_days_scale_1000.txt', 'Folkner_orbit_timestep_seconds_scale_10.txt', 'readable.py', 'NGO_1M_10deg_synthlisa_timestep_days_scale_1000.txt']\n",
      "['McKenzie_orbit_timestep_seconds_scale_1000.txt', 'Folkner_orbit_timestep_seconds_scale_1.txt', 'Hallion_2pt5G_orbits_pos_uniquedays_timestep_days_scale_1000.txt']\n",
      "['Folkner_orbit_timestep_seconds_scale_10.txt', 'NGO_1M_10deg_synthlisa_timestep_days_scale_1.txt', 'Folkner_orbit_timestep_seconds_scale_1.txt', 'NGO_1M_10deg_synthlisa_timestep_days_scale_1000.txt']\n",
      "Dir_extr:zzzWaluschka_no_abberation\n",
      "Dir_extr:zzzWaluschka_no_abberation\n",
      "Dir_extr:zzzWaluschka_no_abberation\n",
      "Dir_extr:zzzWaluschka_no_abberation\n",
      "Dir_extr:zzzWaluschka_no_abberation\n",
      "Dir_extr:zzzWaluschka_no_abberation\n",
      "Getting scale by filename:\n",
      "1000.0\n",
      "\n",
      "Getting timestep by filename:\n",
      "days\n",
      "\n",
      "Waluschka\n",
      "\n",
      "Importing Orbit\n",
      "20 datapoints\n",
      "Done in 0.028265\n",
      "Selected calculation method is: Waluschka\n",
      "\n",
      "Selected calculation method is: Waluschka\n",
      "\n",
      "Selected calculation method is: Waluschka\n",
      "\n",
      "Abberation: False\n",
      "\n",
      "\n",
      "test_calc: False\n",
      "Dir_extr:zzzWaluschka_no_abberation\n",
      "Dir_extr:zzzWaluschka_no_abberation\n",
      "Dir_extr:zzzWaluschka_no_abberation\n",
      "Dir_extr:zzzWaluschka_no_abberation\n"
     ]
    }
   ],
   "source": [
    "input_param = {\n",
    "        'calc_method': 'Waluschka',\n",
    "        'plot_on':False, #If plots will be made\n",
    "        'dir_savefig': os.getcwd(), # The directory where the figures will be saved. If False, it will be in the current working directory\n",
    "        'noise_check':False,\n",
    "        'home':'/home/ester/git/synthlisa/', # Home directory\n",
    "        'directory_imp': False,\n",
    "        'num_back': 0,\n",
    "        'dir_orbits': '/home/ester/git/synthlisa/orbits/', # Folder with orbit files\n",
    "        'length_calc': 20, # Length of number of imported datapoints of orbit files. 'all' is also possible\n",
    "        'dir_extr': 'zzzWaluschka_no_abberation', # This will be added to the folder name of the figures\n",
    "        'timeunit':'Default', # The timeunit of the plots (['minutes'],['days']['years'])\n",
    "        'LISA_opt':True, # If a LISA object from syntheticLISA will be used for further calculations (not sure if it works properly if this False)\n",
    "        'arm_influence': True, # Set True to consider the travel time of the photons when calculating the nominal armlengths\n",
    "        'tstep':False,\n",
    "        'delay':True, #'Not ahead' or False\n",
    "        'method':'fsolve', # Method used to solve the equation for the photon traveling time\n",
    "        'valorfunc':'Function', #\n",
    "        'select':'Hallion', # Select which orbit files will be imported ('all' is all)\n",
    "        'test_calc':False,\n",
    "        'abberation':False,\n",
    "        'delay': True\n",
    "        }\n",
    "\n",
    "data_all = PAA_LISA.runfile.do_run(input_param)"
   ]
  },
  {
   "cell_type": "code",
   "execution_count": 4,
   "metadata": {},
   "outputs": [],
   "source": [
    "for k in range(0,len(data_all)/2):\n",
    "    #data = PAA_res[str(k+1)]\n",
    "    data = data_all[str(k+1)]\n",
    "t_vec = data.t_all"
   ]
  },
  {
   "cell_type": "code",
   "execution_count": 5,
   "metadata": {},
   "outputs": [
    {
     "name": "stdout",
     "output_type": "stream",
     "text": [
      "Obtaining noise\n",
      "Obaining lasernoise\n",
      "Obtaining shotnoise\n"
     ]
    }
   ],
   "source": [
    "Ndata = NOISE_LISA.Noise(data=data)"
   ]
  },
  {
   "cell_type": "code",
   "execution_count": 6,
   "metadata": {},
   "outputs": [],
   "source": [
    "import NOISE_LISA"
   ]
  },
  {
   "cell_type": "code",
   "execution_count": 7,
   "metadata": {},
   "outputs": [],
   "source": [
    "wfe = NOISE_LISA.WFE(Ndata=Ndata)"
   ]
  },
  {
   "cell_type": "code",
   "execution_count": 8,
   "metadata": {},
   "outputs": [],
   "source": [
    "wfe.tele_control='full control'\n",
    "wfe.pupil(Nbins=40)\n",
    "wfe.side = 'r'\n",
    "wfe.scale = 1#1e-9 # Scales distance of SC\n",
    "\n",
    "wfe.speed_on = True # Makes calculation faster, only valid for long armlengths\n",
    "wfe.simple = True # CAlculates only 1 pixel"
   ]
  },
  {
   "cell_type": "code",
   "execution_count": 9,
   "metadata": {
    "scrolled": true
   },
   "outputs": [
    {
     "data": {
      "text/plain": [
       "True"
      ]
     },
     "execution_count": 9,
     "metadata": {},
     "output_type": "execute_result"
    }
   ],
   "source": [
    "wfe.speed_on"
   ]
  },
  {
   "cell_type": "code",
   "execution_count": 10,
   "metadata": {},
   "outputs": [
    {
     "data": {
      "text/plain": [
       "[False, False]"
      ]
     },
     "execution_count": 10,
     "metadata": {},
     "output_type": "execute_result"
    }
   ],
   "source": [
    "wfe.jitter"
   ]
  },
  {
   "cell_type": "code",
   "execution_count": 11,
   "metadata": {},
   "outputs": [
    {
     "name": "stdout",
     "output_type": "stream",
     "text": [
      "Simple mode is on, only calculating for center of receiving telescope\n",
      "Type of telescope control is: full control\n"
     ]
    },
    {
     "data": {
      "text/plain": [
       "-5.168675115229036e-17"
      ]
     },
     "execution_count": 11,
     "metadata": {},
     "output_type": "execute_result"
    }
   ],
   "source": [
    "wfe.phase_rec(1,t_vec[0])"
   ]
  },
  {
   "cell_type": "code",
   "execution_count": 12,
   "metadata": {},
   "outputs": [
    {
     "data": {
      "text/plain": [
       "0"
      ]
     },
     "execution_count": 12,
     "metadata": {},
     "output_type": "execute_result"
    }
   ],
   "source": [
    "psd_h = lambda f: 0#.00000001\n",
    "psd_v = lambda f: 0.0000001\n",
    "wfe.jitter_tele(4094,t_vec[-1],psd_h,psd_v)"
   ]
  },
  {
   "cell_type": "code",
   "execution_count": 13,
   "metadata": {
    "scrolled": true
   },
   "outputs": [
    {
     "data": {
      "text/plain": [
       "0"
      ]
     },
     "execution_count": 13,
     "metadata": {},
     "output_type": "execute_result"
    }
   ],
   "source": [
    "wfe.tele_control_ss(step_max=4,dt = 3600)"
   ]
  },
  {
   "cell_type": "code",
   "execution_count": 14,
   "metadata": {},
   "outputs": [
    {
     "data": {
      "text/plain": [
       "array(0.00923464)"
      ]
     },
     "execution_count": 14,
     "metadata": {},
     "output_type": "execute_result"
    }
   ],
   "source": [
    "wfe.tele_SS_l(1,12321)"
   ]
  },
  {
   "cell_type": "code",
   "execution_count": 15,
   "metadata": {},
   "outputs": [
    {
     "data": {
      "text/plain": [
       "(6.141406963056442e-14, 0.0, array([[6.141407e-14+0.j]], dtype=complex64))"
      ]
     },
     "execution_count": 15,
     "metadata": {},
     "output_type": "execute_result"
    }
   ],
   "source": [
    "i=1\n",
    "t = t_vec[2]\n",
    "wfe.phi_gauss(i,t,0,0,side='l')"
   ]
  },
  {
   "cell_type": "code",
   "execution_count": 16,
   "metadata": {},
   "outputs": [
    {
     "name": "stdout",
     "output_type": "stream",
     "text": [
      "Simple mode is on, only calculating for center of receiving telescope\n",
      "Type of telescope control is: SS\n"
     ]
    },
    {
     "data": {
      "text/plain": [
       "0.0"
      ]
     },
     "execution_count": 16,
     "metadata": {},
     "output_type": "execute_result"
    }
   ],
   "source": [
    "wfe.simple = True\n",
    "wfe.phase_rec(i,t,side='l')"
   ]
  },
  {
   "cell_type": "code",
   "execution_count": 17,
   "metadata": {},
   "outputs": [
    {
     "name": "stdout",
     "output_type": "stream",
     "text": [
      "Simple mode is off, calculating over whole aperture receiving telescope\n",
      "Type of telescope control is: SS\n"
     ]
    }
   ],
   "source": [
    "wfe.simple = False\n",
    "ps = wfe.phase_rec(i,t,side='l')"
   ]
  },
  {
   "cell_type": "code",
   "execution_count": 18,
   "metadata": {},
   "outputs": [
    {
     "data": {
      "image/png": "[encoded data removed]",
      "text/plain": [
       "<Figure size 432x288 with 2 Axes>"
      ]
     },
     "execution_count": 18,
     "metadata": {},
     "output_type": "execute_result"
    },
    {
     "data": {
      "image/png": "[encoded data removed]",
      "text/plain": [
       "<Figure size 432x288 with 2 Axes>"
      ]
     },
     "metadata": {},
     "output_type": "display_data"
    }
   ],
   "source": [
    "wfe.plot_aperture([np.real(ps)])"
   ]
  },
  {
   "cell_type": "code",
   "execution_count": 19,
   "metadata": {},
   "outputs": [],
   "source": [
    "import opticspy"
   ]
  },
  {
   "cell_type": "code",
   "execution_count": 20,
   "metadata": {},
   "outputs": [],
   "source": [
    "def Zmn(m,n,zmag,thmn,rho,phi):\n",
    "    index = str(m)+str(n)\n",
    "    print(index)\n",
    "    if index in zmag.keys():\n",
    "        mag= zmag[index]\n",
    "        indexth = str(abs(m))+str(n)\n",
    "        print(mag)\n",
    "        if indexth in thmn.keys():\n",
    "            th = thmn[indexth]\n",
    "            print(th)\n",
    "        else:\n",
    "            th = 0\n",
    "    else:\n",
    "        mag=0\n",
    "            \n",
    "    if mag!=0:\n",
    "        if m<0:\n",
    "            Zmn_ret = Rmn_calc(-m,n,rho)*np.exp(1j*m*phi)\n",
    "            mag = mag*np.exp(-1j*th)\n",
    "        elif m>=0:\n",
    "            Zmn_ret = Rmn_calc(m,n,rho)*np.exp(1j*m*phi)\n",
    "            mag = mag*np.exp(1j*th)\n",
    "    else:\n",
    "        Zmn_ret = 0\n",
    "        \n",
    "    return mag*Zmn_ret\n",
    "\n"
   ]
  },
  {
   "cell_type": "code",
   "execution_count": 21,
   "metadata": {},
   "outputs": [],
   "source": [
    "scale = 1e-9 #nm\n",
    "#scale = (scale*2*np.pi)/Ndata.data.labda\n",
    "zmn={}\n",
    "zmn['02'] = 1.71*scale\n",
    "zmn['22']= 12.6*scale\n",
    "zmn['13']=6.54*scale\n",
    "zmn['33']=5.46*scale\n",
    "zmn['04']=3.53*scale\n",
    "\n",
    "thmn={}\n",
    "thmn['02'] = 0\n",
    "thmn['04'] = 0\n",
    "thmn['22'] = -0.97\n",
    "thmn['13'] = 1.95\n",
    "thmn['33'] = -0.26\n"
   ]
  },
  {
   "cell_type": "code",
   "execution_count": 22,
   "metadata": {},
   "outputs": [
    {
     "data": {
      "text/plain": [
       "1.065e-06"
      ]
     },
     "execution_count": 22,
     "metadata": {},
     "output_type": "execute_result"
    }
   ],
   "source": [
    "Ndata.data.labda"
   ]
  },
  {
   "cell_type": "code",
   "execution_count": null,
   "metadata": {},
   "outputs": [],
   "source": []
  },
  {
   "cell_type": "code",
   "execution_count": null,
   "metadata": {},
   "outputs": [],
   "source": []
  },
  {
   "cell_type": "code",
   "execution_count": 84,
   "metadata": {},
   "outputs": [],
   "source": [
    "def Rmn_calc(m,n,rho,phi):\n",
    "    R=0\n",
    "    m_new = m\n",
    "    m = abs(m)\n",
    "    for k in range(0,int((n-m)/2)+1):\n",
    "        R = R+(((-1**k)*math.factorial(n-k))/(math.factorial(k)*math.factorial(int((n+m)/2)-k)*math.factorial(int((n+m)/2)-k)))*(rho**(n-2*k))\n",
    "    if m_new<0:\n",
    "        R = R*np.sin(abs(m)*phi)\n",
    "    else:\n",
    "        R = R*np.cos(abs(m)*phi)\n",
    "    return R\n",
    "\n",
    "def Cmn_calc(m,n,rho,phi,Cmn,thmn):\n",
    "    index = str(m)+str(n)\n",
    "    if index in Cmn.keys():\n",
    "        if m<0:    \n",
    "            ret = Rmn_calc(abs(m),n,rho,phi)*abs(Cmn[index])*np.cos(1j*thmn[str(abs(m))+str(n)])\n",
    "        elif m>=0:\n",
    "            ret = Rmn_calc(m,n,rho,phi)*abs(Cmn[index])*np.sin(1j*thmn[str(abs(m))+str(n)])\n",
    "    else:\n",
    "        ret=0\n",
    "    \n",
    "    return ret\n",
    "    \n",
    "def Zmn(m,n,rho,th):\n",
    "    z=0\n",
    "    if n==0:\n",
    "        if m==0:\n",
    "            z = 1\n",
    "    elif n==1:\n",
    "        if m==-1:\n",
    "            z = 2*rho*np.sin(th)\n",
    "        elif m==1:\n",
    "            z = 2*rho*np.cos(th)\n",
    "    elif n==2:\n",
    "        if m==-2:\n",
    "            z = (6**0.5)*(rho**2)*np.sin(2*th)\n",
    "        elif m==2:\n",
    "            z = (6**0.5)*(rho**2)*np.cos(2*th)\n",
    "        elif m==0:\n",
    "            z = (3**0.5)*(2*(rho**2)-1)\n",
    "    elif n==3:\n",
    "        if m==-3:\n",
    "            z = (8**0.5)*((rho**3)*np.sin(3*th))\n",
    "        elif m==-1:\n",
    "            z = (8**0.5)*(3*(rho**3)-2*rho)*np.sin(3*th)\n",
    "        elif m==1:\n",
    "            z = (8**0.5)*(3*(rho**3)-2*rho)*np.cos(3*th)\n",
    "        elif m==3:\n",
    "            z = (8**0.5)*((rho**3)*np.cos(3*th))\n",
    "    elif n==4:\n",
    "        if m==0:\n",
    "            z = (10**0.5)*(6*(rho**4) - 6*(rho**2) +1)\n",
    "    \n",
    "    return z    "
   ]
  },
  {
   "cell_type": "code",
   "execution_count": 85,
   "metadata": {},
   "outputs": [],
   "source": [
    "def wfe0(X,Y,nmax,Cmn={},thmn={},rs=0):\n",
    "    rho = X**2+Y**2\n",
    "    if X>0:\n",
    "        phi=np.sign(Y)*abs(np.arctan(abs(Y/X)))\n",
    "    elif X<0:\n",
    "        phi=np.pi - np.sign(Y)*abs(np.arctan(abs(Y/X)))\n",
    "    elif X==0:\n",
    "        phi = np.pi*0.5\n",
    "    func= []\n",
    "    func_tot = 0\n",
    "    indexlist=[]\n",
    "    for n in range(0,nmax+1):\n",
    "        for m in range(-n,n+1):\n",
    "            if (n%2==0 and m%2==0) or (n%2==1 and m%2==1):\n",
    "                index = str(abs(m))+str(n)\n",
    "                if index in Cmn.keys():\n",
    "                    C = Cmn[index]\n",
    "                    if index in thmn.keys():\n",
    "                        C = C*np.exp(np.sign(m)*1j*thmn[index])\n",
    "                else:\n",
    "                    C=0\n",
    "                #func.append(Zmn(m,n,rho,phi)*C)\\\n",
    "                func.append(Rmn_calc(m,n,rho,phi)*C)\n",
    "                func_tot = func_tot+func[-1]\n",
    "                indexlist.append([m,n])\n",
    "    \n",
    "    return func, func_tot,func[rs],indexlist"
   ]
  },
  {
   "cell_type": "code",
   "execution_count": 25,
   "metadata": {},
   "outputs": [],
   "source": [
    "zernlist,zern = lambda X,Y: wfe0(X,Y,4,Cmn=zmn,thmn=thmn)[0],lambda X,Y: wfe0(X,Y,4,Cmn=zmn,thmn=thmn)[1]"
   ]
  },
  {
   "cell_type": "code",
   "execution_count": 26,
   "metadata": {},
   "outputs": [
    {
     "name": "stdout",
     "output_type": "stream",
     "text": [
      "Type of telescope control is: SS\n"
     ]
    }
   ],
   "source": [
    "A = wfe.aperture(wfe.xlist,wfe.ylist,zern,dType=np.float64)"
   ]
  },
  {
   "cell_type": "code",
   "execution_count": 27,
   "metadata": {},
   "outputs": [
    {
     "data": {
      "text/plain": [
       "<matplotlib.colorbar.Colorbar at 0x7f302d28c210>"
      ]
     },
     "execution_count": 27,
     "metadata": {},
     "output_type": "execute_result"
    },
    {
     "data": {
      "image/png": "[encoded data removed]",
      "text/plain": [
       "<Figure size 432x288 with 2 Axes>"
      ]
     },
     "metadata": {},
     "output_type": "display_data"
    }
   ],
   "source": [
    "f,ax = plt.subplots(1,1)\n",
    "p = ax.matshow(A,cmap='magma')\n",
    "f.colorbar(p,ax=ax)\n"
   ]
  },
  {
   "cell_type": "code",
   "execution_count": 28,
   "metadata": {},
   "outputs": [
    {
     "name": "stdout",
     "output_type": "stream",
     "text": [
      "Type of telescope control is: SS\n",
      "Type of telescope control is: SS\n",
      "Type of telescope control is: SS\n",
      "Type of telescope control is: SS\n",
      "Type of telescope control is: SS\n",
      "Type of telescope control is: SS\n",
      "Type of telescope control is: SS\n",
      "Type of telescope control is: SS\n",
      "Type of telescope control is: SS\n",
      "Type of telescope control is: SS\n",
      "Type of telescope control is: SS\n",
      "Type of telescope control is: SS\n",
      "Type of telescope control is: SS\n",
      "Type of telescope control is: SS\n",
      "Type of telescope control is: SS\n"
     ]
    },
    {
     "data": {
      "image/png": "[encoded data removed]",
      "text/plain": [
       "<Figure size 10800x720 with 30 Axes>"
      ]
     },
     "metadata": {},
     "output_type": "display_data"
    },
    {
     "data": {
      "image/png": "[encoded data removed]",
      "text/plain": [
       "<Figure size 288x288 with 1 Axes>"
      ]
     },
     "metadata": {},
     "output_type": "display_data"
    },
    {
     "data": {
      "image/png": "[encoded data removed]",
      "text/plain": [
       "<Figure size 288x288 with 1 Axes>"
      ]
     },
     "metadata": {},
     "output_type": "display_data"
    },
    {
     "data": {
      "image/png": "[encoded data removed]",
      "text/plain": [
       "<Figure size 288x288 with 1 Axes>"
      ]
     },
     "metadata": {},
     "output_type": "display_data"
    },
    {
     "data": {
      "image/png": "[encoded data removed]",
      "text/plain": [
       "<Figure size 288x288 with 1 Axes>"
      ]
     },
     "metadata": {},
     "output_type": "display_data"
    },
    {
     "data": {
      "image/png": "[encoded data removed]",
      "text/plain": [
       "<Figure size 288x288 with 1 Axes>"
      ]
     },
     "metadata": {},
     "output_type": "display_data"
    },
    {
     "data": {
      "image/png": "[encoded data removed]",
      "text/plain": [
       "<Figure size 288x288 with 1 Axes>"
      ]
     },
     "metadata": {},
     "output_type": "display_data"
    },
    {
     "data": {
      "image/png": "[encoded data removed]",
      "text/plain": [
       "<Figure size 288x288 with 1 Axes>"
      ]
     },
     "metadata": {},
     "output_type": "display_data"
    },
    {
     "data": {
      "image/png": "[encoded data removed]",
      "text/plain": [
       "<Figure size 288x288 with 1 Axes>"
      ]
     },
     "metadata": {},
     "output_type": "display_data"
    },
    {
     "data": {
      "image/png": "[encoded data removed]",
      "text/plain": [
       "<Figure size 288x288 with 1 Axes>"
      ]
     },
     "metadata": {},
     "output_type": "display_data"
    },
    {
     "data": {
      "image/png": "[encoded data removed]",
      "text/plain": [
       "<Figure size 288x288 with 1 Axes>"
      ]
     },
     "metadata": {},
     "output_type": "display_data"
    },
    {
     "data": {
      "image/png": "[encoded data removed]",
      "text/plain": [
       "<Figure size 288x288 with 1 Axes>"
      ]
     },
     "metadata": {},
     "output_type": "display_data"
    },
    {
     "data": {
      "image/png": "[encoded data removed]",
      "text/plain": [
       "<Figure size 288x288 with 1 Axes>"
      ]
     },
     "metadata": {},
     "output_type": "display_data"
    },
    {
     "data": {
      "image/png": "[encoded data removed]",
      "text/plain": [
       "<Figure size 288x288 with 1 Axes>"
      ]
     },
     "metadata": {},
     "output_type": "display_data"
    },
    {
     "data": {
      "image/png": "[encoded data removed]",
      "text/plain": [
       "<Figure size 288x288 with 1 Axes>"
      ]
     },
     "metadata": {},
     "output_type": "display_data"
    },
    {
     "data": {
      "image/png": "[encoded data removed]",
      "text/plain": [
       "<Figure size 288x288 with 1 Axes>"
      ]
     },
     "metadata": {},
     "output_type": "display_data"
    }
   ],
   "source": [
    "rs=16\n",
    "q = wfe0(0,0,4,Cmn=zmn,thmn=thmn)[3]\n",
    "f,ax = plt.subplots(len(q),1,figsize=(10*len(q),10))\n",
    "for rs in range(0,len(q)):\n",
    "    Z = lambda X,Y: wfe0(X,Y,10,Cmn=zmn,thmn=thmn,rs=rs)[2]\n",
    "    A = wfe.aperture(wfe.xlist,wfe.ylist,Z,dType=np.float64)\n",
    "    p = plt.matshow(A,cmap='magma')\n",
    "    plt.title('m='+str(q[rs][0])+', n='+str(q[rs][1]))\n",
    "    f.colorbar(p)\n"
   ]
  },
  {
   "cell_type": "code",
   "execution_count": 29,
   "metadata": {},
   "outputs": [],
   "source": [
    "\n",
    "m=1\n",
    "n=3\n",
    "def zern(m,n,zmn,thmn):\n",
    "    ps = np.empty((wfe.Nbinsx,wfe.Nbinsy),dtype=np.float64)\n",
    "    for i in range(0,len(wfe.xlist)):\n",
    "        for j in range(0,len(wfe.ylist)):\n",
    "            x = wfe.xlist[i]\n",
    "            y = wfe.ylist[j]\n",
    "            rho = (x**2+y**2)**0.5\n",
    "            if x>0:\n",
    "                phi=np.sign(y)*abs(np.arctan(abs(y/x)))\n",
    "            elif x<0:\n",
    "                phi=np.pi - np.sign(y)*abs(np.arctan(abs(y/x)))\n",
    "            elif x==0:\n",
    "                phi = np.pi*0.5\n",
    "\n",
    "            if rho<= wfe.xlist[-1]:\n",
    "                ps[i,j] = Cmn_calc(m,n,rho,phi,zmn,thmn)\n",
    "            else:\n",
    "                ps[i,j] = np.nan\n",
    "    return ps"
   ]
  },
  {
   "cell_type": "code",
   "execution_count": 30,
   "metadata": {},
   "outputs": [
    {
     "data": {
      "text/plain": [
       "<matplotlib.image.AxesImage at 0x7f302921b350>"
      ]
     },
     "execution_count": 30,
     "metadata": {},
     "output_type": "execute_result"
    },
    {
     "data": {
      "image/png": "[encoded data removed]",
      "text/plain": [
       "<Figure size 288x288 with 1 Axes>"
      ]
     },
     "metadata": {},
     "output_type": "display_data"
    }
   ],
   "source": [
    "plt.matshow(zern(0,4,zmn,thmn),cmap='magma')"
   ]
  },
  {
   "cell_type": "code",
   "execution_count": 31,
   "metadata": {},
   "outputs": [],
   "source": [
    "count=0\n",
    "ps_list = []\n",
    "for keys in zmn.keys():\n",
    "    m=int(keys[0])\n",
    "    n=int(keys[1])\n",
    "    if count==0:\n",
    "        ps = zern(m,n,zmn,thmn)\n",
    "    else:\n",
    "        ps = ps + zern(m,n,zmn,thmn)\n",
    "    ps = ps + zern(-m,n,zmn,thmn)\n",
    "    "
   ]
  },
  {
   "cell_type": "code",
   "execution_count": 32,
   "metadata": {},
   "outputs": [
    {
     "data": {
      "text/plain": [
       "<matplotlib.colorbar.Colorbar at 0x7f30291243d0>"
      ]
     },
     "execution_count": 32,
     "metadata": {},
     "output_type": "execute_result"
    },
    {
     "data": {
      "image/png": "[encoded data removed]",
      "text/plain": [
       "<Figure size 288x288 with 2 Axes>"
      ]
     },
     "metadata": {},
     "output_type": "display_data"
    }
   ],
   "source": [
    "plt.matshow(ps,cmap='magma')\n",
    "plt.colorbar()"
   ]
  },
  {
   "cell_type": "code",
   "execution_count": 33,
   "metadata": {},
   "outputs": [
    {
     "ename": "IndexError",
     "evalue": "list index out of range",
     "output_type": "error",
     "traceback": [
      "\u001b[0;31m---------------------------------------------------------------------------\u001b[0m",
      "\u001b[0;31mIndexError\u001b[0m                                Traceback (most recent call last)",
      "\u001b[0;32m<ipython-input-33-10f2e1a088d0>\u001b[0m in \u001b[0;36m<module>\u001b[0;34m()\u001b[0m\n\u001b[0;32m----> 1\u001b[0;31m \u001b[0mplt\u001b[0m\u001b[0;34m.\u001b[0m\u001b[0mmatshow\u001b[0m\u001b[0;34m(\u001b[0m\u001b[0mps_list\u001b[0m\u001b[0;34m[\u001b[0m\u001b[0;36m2\u001b[0m\u001b[0;34m]\u001b[0m\u001b[0;34m,\u001b[0m\u001b[0mcmap\u001b[0m\u001b[0;34m=\u001b[0m\u001b[0;34m'magma'\u001b[0m\u001b[0;34m)\u001b[0m\u001b[0;34m\u001b[0m\u001b[0m\n\u001b[0m\u001b[1;32m      2\u001b[0m \u001b[0mplt\u001b[0m\u001b[0;34m.\u001b[0m\u001b[0mcolorbar\u001b[0m\u001b[0;34m(\u001b[0m\u001b[0;34m)\u001b[0m\u001b[0;34m\u001b[0m\u001b[0m\n",
      "\u001b[0;31mIndexError\u001b[0m: list index out of range"
     ]
    }
   ],
   "source": [
    "plt.matshow(ps_list[2],cmap='magma')\n",
    "plt.colorbar()"
   ]
  },
  {
   "cell_type": "code",
   "execution_count": 91,
   "metadata": {},
   "outputs": [
    {
     "data": {
      "text/plain": [
       "0.0001593124708647737"
      ]
     },
     "execution_count": 91,
     "metadata": {},
     "output_type": "execute_result"
    }
   ],
   "source": [
    "zmn['11']*np.sin(thmn['11'])"
   ]
  },
  {
   "cell_type": "code",
   "execution_count": 95,
   "metadata": {},
   "outputs": [],
   "source": [
    "i=1\n",
    "side='l'\n",
    "t=t_vec[2]\n",
    "ksi = np.array([wfe.Ndata.data.PAA_func['l_out'](i,t),wfe.tele_SS_l(i,t)])*1e9\n",
    "thmn['11'] = np.arctan(ksi[1]/ksi[0])\n",
    "zmn['11'] = np.linalg.norm(ksi)"
   ]
  },
  {
   "cell_type": "code",
   "execution_count": 96,
   "metadata": {},
   "outputs": [
    {
     "data": {
      "text/plain": [
       "<matplotlib.colorbar.Colorbar at 0x7f302aa60790>"
      ]
     },
     "execution_count": 96,
     "metadata": {},
     "output_type": "execute_result"
    },
    {
     "data": {
      "image/png": "[encoded data removed]",
      "text/plain": [
       "<Figure size 288x288 with 2 Axes>"
      ]
     },
     "metadata": {},
     "output_type": "display_data"
    }
   ],
   "source": [
    "plt.matshow(zern(-1,1,zmn,thmn),cmap='magma')\n",
    "plt.colorbar()"
   ]
  },
  {
   "cell_type": "code",
   "execution_count": 97,
   "metadata": {},
   "outputs": [
    {
     "data": {
      "text/plain": [
       "<matplotlib.colorbar.Colorbar at 0x7f302a9fa6d0>"
      ]
     },
     "execution_count": 97,
     "metadata": {},
     "output_type": "execute_result"
    },
    {
     "data": {
      "image/png": "[encoded data removed]",
      "text/plain": [
       "<Figure size 288x288 with 2 Axes>"
      ]
     },
     "metadata": {},
     "output_type": "display_data"
    }
   ],
   "source": [
    "plt.matshow(zern(1,1,zmn,thmn),cmap='magma')\n",
    "plt.colorbar()"
   ]
  },
  {
   "cell_type": "code",
   "execution_count": 98,
   "metadata": {},
   "outputs": [
    {
     "data": {
      "text/plain": [
       "-0.0"
      ]
     },
     "execution_count": 98,
     "metadata": {},
     "output_type": "execute_result"
    }
   ],
   "source": [
    "zern(1,1,zmn,thmn)[20,30]"
   ]
  },
  {
   "cell_type": "code",
   "execution_count": 94,
   "metadata": {},
   "outputs": [
    {
     "data": {
      "text/plain": [
       "0.0"
      ]
     },
     "execution_count": 94,
     "metadata": {},
     "output_type": "execute_result"
    }
   ],
   "source": [
    "zern(-1,1,zmn,thmn)[20,30]"
   ]
  },
  {
   "cell_type": "code",
   "execution_count": 41,
   "metadata": {},
   "outputs": [
    {
     "data": {
      "text/plain": [
       "{'02': 0, '04': 0, '13': 1.95, '22': -0.97, '33': -0.26}"
      ]
     },
     "execution_count": 41,
     "metadata": {},
     "output_type": "execute_result"
    }
   ],
   "source": []
  },
  {
   "cell_type": "code",
   "execution_count": null,
   "metadata": {},
   "outputs": [],
   "source": []
  },
  {
   "cell_type": "code",
   "execution_count": null,
   "metadata": {},
   "outputs": [],
   "source": []
  },
  {
   "cell_type": "code",
   "execution_count": null,
   "metadata": {},
   "outputs": [],
   "source": []
  },
  {
   "cell_type": "markdown",
   "metadata": {},
   "source": [
    "ps_all = []\n",
    "I_all = []\n",
    "for t in t_vec[0:50]:\n",
    "    ps_all.append(wfe.phase_rec(1,t))\n",
    "    I_all.append(wfe.I_rec(1,t))\n",
    "    \n"
   ]
  },
  {
   "cell_type": "markdown",
   "metadata": {},
   "source": [
    "plt.plot(ps_all)"
   ]
  },
  {
   "cell_type": "markdown",
   "metadata": {},
   "source": [
    "a = np.linspace(0,10,11)"
   ]
  },
  {
   "cell_type": "markdown",
   "metadata": {
    "scrolled": true
   },
   "source": [
    "a+1"
   ]
  },
  {
   "cell_type": "markdown",
   "metadata": {},
   "source": [
    "wfe.jitter[0][1]"
   ]
  },
  {
   "cell_type": "markdown",
   "metadata": {},
   "source": []
  },
  {
   "cell_type": "markdown",
   "metadata": {},
   "source": []
  },
  {
   "cell_type": "markdown",
   "metadata": {},
   "source": []
  },
  {
   "cell_type": "markdown",
   "metadata": {},
   "source": []
  },
  {
   "cell_type": "markdown",
   "metadata": {},
   "source": [
    "#wfe.plot_aperture([ps_all[0]])"
   ]
  },
  {
   "cell_type": "markdown",
   "metadata": {},
   "source": [
    "#wfe.plot_aperture([I_all[0]],vlim=False,mode='I')"
   ]
  },
  {
   "cell_type": "markdown",
   "metadata": {},
   "source": [
    "ps_func_l = lambda i,time: np.nansum(wfe.phase_rec(i,time))"
   ]
  },
  {
   "cell_type": "markdown",
   "metadata": {},
   "source": [
    "#y=[]\n",
    "#i=1\n",
    "#t_plot = np.linspace(t_vec[2],t_vec[2]+3600*4,50)\n",
    "#for t in t_plot:\n",
    "#    y_new = ps_func_l(i,t)\n",
    "#    y.append(y_new)\n",
    "#plt.plot(t_plot,y)"
   ]
  },
  {
   "cell_type": "markdown",
   "metadata": {},
   "source": [
    "#x = []\n",
    "#y = []\n",
    "#dt = t_vec[1] - t_vec[0]\n",
    "#t_end = 100*dt\n",
    "#t = t_vec[0]\n",
    "#while t <= t_end:\n",
    "#    print(t)\n",
    "#    y.append(data.ang_breathing_din(1,t))\n",
    "#    x.append(t)\n",
    "#    t = t+dt\n",
    "#plt.plot(x,y)"
   ]
  },
  {
   "cell_type": "markdown",
   "metadata": {},
   "source": [
    "psd_h = lambda f: 0.001\n",
    "psd_v = lambda f: 0.0000001\n",
    "a = Ndata.Noise_time(0.0001,0.1,4096,psd_h,t_vec[1])\n",
    "b,jitter_v = Ndata.Noise_time(0.0001,0.1,4096,psd_v,t_vec[1])\n"
   ]
  },
  {
   "cell_type": "markdown",
   "metadata": {},
   "source": [
    "#plt.plot(a[1])\n",
    "plt.plot(b[1])\n",
    "#plt.plot(a[1]-b[1])"
   ]
  },
  {
   "cell_type": "markdown",
   "metadata": {},
   "source": [
    "len(a)"
   ]
  },
  {
   "cell_type": "markdown",
   "metadata": {},
   "source": [
    "from control import * # package for control theory calculations\n",
    "from control.matlab import * # package for control theory calculations"
   ]
  },
  {
   "cell_type": "markdown",
   "metadata": {},
   "source": [
    "sys = tf([np.radians(30)], [1,20000,1]) # Define a transfer function C/R = 2/(s^2+2s+2)\n",
    "#sys = tf([np.radians(30)], [1]) # Define a transfer function C/R = 2/(s^2+2s+2)\n",
    "\n",
    "Tv = np.arange(0, 10, 0.1) # Define simulation window between t=0 and t=10 with 0.1 increment\n",
    "Cstep, _ = step(sys, T=Tv) # Compute step response\n",
    "plt.plot(Tv, Cstep) # Sketch the step response"
   ]
  },
  {
   "cell_type": "markdown",
   "metadata": {},
   "source": [
    "\n"
   ]
  },
  {
   "cell_type": "markdown",
   "metadata": {},
   "source": [
    "N=100\n",
    "dt=1\n",
    "t = np.linspace(0,N*3*dt,N*3)\n",
    "U = [2]*N+[1]*N+[4]*N\n",
    "X0 = 2\n",
    "yout = lsim(sys,U=U,T=t,X0=X0)"
   ]
  },
  {
   "cell_type": "markdown",
   "metadata": {},
   "source": [
    "plt.plot(yout[1],yout[0])"
   ]
  },
  {
   "cell_type": "markdown",
   "metadata": {},
   "source": [
    "print(yout[0][0])\n",
    "print(np.radians(30)*2)"
   ]
  },
  {
   "cell_type": "markdown",
   "metadata": {},
   "source": [
    "# tele SS\n",
    "t_day = t_vec/day2sec\n",
    "LA = PAA_LISA.utils.la()"
   ]
  },
  {
   "cell_type": "markdown",
   "metadata": {},
   "source": [
    "def flatten(y):\n",
    "    ynew=[]\n",
    "    for i in range(0,len(y)):\n",
    "        try:\n",
    "            for j in range(0,len(y[i])):\n",
    "                ynew.append(y[i][j])\n",
    "        except TypeError:\n",
    "            ynew.append(y[i])\n",
    "    \n",
    "    return ynew"
   ]
  },
  {
   "cell_type": "markdown",
   "metadata": {},
   "source": [
    "U=[]\n",
    "t=[]\n",
    "\n",
    "i=1\n",
    "N = 3600*24\n",
    "for j in range(0,len(t_vec[0:4])):\n",
    "    tele = LA.angle(Ndata.tele_l_fc(i,t_vec[j]),Ndata.data.r_func(i,t_vec[j]))\n",
    "    if j==0:\n",
    "        X0 = tele\n",
    "        U.append([X0]*(N-1))\n",
    "    else:\n",
    "        U.append([tele]*N)\n",
    "    t.append([t_vec[j]]*N)"
   ]
  },
  {
   "cell_type": "markdown",
   "metadata": {},
   "source": [
    "yout = lsim(sys,U=flatten(U),T=flatten(t),X0=X0)"
   ]
  },
  {
   "cell_type": "markdown",
   "metadata": {},
   "source": []
  },
  {
   "cell_type": "markdown",
   "metadata": {},
   "source": [
    "T = np.linspace(0,3600*24,3600*24+1)\n",
    "yout = lsim(sys,T=T,U=1,X0 = 0)"
   ]
  },
  {
   "cell_type": "markdown",
   "metadata": {},
   "source": [
    "plt.plot(yout[1],yout[0])"
   ]
  },
  {
   "cell_type": "markdown",
   "metadata": {},
   "source": [
    "sys = tf([np.radians(30)], [1,20000,1]) # Define a transfer function C/R = 2/(s^2+2s+2)"
   ]
  },
  {
   "cell_type": "markdown",
   "metadata": {},
   "source": [
    "Ndata.t_all"
   ]
  },
  {
   "cell_type": "markdown",
   "metadata": {},
   "source": [
    "t_calc = t_vec[0:5]\n",
    "T = np.linspace(0,t_calc[1],int(t_calc[1])+1)\n",
    "\n",
    "yout=[]\n",
    "d30 = np.radians(30)\n",
    "\n",
    "for t in t_calc[0:len(t_calc)-1]:\n",
    "    print(t)\n",
    "    if t==t_calc[0]:\n",
    "        X0 = LA.angle(Ndata.tele_l_fc(i,t),Ndata.data.r_func(i,t))/d30\n",
    "    else:\n",
    "        X0 = (yout_calc[-1])/d30\n",
    "    U = LA.angle(Ndata.tele_l_fc(i,t+T[-1]),Ndata.data.r_func(i,t+T[-1]))/d30\n",
    "    U = U*1\n",
    "    print(X0,U)\n",
    "    \n",
    "    K = d30*X0\n",
    "    #sys = tf([K], [1,20000,1]) # Define a transfer function C/R = 2/(s^2+2s+2)\n",
    "    \n",
    "    yout_calc = lsim(sys,T=T,U=U,X0 = X0)[0]\n",
    "    plt.plot(yout_calc)\n",
    "    yout.append(yout_calc)\n",
    "    print(yout_calc[0],yout_calc[-1])"
   ]
  },
  {
   "cell_type": "markdown",
   "metadata": {},
   "source": [
    "yout_calc"
   ]
  },
  {
   "cell_type": "markdown",
   "metadata": {},
   "source": [
    "T = T\n",
    "for i in range(0,len(yout)):\n",
    "    x = T+i*T[-1]\n",
    "    plt.plot(x,yout[i])\n",
    "T_all = np.linspace(T[0],T[-1]*len(yout),len(T)*len(yout))"
   ]
  },
  {
   "cell_type": "markdown",
   "metadata": {},
   "source": [
    "youtnew = []\n",
    "for i in range(0,len(yout)):\n",
    "    for j in range(0,len(yout[i])):\n",
    "        youtnew.append(yout[i][j])\n",
    "f = interp1d(T_all,youtnew,bounds_error=False)\n",
    "\n",
    "\n",
    "#plt.plot(youtnew)"
   ]
  },
  {
   "cell_type": "markdown",
   "metadata": {},
   "source": [
    "f_tot = lambda t: f(t) +jitter_v(t)*0.01"
   ]
  },
  {
   "cell_type": "markdown",
   "metadata": {},
   "source": [
    "output = []\n",
    "for t in T_all:\n",
    "    output.append(f_tot(t))\n",
    "plt.plot(output)"
   ]
  },
  {
   "cell_type": "markdown",
   "metadata": {},
   "source": []
  },
  {
   "cell_type": "markdown",
   "metadata": {},
   "source": []
  },
  {
   "cell_type": "markdown",
   "metadata": {},
   "source": [
    "plt.plot(z[0])"
   ]
  },
  {
   "cell_type": "markdown",
   "metadata": {},
   "source": []
  }
 ],
 "metadata": {
  "kernelspec": {
   "display_name": "Python 2",
   "language": "python",
   "name": "python2"
  },
  "language_info": {
   "codemirror_mode": {
    "name": "ipython",
    "version": 2
   },
   "file_extension": ".py",
   "mimetype": "text/x-python",
   "name": "python",
   "nbconvert_exporter": "python",
   "pygments_lexer": "ipython2",
   "version": "2.7.15"
  }
 },
 "nbformat": 4,
 "nbformat_minor": 2
}
