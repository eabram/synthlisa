{
 "cells": [
  {
   "cell_type": "code",
   "execution_count": 1,
   "metadata": {},
   "outputs": [],
   "source": [
    "import PAA_LISA\n",
    "import NOISE_LISA\n",
    "import os"
   ]
  },
  {
   "cell_type": "code",
   "execution_count": 2,
   "metadata": {},
   "outputs": [],
   "source": [
    "%matplotlib inline\n",
    "\n",
    "import matplotlib.pyplot as plt\n",
    "import numpy as np\n",
    "import random\n",
    "import os\n",
    "from fractions import Fraction\n",
    "import math\n",
    "import datetime\n",
    "from scipy.interpolate import interp1d\n",
    "from scipy.interpolate import RegularGridInterpolator\n",
    "import warnings\n",
    "warnings.filterwarnings('ignore', 'The iteration is not making good progress')\n",
    "#warnings.filterwarnings(\"error\")\n",
    "import scipy.optimize\n",
    "\n",
    "year2sec=32536000\n",
    "day2sec=year2sec/365.25\n",
    "c=300000000"
   ]
  },
  {
   "cell_type": "code",
   "execution_count": 3,
   "metadata": {},
   "outputs": [
    {
     "name": "stdout",
     "output_type": "stream",
     "text": [
      "['positions_timestep_days_scale_1000.txt', 'Folkner_orbit_timestep_seconds_scale_10.txt', 'readable.py', 'NGO_1M_10deg_synthlisa_timestep_days_scale_1000.txt']\n",
      "['McKenzie_orbit_timestep_seconds_scale_1000.txt', 'Folkner_orbit_timestep_seconds_scale_1.txt', 'Hallion_2pt5G_orbits_pos_uniquedays_timestep_days_scale_1000.txt']\n",
      "['Folkner_orbit_timestep_seconds_scale_10.txt', 'NGO_1M_10deg_synthlisa_timestep_days_scale_1.txt', 'Folkner_orbit_timestep_seconds_scale_1.txt', 'NGO_1M_10deg_synthlisa_timestep_days_scale_1000.txt']\n",
      "Dir_extr:zzzWaluschka_no_abberation\n",
      "Dir_extr:zzzWaluschka_no_abberation\n",
      "Dir_extr:zzzWaluschka_no_abberation\n",
      "Dir_extr:zzzWaluschka_no_abberation\n",
      "Dir_extr:zzzWaluschka_no_abberation\n",
      "Dir_extr:zzzWaluschka_no_abberation\n",
      "Getting scale by filename:\n",
      "1000.0\n",
      "\n",
      "Getting timestep by filename:\n",
      "days\n",
      "\n",
      "Waluschka\n",
      "\n",
      "Importing Orbit\n",
      "30 datapoints\n",
      "Done in 0.051176\n",
      "Selected calculation method is: Waluschka\n",
      "\n",
      "Selected calculation method is: Waluschka\n",
      "\n",
      "Selected calculation method is: Waluschka\n",
      "\n",
      "Abberation: False\n",
      "\n",
      "\n",
      "test_calc: False\n",
      "Dir_extr:zzzWaluschka_no_abberation\n",
      "Dir_extr:zzzWaluschka_no_abberation\n",
      "Dir_extr:zzzWaluschka_no_abberation\n",
      "Dir_extr:zzzWaluschka_no_abberation\n"
     ]
    }
   ],
   "source": [
    "input_param = {\n",
    "        'calc_method': 'Waluschka',\n",
    "        'plot_on':False, #If plots will be made\n",
    "        'dir_savefig': os.getcwd(), # The directory where the figures will be saved. If False, it will be in the current working directory\n",
    "        'noise_check':False,\n",
    "        'home':'/home/ester/git/synthlisa/', # Home directory\n",
    "        'directory_imp': False,\n",
    "        'num_back': 0,\n",
    "        'dir_orbits': '/home/ester/git/synthlisa/orbits/', # Folder with orbit files\n",
    "        'length_calc': 30, # Length of number of imported datapoints of orbit files. 'all' is also possible\n",
    "        'dir_extr': 'zzzWaluschka_no_abberation', # This will be added to the folder name of the figures\n",
    "        'timeunit':'Default', # The timeunit of the plots (['minutes'],['days']['years'])\n",
    "        'LISA_opt':True, # If a LISA object from syntheticLISA will be used for further calculations (not sure if it works properly if this False)\n",
    "        'arm_influence': True, # Set True to consider the travel time of the photons when calculating the nominal armlengths\n",
    "        'tstep':False,\n",
    "        'delay':True, #'Not ahead' or False\n",
    "        'method':'fsolve', # Method used to solve the equation for the photon traveling time\n",
    "        'valorfunc':'Function', #\n",
    "        'select':'Hallion', # Select which orbit files will be imported ('all' is all)\n",
    "        'test_calc':False,\n",
    "        'abberation':False,\n",
    "        'delay': True\n",
    "        }\n",
    "\n",
    "data_all = PAA_LISA.runfile.do_run(input_param)"
   ]
  },
  {
   "cell_type": "code",
   "execution_count": 4,
   "metadata": {},
   "outputs": [],
   "source": [
    "for k in range(0,len(data_all)/2):\n",
    "    #data = PAA_res[str(k+1)]\n",
    "    data = data_all[str(k+1)]\n",
    "t_vec = data.t_all"
   ]
  },
  {
   "cell_type": "code",
   "execution_count": 5,
   "metadata": {},
   "outputs": [
    {
     "name": "stdout",
     "output_type": "stream",
     "text": [
      "Obtaining noise\n",
      "Obaining lasernoise\n",
      "Obtaining shotnoise\n"
     ]
    }
   ],
   "source": [
    "Ndata = NOISE_LISA.Noise(data=data)"
   ]
  },
  {
   "cell_type": "code",
   "execution_count": 6,
   "metadata": {},
   "outputs": [],
   "source": [
    "w0 = Ndata.data.w0\n",
    "labda = Ndata.data.labda"
   ]
  },
  {
   "cell_type": "code",
   "execution_count": null,
   "metadata": {},
   "outputs": [],
   "source": []
  },
  {
   "cell_type": "code",
   "execution_count": 7,
   "metadata": {},
   "outputs": [],
   "source": [
    "def w(z,w0,labda):\n",
    "    zR = np.pi*(w0**2)/labda\n",
    "    \n",
    "    return w0*((1+((z/zR)**2))**0.5)\n",
    "\n",
    "def R(z,w0,labda,guess=False):\n",
    "    zR = np.pi*(w0**2)/labda\n",
    "    \n",
    "    if guess==False:\n",
    "        return abs(z*(1+((zR/z)**2)))\n",
    "    \n",
    "    elif guess==True:\n",
    "        return z\n",
    "\n",
    "def phase_extra(point,w0,labda,Z=False):\n",
    "    guess_set=False\n",
    "    [xp,yp,zp] = point\n",
    "    xp = np.float64(xp)\n",
    "    yp = np.float64(yp)\n",
    "    zp = np.float64(zp)\n",
    "    if Z==False:\n",
    "        Z=zp\n",
    "    \n",
    "    rp = (xp**2+yp**2)**0.5\n",
    "    R_dz = lambda dz: R(dz+zp,w0,labda,guess=guess_set)\n",
    "    f_solve = lambda dz: (R_dz(dz) - (R_dz(dz)**2- rp**2)**0.5) - dz\n",
    "    \n",
    "    \n",
    "    #f_solve = lambda dz: R(dz+zp,w0,labda,guess=guess_set)**2 - rp**2 - (-dz + R(dz+zp,w0,labda,guess=guess_set))**2\n",
    "    guess_rel = 0.01\n",
    "    dz_sol = scipy.optimize.brentq(f_solve,0,zp*guess_rel)\n",
    "    \n",
    "    dz_calc = dz_sol+zp - Z\n",
    "    phase = 2*np.pi*(dz_calc/labda)\n",
    "    \n",
    "    guess_course = R(rp,w0,labda)\n",
    "    return dz_calc+zp\n",
    "\n",
    "def w_new(x,y,z,w0,labda):\n",
    "    dz = phase_extra([x,y,z],w0,labda) - z\n",
    "    waist = w(z+dz,w0,labda)\n",
    "    print(z+dz)\n",
    "    return z+dz, waist\n",
    "    "
   ]
  },
  {
   "cell_type": "code",
   "execution_count": 8,
   "metadata": {},
   "outputs": [
    {
     "name": "stdout",
     "output_type": "stream",
     "text": [
      "2466524163.267166\n"
     ]
    }
   ],
   "source": [
    "x=0.1\n",
    "y=0.1\n",
    "z = np.linalg.norm(Ndata.data.u_l_func_tot(1,t_vec[2]))\n",
    "[z_1,w_1] = w_new(x,y,z,data.w0,data.labda)"
   ]
  },
  {
   "cell_type": "code",
   "execution_count": 9,
   "metadata": {},
   "outputs": [],
   "source": [
    "def z_solve(x,y,z,calc_R=False):\n",
    "    \n",
    "    R_new = lambda z_tot: R(z_tot,w0,labda,guess=False)\n",
    "    f_solve = lambda z_tot: (R_new(z_tot) - (R_new(z_tot)**2 - (x**2+y**2))**0.5) - (z_tot-z)\n",
    "    z_sol = scipy.optimize.brentq(f_solve,z,z+1)\n",
    "    if calc_R==True:\n",
    "        return R(z_sol)\n",
    "    else:\n",
    "        return z_sol"
   ]
  },
  {
   "cell_type": "code",
   "execution_count": null,
   "metadata": {},
   "outputs": [],
   "source": []
  },
  {
   "cell_type": "code",
   "execution_count": 10,
   "metadata": {},
   "outputs": [],
   "source": [
    "def phasenoise_calc(Ndata,i,t,x,y,z,dx,dy,side='l',mode='phasenoise',sigmadzx=0,sigmadzy=0):\n",
    "    labda = Ndata.data.labda\n",
    "    if side=='l':\n",
    "        z = np.linalg.norm(Ndata.data.u_l_func_tot(i,t))\n",
    "    elif side=='r':\n",
    "        z = np.linalg.norm(Ndata.data.u_r_func_tot(i,t))\n",
    "    znew, wnew = w_new(x,y,z,Ndata.data.w0,Ndata.data.labda)\n",
    "    \n",
    "    \n",
    "    u0 = np.exp(-((x**2+y**2)**2)/(wnew**2))\n",
    "    \n",
    "    print(u0,z,wnew)\n",
    "    alphax = np.arcsin(x/z)\n",
    "    alphay = np.arcsin(y/z)\n",
    "    alpha = (alphax**2+alphay**2)**0.5\n",
    "    w = Ndata.data.w0\n",
    "    r = 0.01\n",
    "    #alpha = 1e-6 # microrad\n",
    "    beta = 0.25*np.pi\n",
    "    r0 = 0.1\n",
    "    k = (2*np.pi)/labda\n",
    "    wac = r0/w\n",
    "    q = 1.0/(wac**2) # ...In Sasso paper not with minus sign!!!\n",
    "\n",
    "    z02=1.71\n",
    "    z22abs = 12.6\n",
    "    z13abs = 6.54\n",
    "    z33abs = 5.46\n",
    "    z04 = 3.53\n",
    "    z11abs = alpha*k*r0*0.5\n",
    "    th22 = -0.97\n",
    "    th13 = 1.95\n",
    "    th33 = -0.26\n",
    "    th11=0\n",
    "    \n",
    "    A2 = (1+np.exp(q)+2*(1-np.exp(q))*(wac**2))/(1-np.exp(q))\n",
    "    A4 = (1-np.exp(q)+6*(1+np.exp(q))*(wac**2) + 12*(1-np.exp(q))*(wac**4))/(1-np.exp(q))\n",
    "    B = (-2*(1+3*(wac**2)+6*(wac**4)+6*(1-np.exp(q))*(wac**6)))/(1-np.exp(q))\n",
    "    C = (-2*(1+5*(wac**2)+2*(7+2*np.exp(q))*(wac**4)+18*(1-np.exp(q))*(wac**6)))/(1-np.exp(q))\n",
    "    D = (4*(np.exp(q)+6*np.exp(q)*(wac**2)-2*(2-np.exp(q) - np.exp(2*q))*(wac**4) - 12*((1-np.exp(q))**2)*(wac**6)))/((1-np.exp(q))**2)\n",
    "    G = (24*((np.exp(q)*(wac**2))-(2-9*np.exp(q)+np.exp(2*q))*(wac**4) -2*(7-2*np.exp(q)-5*np.exp(2*q))*(wac**6) -30*(1-np.exp(q))*(wac**8)))/((1-np.exp(q))**2)\n",
    "    \n",
    "    #G = 0#3(24*(np.exp(q)*(wac**2)-(2-9*np.exp(q) + np.exp(2*q))*(wac**4) - 2*(7-2*np.exp(q) - 5*np.exp(2*q))*(wac**6) -30((1-np.exp(q))**2)*(wac**8)))/((1-np.exp(q))**2)\n",
    "    E = (2*(np.exp(q) - ((1-np.exp(2*q))**2)*(wac**4)))/((1-np.exp(q))**2)\n",
    "    F = (-1*(1+2*(wac**2)+2*(1-np.exp(q))*(wac**4)))/(1-np.exp(q))\n",
    "    H = (6*(2*np.exp(q)*(wac**2) - (1-np.exp(2*q))*(wac**4)-4*((1-np.exp(q))**2)*(wac**6)))/((1-np.exp(q))**2)\n",
    "\n",
    "    b0 = A2*z02+A4*z04\n",
    "    b1 = B*z22abs*z33abs*np.cos(th33-th22-th11)+C*z22abs*z13abs*np.cos(th22-th13-th11)+D*z02*z13abs*np.cos(th13-th11)+G*z04*z13abs*np.cos(th13-th11)\n",
    "    b2 = E*z02+F*z22abs*np.cos(th22-2*th11)+H*z04\n",
    "    \n",
    "    b00 = b0\n",
    "    b10 = B*np.cos(th33-th22)*z33abs*z22abs +C*np.cos(th22-th13)*z13abs*z22abs+D*np.cos(th13)*z13abs*z02 +G*np.cos(th13)*z13abs*z22abs\n",
    "    b01 = B*np.sin(th33-th22)*z33abs*z22abs +C*np.sin(th22-th13)*z13abs*z22abs+D*np.sin(th13)*z13abs*z02 +G*np.sin(th13)*z13abs*z22abs\n",
    "    b20 = E*z02+F*np.cos(th22)*z22abs+H*z04\n",
    "    b02 = E*z02-F*np.cos(th22)*z22abs+H*z04\n",
    "    b11 = 2*F*np.sin(th22)*z22abs\n",
    "        \n",
    "    if mode == 'phasenoise':\n",
    "        alphax = alphax*0\n",
    "        alphay = alphay+0\n",
    "        dzx = (k*r0*alphax)/2.0\n",
    "        dzy = (k*r0*alphay)/2.0\n",
    "        \n",
    "        wnoise0z = b00+b10*dzx+b20*(dzx**2)+b01*dzy+b02*(dzy**2)+b11*dzx*dzy\n",
    "    \n",
    "    elif mode=='gaussian_profile':\n",
    "        wnoise0z = b0+b1*z11abs+b2*(z11abs**2)\n",
    "    \n",
    "    a0 = (1.0/(np.pi*wnew**2))*dx*dy*u0\n",
    "    a1 = (1.0/(np.pi*wnew**2))*dx*dy*wnoise0z*u0\n",
    "    a2 = (-1.0/(2*np.pi*wnew**2))*dx*dy*(wnoise0z**2)*u0\n",
    "    a3 = (-1.0/(6*np.pi*wnew**2))*dx*dy*(wnoise0z**3)*u0\n",
    "    \n",
    "    u0z = np.pi*(wnew**2)*(a0+1j*a1+a2+1j*a3)\n",
    "    print(u0z)\n",
    "    \n",
    "    u0z_mag = (np.pi**2*wnew**4*abs(a0+1j*a1+a2)**2*k**2)/((2*np.pi*z)**2)\n",
    "    \n",
    "    \n",
    "    #return np.exp(1j*wnoise0z)\n",
    "    #return wnoise0z\n",
    "    #u0z = u0*(1+1j*wnoise0z-0.5*(wnoise0z**2)-(1j/6)*(wnoise0z**3))\n",
    "    \n",
    "    #return [u0,wnoise0z,u0*np.exp(1j*wnoise0z)*((1j*k)/(2*np.pi*z)),np.exp(1j*wnoise0z)]\n",
    "    #print(u0z,wnoise0z)\n",
    "    return u0z_mag\n",
    "\n"
   ]
  },
  {
   "cell_type": "code",
   "execution_count": 11,
   "metadata": {},
   "outputs": [],
   "source": [
    "def aperture(xlist,ylist,function):\n",
    "    Nbins = len(xlist)\n",
    "    D = max(xlist)\n",
    "    ps = np.empty((Nbins,Nbins))\n",
    "    for i in range(0,len(xlist)):\n",
    "        for j in range(0,len(ylist)):\n",
    "            r = (xlist[i]**2+ylist[j]**2)**0.5\n",
    "            if r<=D:\n",
    "                ps[i,j] = function(xlist[i],ylist[j])\n",
    "            else:\n",
    "                ps[i,j] = np.nan\n",
    "    \n",
    "    return ps"
   ]
  },
  {
   "cell_type": "code",
   "execution_count": 12,
   "metadata": {},
   "outputs": [],
   "source": [
    "def phasenoise(i_self,t,Nbins,mode='phasenoise',side='l'):\n",
    "    z = np.linalg.norm(Ndata.data.u_l_func_tot(i_self,t))\n",
    "    D = Ndata.data.D\n",
    "    xlist = np.linspace(-D,D,Nbins)\n",
    "    ylist = xlist\n",
    "    dx = xlist[1] - xlist[0]\n",
    "    dy = ylist[1] - ylist[0]\n",
    "    \n",
    "    ps = np.empty((Nbins,Nbins))\n",
    "    count=0\n",
    "    inte = 0\n",
    "    for i in range(0,len(xlist)):\n",
    "        for j in range(0,len(ylist)):\n",
    "            r = xlist[i]**2 + ylist[j]**2\n",
    "            if r<=D**2:\n",
    "                ps[i,j] = phasenoise_calc(Ndata,i_self,t,xlist[i],ylist[j],z,dx,dy,side=side,mode=mode)\n",
    "                count=count+1\n",
    "            else:\n",
    "                ps[i,j] = np.nan\n",
    "    \n",
    "    return ps"
   ]
  },
  {
   "cell_type": "code",
   "execution_count": null,
   "metadata": {},
   "outputs": [],
   "source": []
  },
  {
   "cell_type": "code",
   "execution_count": 13,
   "metadata": {},
   "outputs": [],
   "source": [
    "LA = PAA_LISA.utils.la()"
   ]
  },
  {
   "cell_type": "code",
   "execution_count": 14,
   "metadata": {},
   "outputs": [],
   "source": [
    "Nbins=10\n",
    "D = Ndata.data.D\n",
    "xlist = np.linspace(-D,D,Nbins)\n",
    "ylist = xlist\n",
    "Deltax = xlist[1]-xlist[0]\n",
    "Deltay = ylist[1]-ylist[0]\n"
   ]
  },
  {
   "cell_type": "code",
   "execution_count": 15,
   "metadata": {},
   "outputs": [],
   "source": [
    "### Gaussian beam\n",
    "def phi_gauss(dx_list,dy_list,dX,dY,Ndata,i,t,side='l',jitter=False,tele_control='full control'):\n",
    "    [i_self,i_left,i_right] = PAA_LISA.utils.i_slr(i)\n",
    "    if side=='l':\n",
    "        if tele_control=='full control':\n",
    "            tele = Ndata.tele_l_fc(i,t)\n",
    "        elif tele_control=='no control':\n",
    "            tele = Ndata.tele_l(i,t)\n",
    "    elif side=='r':\n",
    "        if tele_control=='full control':\n",
    "            tele = Ndata.tele_r_fc(i,t)\n",
    "        elif tele_control=='no control':\n",
    "            tele = Ndata.tele_r(i,t)\n",
    "        \n",
    "    vec = Ndata.data.u_l_func_tot(i,t)\n",
    "    n = Ndata.data.n_func(i,t)\n",
    "    [ang_x,ang_y] = LA.beam_ang(vec,tele,n)\n",
    "    \n",
    "    E0 = 1 #...adjust\n",
    "    labda = Ndata.data.labda\n",
    "    k = (2*np.pi)/labda\n",
    "    w0 = Ndata.data.w0\n",
    "    psi = 0 #Gouy angle\n",
    "    if jitter==False:\n",
    "        Zm = 0 #Exit pupil abberation\n",
    "    else:\n",
    "        Zm = jitter(t)\n",
    "    #d = np.linalg.norm(vec)\n",
    "    dX_ac = np.cos(ang_x)*dX\n",
    "    dY_ac = np.cos(ang_y)*dY\n",
    "    dZ_ac = np.sin(ang_x)*dX+np.sin(ang_y)*dY\n",
    "    dR_ac = (dX_ac**2+dY_ac**2)**0.5\n",
    "    d_ac = z_solve(dX_ac,dY_ac,np.linalg.norm(vec)+dZ_ac)\n",
    "    #d_ac = d + dZ_ac\n",
    "    \n",
    "    D = max(dx_list)\n",
    "    Deltax = dx_list[1]-dx_list[0]\n",
    "    Deltay = dy_list[1]-dy_list[0]\n",
    "    Nbinsx = len(dx_list)\n",
    "    Nbinsy = len(dy_list)\n",
    "\n",
    "    ps = np.empty((Nbinsx,Nbinsy),dtype = complex)\n",
    "    for i in range(0,len(dx_list)):\n",
    "        for j in range(0,len(dy_list)):\n",
    "            \n",
    "            dx = dx_list[i]\n",
    "            dy = dy_list[j]\n",
    "            dr = ((dx**2)+(dy**2))**0.5\n",
    "            if dr<=D:\n",
    "                s = (d_ac**2+(dR_ac-dr)**2)**0.5\n",
    "                E = E0*np.exp((-(dr**2))/(w0**2))*np.exp(1j*psi)\n",
    "                print(E,E0,dr,psi)\n",
    "                #R_new = d_ac\n",
    "                R_new = np.linalg.norm(vec)\n",
    "                #print(np.exp(1j*((2*np.pi)/labda)*(Zm+s))/s)\n",
    "                ps[i,j] = (E*np.exp(1j*((2*np.pi)/labda)*(Zm+s))/s)*Deltax*Deltay*np.exp((-1j*2*np.pi*R_new)/labda)\n",
    "            else:\n",
    "                ps[i,j] = np.nan\n",
    "    \n",
    "    diff_inte = np.nansum(ps)\n",
    "    #diff_inte = diff_inte*np.exp(-1j*(2*np.pi*d)/labda)\n",
    "    phi = np.angle(diff_inte)\n",
    "    diff_inte_mag = (diff_inte.real**2+diff_inte.imag**2)**0.5\n",
    "    #phi = np.log(diff_inte_new/diff_inte_mag).imag\n",
    "        \n",
    "    return diff_inte_mag,phi,ps"
   ]
  },
  {
   "cell_type": "code",
   "execution_count": 16,
   "metadata": {},
   "outputs": [],
   "source": [
    "def calc_WF(i,t,rs = 'phi',tele_control='full control',side='l',jitter=False):\n",
    "    I = lambda dx,dy: phi_gauss(xlist*A,ylist*A,dx,dy,Ndata,i,t,side=side,jitter=jitter,tele_control=tele_control)[0]\n",
    "    ap_rec = lambda dx,dy: phi_gauss(xlist*A,ylist*A,dx,dy,Ndata,i,t,side=side,jitter=jitter,tele_control=tele_control)[1]\n",
    "    phi = aperture(xlist,ylist,ap_rec)\n",
    "    I = aperture(xlist,ylist,I)\n",
    "    \n",
    "    if rs=='phi':\n",
    "        return phi\n",
    "    elif rs=='I':\n",
    "        return I\n",
    "\n"
   ]
  },
  {
   "cell_type": "code",
   "execution_count": 17,
   "metadata": {},
   "outputs": [
    {
     "ename": "NameError",
     "evalue": "global name 'A' is not defined",
     "output_type": "error",
     "traceback": [
      "\u001b[0;31m---------------------------------------------------------------------------\u001b[0m",
      "\u001b[0;31mNameError\u001b[0m                                 Traceback (most recent call last)",
      "\u001b[0;32m<ipython-input-17-421ede2a9711>\u001b[0m in \u001b[0;36m<module>\u001b[0;34m()\u001b[0m\n\u001b[0;32m----> 1\u001b[0;31m \u001b[0mcalc_WF\u001b[0m\u001b[0;34m(\u001b[0m\u001b[0;36m1\u001b[0m\u001b[0;34m,\u001b[0m\u001b[0mt_vec\u001b[0m\u001b[0;34m[\u001b[0m\u001b[0;36m2\u001b[0m\u001b[0;34m]\u001b[0m\u001b[0;34m,\u001b[0m\u001b[0mtele_control\u001b[0m\u001b[0;34m=\u001b[0m\u001b[0;34m'no control'\u001b[0m\u001b[0;34m)\u001b[0m\u001b[0;34m\u001b[0m\u001b[0m\n\u001b[0m",
      "\u001b[0;32m<ipython-input-16-2d7318935bb8>\u001b[0m in \u001b[0;36mcalc_WF\u001b[0;34m(i, t, rs, tele_control, side, jitter)\u001b[0m\n\u001b[1;32m      2\u001b[0m     \u001b[0mI\u001b[0m \u001b[0;34m=\u001b[0m \u001b[0;32mlambda\u001b[0m \u001b[0mdx\u001b[0m\u001b[0;34m,\u001b[0m\u001b[0mdy\u001b[0m\u001b[0;34m:\u001b[0m \u001b[0mphi_gauss\u001b[0m\u001b[0;34m(\u001b[0m\u001b[0mxlist\u001b[0m\u001b[0;34m*\u001b[0m\u001b[0mA\u001b[0m\u001b[0;34m,\u001b[0m\u001b[0mylist\u001b[0m\u001b[0;34m*\u001b[0m\u001b[0mA\u001b[0m\u001b[0;34m,\u001b[0m\u001b[0mdx\u001b[0m\u001b[0;34m,\u001b[0m\u001b[0mdy\u001b[0m\u001b[0;34m,\u001b[0m\u001b[0mNdata\u001b[0m\u001b[0;34m,\u001b[0m\u001b[0mi\u001b[0m\u001b[0;34m,\u001b[0m\u001b[0mt\u001b[0m\u001b[0;34m,\u001b[0m\u001b[0mside\u001b[0m\u001b[0;34m=\u001b[0m\u001b[0mside\u001b[0m\u001b[0;34m,\u001b[0m\u001b[0mjitter\u001b[0m\u001b[0;34m=\u001b[0m\u001b[0mjitter\u001b[0m\u001b[0;34m,\u001b[0m\u001b[0mtele_control\u001b[0m\u001b[0;34m=\u001b[0m\u001b[0mtele_control\u001b[0m\u001b[0;34m)\u001b[0m\u001b[0;34m[\u001b[0m\u001b[0;36m0\u001b[0m\u001b[0;34m]\u001b[0m\u001b[0;34m\u001b[0m\u001b[0m\n\u001b[1;32m      3\u001b[0m     \u001b[0map_rec\u001b[0m \u001b[0;34m=\u001b[0m \u001b[0;32mlambda\u001b[0m \u001b[0mdx\u001b[0m\u001b[0;34m,\u001b[0m\u001b[0mdy\u001b[0m\u001b[0;34m:\u001b[0m \u001b[0mphi_gauss\u001b[0m\u001b[0;34m(\u001b[0m\u001b[0mxlist\u001b[0m\u001b[0;34m*\u001b[0m\u001b[0mA\u001b[0m\u001b[0;34m,\u001b[0m\u001b[0mylist\u001b[0m\u001b[0;34m*\u001b[0m\u001b[0mA\u001b[0m\u001b[0;34m,\u001b[0m\u001b[0mdx\u001b[0m\u001b[0;34m,\u001b[0m\u001b[0mdy\u001b[0m\u001b[0;34m,\u001b[0m\u001b[0mNdata\u001b[0m\u001b[0;34m,\u001b[0m\u001b[0mi\u001b[0m\u001b[0;34m,\u001b[0m\u001b[0mt\u001b[0m\u001b[0;34m,\u001b[0m\u001b[0mside\u001b[0m\u001b[0;34m=\u001b[0m\u001b[0mside\u001b[0m\u001b[0;34m,\u001b[0m\u001b[0mjitter\u001b[0m\u001b[0;34m=\u001b[0m\u001b[0mjitter\u001b[0m\u001b[0;34m,\u001b[0m\u001b[0mtele_control\u001b[0m\u001b[0;34m=\u001b[0m\u001b[0mtele_control\u001b[0m\u001b[0;34m)\u001b[0m\u001b[0;34m[\u001b[0m\u001b[0;36m1\u001b[0m\u001b[0;34m]\u001b[0m\u001b[0;34m\u001b[0m\u001b[0m\n\u001b[0;32m----> 4\u001b[0;31m     \u001b[0mphi\u001b[0m \u001b[0;34m=\u001b[0m \u001b[0maperture\u001b[0m\u001b[0;34m(\u001b[0m\u001b[0mxlist\u001b[0m\u001b[0;34m,\u001b[0m\u001b[0mylist\u001b[0m\u001b[0;34m,\u001b[0m\u001b[0map_rec\u001b[0m\u001b[0;34m)\u001b[0m\u001b[0;34m\u001b[0m\u001b[0m\n\u001b[0m\u001b[1;32m      5\u001b[0m     \u001b[0mI\u001b[0m \u001b[0;34m=\u001b[0m \u001b[0maperture\u001b[0m\u001b[0;34m(\u001b[0m\u001b[0mxlist\u001b[0m\u001b[0;34m,\u001b[0m\u001b[0mylist\u001b[0m\u001b[0;34m,\u001b[0m\u001b[0mI\u001b[0m\u001b[0;34m)\u001b[0m\u001b[0;34m\u001b[0m\u001b[0m\n\u001b[1;32m      6\u001b[0m \u001b[0;34m\u001b[0m\u001b[0m\n",
      "\u001b[0;32m<ipython-input-11-dc00e6839ec2>\u001b[0m in \u001b[0;36maperture\u001b[0;34m(xlist, ylist, function)\u001b[0m\n\u001b[1;32m      7\u001b[0m             \u001b[0mr\u001b[0m \u001b[0;34m=\u001b[0m \u001b[0;34m(\u001b[0m\u001b[0mxlist\u001b[0m\u001b[0;34m[\u001b[0m\u001b[0mi\u001b[0m\u001b[0;34m]\u001b[0m\u001b[0;34m**\u001b[0m\u001b[0;36m2\u001b[0m\u001b[0;34m+\u001b[0m\u001b[0mylist\u001b[0m\u001b[0;34m[\u001b[0m\u001b[0mj\u001b[0m\u001b[0;34m]\u001b[0m\u001b[0;34m**\u001b[0m\u001b[0;36m2\u001b[0m\u001b[0;34m)\u001b[0m\u001b[0;34m**\u001b[0m\u001b[0;36m0.5\u001b[0m\u001b[0;34m\u001b[0m\u001b[0m\n\u001b[1;32m      8\u001b[0m             \u001b[0;32mif\u001b[0m \u001b[0mr\u001b[0m\u001b[0;34m<=\u001b[0m\u001b[0mD\u001b[0m\u001b[0;34m:\u001b[0m\u001b[0;34m\u001b[0m\u001b[0m\n\u001b[0;32m----> 9\u001b[0;31m                 \u001b[0mps\u001b[0m\u001b[0;34m[\u001b[0m\u001b[0mi\u001b[0m\u001b[0;34m,\u001b[0m\u001b[0mj\u001b[0m\u001b[0;34m]\u001b[0m \u001b[0;34m=\u001b[0m \u001b[0mfunction\u001b[0m\u001b[0;34m(\u001b[0m\u001b[0mxlist\u001b[0m\u001b[0;34m[\u001b[0m\u001b[0mi\u001b[0m\u001b[0;34m]\u001b[0m\u001b[0;34m,\u001b[0m\u001b[0mylist\u001b[0m\u001b[0;34m[\u001b[0m\u001b[0mj\u001b[0m\u001b[0;34m]\u001b[0m\u001b[0;34m)\u001b[0m\u001b[0;34m\u001b[0m\u001b[0m\n\u001b[0m\u001b[1;32m     10\u001b[0m             \u001b[0;32melse\u001b[0m\u001b[0;34m:\u001b[0m\u001b[0;34m\u001b[0m\u001b[0m\n\u001b[1;32m     11\u001b[0m                 \u001b[0mps\u001b[0m\u001b[0;34m[\u001b[0m\u001b[0mi\u001b[0m\u001b[0;34m,\u001b[0m\u001b[0mj\u001b[0m\u001b[0;34m]\u001b[0m \u001b[0;34m=\u001b[0m \u001b[0mnp\u001b[0m\u001b[0;34m.\u001b[0m\u001b[0mnan\u001b[0m\u001b[0;34m\u001b[0m\u001b[0m\n",
      "\u001b[0;32m<ipython-input-16-2d7318935bb8>\u001b[0m in \u001b[0;36m<lambda>\u001b[0;34m(dx, dy)\u001b[0m\n\u001b[1;32m      1\u001b[0m \u001b[0;32mdef\u001b[0m \u001b[0mcalc_WF\u001b[0m\u001b[0;34m(\u001b[0m\u001b[0mi\u001b[0m\u001b[0;34m,\u001b[0m\u001b[0mt\u001b[0m\u001b[0;34m,\u001b[0m\u001b[0mrs\u001b[0m \u001b[0;34m=\u001b[0m \u001b[0;34m'phi'\u001b[0m\u001b[0;34m,\u001b[0m\u001b[0mtele_control\u001b[0m\u001b[0;34m=\u001b[0m\u001b[0;34m'full control'\u001b[0m\u001b[0;34m,\u001b[0m\u001b[0mside\u001b[0m\u001b[0;34m=\u001b[0m\u001b[0;34m'l'\u001b[0m\u001b[0;34m,\u001b[0m\u001b[0mjitter\u001b[0m\u001b[0;34m=\u001b[0m\u001b[0mFalse\u001b[0m\u001b[0;34m)\u001b[0m\u001b[0;34m:\u001b[0m\u001b[0;34m\u001b[0m\u001b[0m\n\u001b[1;32m      2\u001b[0m     \u001b[0mI\u001b[0m \u001b[0;34m=\u001b[0m \u001b[0;32mlambda\u001b[0m \u001b[0mdx\u001b[0m\u001b[0;34m,\u001b[0m\u001b[0mdy\u001b[0m\u001b[0;34m:\u001b[0m \u001b[0mphi_gauss\u001b[0m\u001b[0;34m(\u001b[0m\u001b[0mxlist\u001b[0m\u001b[0;34m*\u001b[0m\u001b[0mA\u001b[0m\u001b[0;34m,\u001b[0m\u001b[0mylist\u001b[0m\u001b[0;34m*\u001b[0m\u001b[0mA\u001b[0m\u001b[0;34m,\u001b[0m\u001b[0mdx\u001b[0m\u001b[0;34m,\u001b[0m\u001b[0mdy\u001b[0m\u001b[0;34m,\u001b[0m\u001b[0mNdata\u001b[0m\u001b[0;34m,\u001b[0m\u001b[0mi\u001b[0m\u001b[0;34m,\u001b[0m\u001b[0mt\u001b[0m\u001b[0;34m,\u001b[0m\u001b[0mside\u001b[0m\u001b[0;34m=\u001b[0m\u001b[0mside\u001b[0m\u001b[0;34m,\u001b[0m\u001b[0mjitter\u001b[0m\u001b[0;34m=\u001b[0m\u001b[0mjitter\u001b[0m\u001b[0;34m,\u001b[0m\u001b[0mtele_control\u001b[0m\u001b[0;34m=\u001b[0m\u001b[0mtele_control\u001b[0m\u001b[0;34m)\u001b[0m\u001b[0;34m[\u001b[0m\u001b[0;36m0\u001b[0m\u001b[0;34m]\u001b[0m\u001b[0;34m\u001b[0m\u001b[0m\n\u001b[0;32m----> 3\u001b[0;31m     \u001b[0map_rec\u001b[0m \u001b[0;34m=\u001b[0m \u001b[0;32mlambda\u001b[0m \u001b[0mdx\u001b[0m\u001b[0;34m,\u001b[0m\u001b[0mdy\u001b[0m\u001b[0;34m:\u001b[0m \u001b[0mphi_gauss\u001b[0m\u001b[0;34m(\u001b[0m\u001b[0mxlist\u001b[0m\u001b[0;34m*\u001b[0m\u001b[0mA\u001b[0m\u001b[0;34m,\u001b[0m\u001b[0mylist\u001b[0m\u001b[0;34m*\u001b[0m\u001b[0mA\u001b[0m\u001b[0;34m,\u001b[0m\u001b[0mdx\u001b[0m\u001b[0;34m,\u001b[0m\u001b[0mdy\u001b[0m\u001b[0;34m,\u001b[0m\u001b[0mNdata\u001b[0m\u001b[0;34m,\u001b[0m\u001b[0mi\u001b[0m\u001b[0;34m,\u001b[0m\u001b[0mt\u001b[0m\u001b[0;34m,\u001b[0m\u001b[0mside\u001b[0m\u001b[0;34m=\u001b[0m\u001b[0mside\u001b[0m\u001b[0;34m,\u001b[0m\u001b[0mjitter\u001b[0m\u001b[0;34m=\u001b[0m\u001b[0mjitter\u001b[0m\u001b[0;34m,\u001b[0m\u001b[0mtele_control\u001b[0m\u001b[0;34m=\u001b[0m\u001b[0mtele_control\u001b[0m\u001b[0;34m)\u001b[0m\u001b[0;34m[\u001b[0m\u001b[0;36m1\u001b[0m\u001b[0;34m]\u001b[0m\u001b[0;34m\u001b[0m\u001b[0m\n\u001b[0m\u001b[1;32m      4\u001b[0m     \u001b[0mphi\u001b[0m \u001b[0;34m=\u001b[0m \u001b[0maperture\u001b[0m\u001b[0;34m(\u001b[0m\u001b[0mxlist\u001b[0m\u001b[0;34m,\u001b[0m\u001b[0mylist\u001b[0m\u001b[0;34m,\u001b[0m\u001b[0map_rec\u001b[0m\u001b[0;34m)\u001b[0m\u001b[0;34m\u001b[0m\u001b[0m\n\u001b[1;32m      5\u001b[0m     \u001b[0mI\u001b[0m \u001b[0;34m=\u001b[0m \u001b[0maperture\u001b[0m\u001b[0;34m(\u001b[0m\u001b[0mxlist\u001b[0m\u001b[0;34m,\u001b[0m\u001b[0mylist\u001b[0m\u001b[0;34m,\u001b[0m\u001b[0mI\u001b[0m\u001b[0;34m)\u001b[0m\u001b[0;34m\u001b[0m\u001b[0m\n",
      "\u001b[0;31mNameError\u001b[0m: global name 'A' is not defined"
     ]
    }
   ],
   "source": [
    "calc_WF(1,t_vec[2],tele_control='no control')"
   ]
  },
  {
   "cell_type": "code",
   "execution_count": null,
   "metadata": {},
   "outputs": [],
   "source": [
    "phi_gauss(xlist,ylist,0.1,0.1,Ndata,1,t_vec[2],side='l',jitter=False,tele_control='no control')[2]"
   ]
  },
  {
   "cell_type": "code",
   "execution_count": null,
   "metadata": {},
   "outputs": [],
   "source": [
    "t=t_vec[2]\n",
    "i=1\n",
    "ap_rec = lambda dx,dy: phi_gauss(xlist,ylist,dx,dy,Ndata,i,t,side='l',jitter=False,tele_control='no control')[1]\n",
    "phi = aperture(xlist,ylist,ap_rec)"
   ]
  },
  {
   "cell_type": "code",
   "execution_count": null,
   "metadata": {},
   "outputs": [],
   "source": [
    "phi_t = phi_all(xlist,ylist,Ndata,1)"
   ]
  },
  {
   "cell_type": "code",
   "execution_count": null,
   "metadata": {},
   "outputs": [],
   "source": [
    "phi"
   ]
  },
  {
   "cell_type": "code",
   "execution_count": null,
   "metadata": {},
   "outputs": [],
   "source": [
    "A"
   ]
  },
  {
   "cell_type": "code",
   "execution_count": null,
   "metadata": {},
   "outputs": [],
   "source": [
    "f,ax = plt.subplots(1,2)\n",
    "\n",
    "p1 = ax[0].matshow(phi,cmap='magma',vmin=-np.pi,vmax=np.pi)\n",
    "ax[0].set_title('Phi')\n",
    "f.colorbar(p1, ax=ax[0])\n",
    "\n",
    "p2 = ax[1].matshow(I,cmap='magma')\n",
    "ax[1].set_title('I')\n",
    "f.colorbar(p2, ax=ax[1])\n",
    "#ax[1].colorbar()"
   ]
  },
  {
   "cell_type": "code",
   "execution_count": null,
   "metadata": {},
   "outputs": [],
   "source": [
    "sigma_abb = 0.1*Ndata.data.labda\n",
    "psd = lambda f: sigma_abb/f"
   ]
  },
  {
   "cell_type": "code",
   "execution_count": null,
   "metadata": {},
   "outputs": [],
   "source": [
    "jitter = Ndata.Noise_time(0.0001,0.1,4095,psd,t_vec[-1])[1]"
   ]
  },
  {
   "cell_type": "code",
   "execution_count": null,
   "metadata": {},
   "outputs": [],
   "source": [
    "phi"
   ]
  },
  {
   "cell_type": "code",
   "execution_count": null,
   "metadata": {},
   "outputs": [],
   "source": [
    "data.L_rl_func_tot(2,12321)"
   ]
  },
  {
   "cell_type": "code",
   "execution_count": null,
   "metadata": {},
   "outputs": [],
   "source": [
    "np.linalg.norm(data.u_l_func_tot(1,12321))"
   ]
  },
  {
   "cell_type": "code",
   "execution_count": null,
   "metadata": {},
   "outputs": [],
   "source": [
    "np.linalg.norm(np.array(data.LISA.putp(1,12321)) - np.array(data.LISA.putp(2,12321)))*1e-9"
   ]
  },
  {
   "cell_type": "code",
   "execution_count": null,
   "metadata": {},
   "outputs": [],
   "source": [
    "Ndata.tele_l_fc(1,12321)"
   ]
  },
  {
   "cell_type": "code",
   "execution_count": null,
   "metadata": {},
   "outputs": [],
   "source": [
    "z_solve(0.1,0.1,)"
   ]
  },
  {
   "cell_type": "code",
   "execution_count": null,
   "metadata": {},
   "outputs": [],
   "source": []
  }
 ],
 "metadata": {
  "kernelspec": {
   "display_name": "Python 2",
   "language": "python",
   "name": "python2"
  },
  "language_info": {
   "codemirror_mode": {
    "name": "ipython",
    "version": 2
   },
   "file_extension": ".py",
   "mimetype": "text/x-python",
   "name": "python",
   "nbconvert_exporter": "python",
   "pygments_lexer": "ipython2",
   "version": "2.7.15"
  }
 },
 "nbformat": 4,
 "nbformat_minor": 2
}
