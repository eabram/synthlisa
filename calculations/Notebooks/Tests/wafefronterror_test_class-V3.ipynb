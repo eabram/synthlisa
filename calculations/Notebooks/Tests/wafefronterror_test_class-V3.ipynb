{
 "cells": [
  {
   "cell_type": "code",
   "execution_count": 1,
   "metadata": {},
   "outputs": [],
   "source": [
    "import PAA_LISA\n",
    "import NOISE_LISA\n",
    "import os\n",
    "\n",
    "%matplotlib inline\n",
    "\n",
    "import matplotlib.pyplot as plt\n",
    "import numpy as np\n",
    "import random\n",
    "import os\n",
    "from fractions import Fraction\n",
    "import math\n",
    "import datetime\n",
    "from scipy.interpolate import interp1d\n",
    "from scipy.interpolate import RegularGridInterpolator\n",
    "import warnings\n",
    "warnings.filterwarnings('ignore', 'The iteration is not making good progress')\n",
    "#warnings.filterwarnings(\"error\")\n",
    "import scipy.optimize\n",
    "\n",
    "year2sec=32536000\n",
    "day2sec=year2sec/365.25\n",
    "c=300000000"
   ]
  },
  {
   "cell_type": "code",
   "execution_count": null,
   "metadata": {},
   "outputs": [],
   "source": []
  },
  {
   "cell_type": "code",
   "execution_count": 2,
   "metadata": {},
   "outputs": [
    {
     "name": "stdout",
     "output_type": "stream",
     "text": [
      "['positions_timestep_days_scale_1000.txt', 'Folkner_orbit_timestep_seconds_scale_10.txt', 'readable.py', 'NGO_1M_10deg_synthlisa_timestep_days_scale_1000.txt']\n",
      "['McKenzie_orbit_timestep_seconds_scale_1000.txt', 'Folkner_orbit_timestep_seconds_scale_1.txt', 'Hallion_2pt5G_orbits_pos_uniquedays_timestep_days_scale_1000.txt']\n",
      "['Folkner_orbit_timestep_seconds_scale_10.txt', 'NGO_1M_10deg_synthlisa_timestep_days_scale_1.txt', 'Folkner_orbit_timestep_seconds_scale_1.txt', 'NGO_1M_10deg_synthlisa_timestep_days_scale_1000.txt']\n",
      "Dir_extr:zzzWaluschka_no_abberation\n",
      "Dir_extr:zzzWaluschka_no_abberation\n",
      "Dir_extr:zzzWaluschka_no_abberation\n",
      "Dir_extr:zzzWaluschka_no_abberation\n",
      "Dir_extr:zzzWaluschka_no_abberation\n",
      "Dir_extr:zzzWaluschka_no_abberation\n",
      "Getting scale by filename:\n",
      "1000.0\n",
      "\n",
      "Getting timestep by filename:\n",
      "days\n",
      "\n",
      "Waluschka\n",
      "\n",
      "Importing Orbit\n",
      "20 datapoints\n",
      "Done in 0.034823\n",
      "Selected calculation method is: Waluschka\n",
      "\n",
      "Selected calculation method is: Waluschka\n",
      "\n",
      "Selected calculation method is: Waluschka\n",
      "\n",
      "Abberation: False\n",
      "\n",
      "\n",
      "test_calc: False\n",
      "Dir_extr:zzzWaluschka_no_abberation\n",
      "Dir_extr:zzzWaluschka_no_abberation\n",
      "Dir_extr:zzzWaluschka_no_abberation\n",
      "Dir_extr:zzzWaluschka_no_abberation\n"
     ]
    }
   ],
   "source": [
    "input_param = {\n",
    "        'calc_method': 'Waluschka',\n",
    "        'plot_on':False, #If plots will be made\n",
    "        'dir_savefig': os.getcwd(), # The directory where the figures will be saved. If False, it will be in the current working directory\n",
    "        'noise_check':False,\n",
    "        'home':'/home/ester/git/synthlisa/', # Home directory\n",
    "        'directory_imp': False,\n",
    "        'num_back': 0,\n",
    "        'dir_orbits': '/home/ester/git/synthlisa/orbits/', # Folder with orbit files\n",
    "        'length_calc': 20, # Length of number of imported datapoints of orbit files. 'all' is also possible\n",
    "        'dir_extr': 'zzzWaluschka_no_abberation', # This will be added to the folder name of the figures\n",
    "        'timeunit':'Default', # The timeunit of the plots (['minutes'],['days']['years'])\n",
    "        'LISA_opt':True, # If a LISA object from syntheticLISA will be used for further calculations (not sure if it works properly if this False)\n",
    "        'arm_influence': True, # Set True to consider the travel time of the photons when calculating the nominal armlengths\n",
    "        'tstep':False,\n",
    "        'delay':True, #'Not ahead' or False\n",
    "        'method':'fsolve', # Method used to solve the equation for the photon traveling time\n",
    "        'valorfunc':'Function', #\n",
    "        'select':'Hallion', # Select which orbit files will be imported ('all' is all)\n",
    "        'test_calc':False,\n",
    "        'abberation':False,\n",
    "        'delay': True\n",
    "        }\n",
    "\n",
    "data_all = PAA_LISA.runfile.do_run(input_param)"
   ]
  },
  {
   "cell_type": "code",
   "execution_count": 3,
   "metadata": {},
   "outputs": [],
   "source": [
    "for k in range(0,len(data_all)/2):\n",
    "    #data = PAA_res[str(k+1)]\n",
    "    data = data_all[str(k+1)]\n",
    "t_vec = data.t_all"
   ]
  },
  {
   "cell_type": "code",
   "execution_count": 4,
   "metadata": {},
   "outputs": [
    {
     "name": "stdout",
     "output_type": "stream",
     "text": [
      "Obtaining noise\n",
      "Obaining lasernoise\n",
      "Obtaining shotnoise\n"
     ]
    }
   ],
   "source": [
    "Ndata = NOISE_LISA.Noise(data=data)"
   ]
  },
  {
   "cell_type": "code",
   "execution_count": 5,
   "metadata": {},
   "outputs": [],
   "source": [
    "wfe = NOISE_LISA.WFE(Ndata=Ndata)"
   ]
  },
  {
   "cell_type": "code",
   "execution_count": 6,
   "metadata": {},
   "outputs": [],
   "source": [
    "wfe.tele_control='full control'\n",
    "wfe.pupil(Nbins=20)\n",
    "wfe.side = 'r'\n",
    "wfe.scale = 1#1e-9 # Scales distance of SC\n",
    "\n",
    "wfe.speed_on = True # Makes calculation faster, only valid for long armlengths\n",
    "wfe.simple = True # Calculates only 1 pixel"
   ]
  },
  {
   "cell_type": "code",
   "execution_count": null,
   "metadata": {
    "scrolled": true
   },
   "outputs": [],
   "source": []
  },
  {
   "cell_type": "code",
   "execution_count": 7,
   "metadata": {},
   "outputs": [
    {
     "data": {
      "text/plain": [
       "[False, False]"
      ]
     },
     "execution_count": 7,
     "metadata": {},
     "output_type": "execute_result"
    }
   ],
   "source": [
    "wfe.jitter"
   ]
  },
  {
   "cell_type": "code",
   "execution_count": 8,
   "metadata": {},
   "outputs": [
    {
     "name": "stdout",
     "output_type": "stream",
     "text": [
      "Simple mode is on, only calculating for center of receiving telescope\n",
      "Type of telescope control is: full control\n"
     ]
    },
    {
     "data": {
      "text/plain": [
       "0.0"
      ]
     },
     "execution_count": 8,
     "metadata": {},
     "output_type": "execute_result"
    }
   ],
   "source": [
    "wfe.phase_rec(1,t_vec[0])"
   ]
  },
  {
   "cell_type": "code",
   "execution_count": null,
   "metadata": {},
   "outputs": [],
   "source": []
  },
  {
   "cell_type": "code",
   "execution_count": 9,
   "metadata": {},
   "outputs": [
    {
     "data": {
      "text/plain": [
       "0"
      ]
     },
     "execution_count": 9,
     "metadata": {},
     "output_type": "execute_result"
    }
   ],
   "source": [
    "psd_h = lambda f: 0#.00000001\n",
    "psd_v = lambda f: 0.0000001\n",
    "wfe.jitter_tele(4094,t_vec[-1],psd_h,psd_v)"
   ]
  },
  {
   "cell_type": "code",
   "execution_count": 10,
   "metadata": {
    "scrolled": true
   },
   "outputs": [
    {
     "data": {
      "text/plain": [
       "0"
      ]
     },
     "execution_count": 10,
     "metadata": {},
     "output_type": "execute_result"
    }
   ],
   "source": [
    "wfe.tele_control_ss(step_max=4,dt = 3600)"
   ]
  },
  {
   "cell_type": "code",
   "execution_count": 11,
   "metadata": {},
   "outputs": [
    {
     "data": {
      "text/plain": [
       "array(0.00923464)"
      ]
     },
     "execution_count": 11,
     "metadata": {},
     "output_type": "execute_result"
    }
   ],
   "source": [
    "wfe.tele_SS_l(1,12321)"
   ]
  },
  {
   "cell_type": "code",
   "execution_count": 12,
   "metadata": {},
   "outputs": [
    {
     "data": {
      "text/plain": [
       "(0.0, 0.0, array([[nan+nanj]], dtype=complex64))"
      ]
     },
     "execution_count": 12,
     "metadata": {},
     "output_type": "execute_result"
    }
   ],
   "source": [
    "i=1\n",
    "t = t_vec[2]\n",
    "wfe.phi_gauss(i,t,0,0,side='l')"
   ]
  },
  {
   "cell_type": "code",
   "execution_count": 13,
   "metadata": {},
   "outputs": [
    {
     "name": "stdout",
     "output_type": "stream",
     "text": [
      "Simple mode is on, only calculating for center of receiving telescope\n",
      "Type of telescope control is: SS\n"
     ]
    },
    {
     "data": {
      "text/plain": [
       "0.0"
      ]
     },
     "execution_count": 13,
     "metadata": {},
     "output_type": "execute_result"
    }
   ],
   "source": [
    "wfe.phase_rec(i,t,side='l')"
   ]
  },
  {
   "cell_type": "code",
   "execution_count": 14,
   "metadata": {},
   "outputs": [
    {
     "data": {
      "text/plain": [
       "<matplotlib.image.AxesImage at 0x7f6582825cd0>"
      ]
     },
     "execution_count": 14,
     "metadata": {},
     "output_type": "execute_result"
    },
    {
     "data": {
      "image/png": "[encoded data removed]",
      "text/plain": [
       "<Figure size 288x288 with 1 Axes>"
      ]
     },
     "metadata": {},
     "output_type": "display_data"
    }
   ],
   "source": [
    "plt.matshow(wfe.ttl_s_tot)"
   ]
  },
  {
   "cell_type": "code",
   "execution_count": 15,
   "metadata": {},
   "outputs": [
    {
     "data": {
      "text/plain": [
       "[([array([0.00000000e+00, 4.99633968e+00, 9.99267936e+00, ...,\n",
       "          1.69248508e+06, 1.69249008e+06, 1.69249508e+06]),\n",
       "   array([ 0.+0.j, -0.+0.j, -0.+0.j, ..., -0.+0.j,  0.-0.j,  0.+0.j])],\n",
       "  <scipy.interpolate.interpolate.interp1d at 0x7f65828a4788>),\n",
       " ([array([0.00000000e+00, 4.99633968e+00, 9.99267936e+00, ...,\n",
       "          1.69248508e+06, 1.69249008e+06, 1.69249508e+06]),\n",
       "   array([-7.25560175e-06+4.33236315e-06j, -1.22471325e-05+1.81080370e-06j,\n",
       "          -8.47254015e-07+9.64003843e-06j, ...,\n",
       "          -6.52068656e-06+4.44122273e-06j, -9.36254034e-07+7.27180871e-07j,\n",
       "           2.76468662e-06-5.62695014e-06j])],\n",
       "  <scipy.interpolate.interpolate.interp1d at 0x7f65828a4520>)]"
      ]
     },
     "execution_count": 15,
     "metadata": {},
     "output_type": "execute_result"
    }
   ],
   "source": [
    "wfe.jitter"
   ]
  },
  {
   "cell_type": "code",
   "execution_count": 16,
   "metadata": {},
   "outputs": [
    {
     "name": "stdout",
     "output_type": "stream",
     "text": [
      "Simple mode is off, calculating over whole aperture receiving telescope\n",
      "Type of telescope control is: SS\n"
     ]
    },
    {
     "data": {
      "text/plain": [
       "array([[nan +0.j, nan +0.j, nan +0.j, nan +0.j, nan +0.j, nan +0.j,\n",
       "        nan +0.j, nan +0.j, nan +0.j, nan +0.j, nan +0.j, nan +0.j,\n",
       "        nan +0.j, nan +0.j, nan +0.j, nan +0.j, nan +0.j, nan +0.j,\n",
       "        nan +0.j, nan +0.j],\n",
       "       [nan +0.j, nan +0.j, nan +0.j, nan +0.j, nan +0.j, nan +0.j,\n",
       "        nan+nanj, nan+nanj, nan+nanj, nan+nanj, nan+nanj, nan+nanj,\n",
       "        nan+nanj, nan+nanj, nan +0.j, nan +0.j, nan +0.j, nan +0.j,\n",
       "        nan +0.j, nan +0.j],\n",
       "       [nan +0.j, nan +0.j, nan +0.j, nan +0.j, nan+nanj, nan+nanj,\n",
       "        nan+nanj, nan+nanj, nan+nanj, nan+nanj, nan+nanj, nan+nanj,\n",
       "        nan+nanj, nan+nanj, nan+nanj, nan+nanj, nan +0.j, nan +0.j,\n",
       "        nan +0.j, nan +0.j],\n",
       "       [nan +0.j, nan +0.j, nan +0.j, nan+nanj, nan+nanj, nan+nanj,\n",
       "        nan+nanj, nan+nanj, nan+nanj, nan+nanj, nan+nanj, nan+nanj,\n",
       "        nan+nanj, nan+nanj, nan+nanj, nan+nanj, nan+nanj, nan +0.j,\n",
       "        nan +0.j, nan +0.j],\n",
       "       [nan +0.j, nan +0.j, nan+nanj, nan+nanj, nan+nanj, nan+nanj,\n",
       "        nan+nanj, nan+nanj, nan+nanj, nan+nanj, nan+nanj, nan+nanj,\n",
       "        nan+nanj, nan+nanj, nan+nanj, nan+nanj, nan+nanj, nan+nanj,\n",
       "        nan +0.j, nan +0.j],\n",
       "       [nan +0.j, nan +0.j, nan+nanj, nan+nanj, nan+nanj, nan+nanj,\n",
       "        nan+nanj, nan+nanj, nan+nanj, nan+nanj, nan+nanj, nan+nanj,\n",
       "        nan+nanj, nan+nanj, nan+nanj, nan+nanj, nan+nanj, nan+nanj,\n",
       "        nan +0.j, nan +0.j],\n",
       "       [nan +0.j, nan+nanj, nan+nanj, nan+nanj, nan+nanj, nan+nanj,\n",
       "        nan+nanj, nan+nanj, nan+nanj, nan+nanj, nan+nanj, nan+nanj,\n",
       "        nan+nanj, nan+nanj, nan+nanj, nan+nanj, nan+nanj, nan+nanj,\n",
       "        nan+nanj, nan +0.j],\n",
       "       [nan +0.j, nan+nanj, nan+nanj, nan+nanj, nan+nanj, nan+nanj,\n",
       "        nan+nanj, nan+nanj, nan+nanj, nan+nanj, nan+nanj, nan+nanj,\n",
       "        nan+nanj, nan+nanj, nan+nanj, nan+nanj, nan+nanj, nan+nanj,\n",
       "        nan+nanj, nan +0.j],\n",
       "       [nan +0.j, nan+nanj, nan+nanj, nan+nanj, nan+nanj, nan+nanj,\n",
       "        nan+nanj, nan+nanj, nan+nanj, nan+nanj, nan+nanj, nan+nanj,\n",
       "        nan+nanj, nan+nanj, nan+nanj, nan+nanj, nan+nanj, nan+nanj,\n",
       "        nan+nanj, nan +0.j],\n",
       "       [nan +0.j, nan+nanj, nan+nanj, nan+nanj, nan+nanj, nan+nanj,\n",
       "        nan+nanj, nan+nanj, nan+nanj, nan+nanj, nan+nanj, nan+nanj,\n",
       "        nan+nanj, nan+nanj, nan+nanj, nan+nanj, nan+nanj, nan+nanj,\n",
       "        nan+nanj, nan +0.j],\n",
       "       [nan +0.j, nan+nanj, nan+nanj, nan+nanj, nan+nanj, nan+nanj,\n",
       "        nan+nanj, nan+nanj, nan+nanj, nan+nanj, nan+nanj, nan+nanj,\n",
       "        nan+nanj, nan+nanj, nan+nanj, nan+nanj, nan+nanj, nan+nanj,\n",
       "        nan+nanj, nan +0.j],\n",
       "       [nan +0.j, nan+nanj, nan+nanj, nan+nanj, nan+nanj, nan+nanj,\n",
       "        nan+nanj, nan+nanj, nan+nanj, nan+nanj, nan+nanj, nan+nanj,\n",
       "        nan+nanj, nan+nanj, nan+nanj, nan+nanj, nan+nanj, nan+nanj,\n",
       "        nan+nanj, nan +0.j],\n",
       "       [nan +0.j, nan+nanj, nan+nanj, nan+nanj, nan+nanj, nan+nanj,\n",
       "        nan+nanj, nan+nanj, nan+nanj, nan+nanj, nan+nanj, nan+nanj,\n",
       "        nan+nanj, nan+nanj, nan+nanj, nan+nanj, nan+nanj, nan+nanj,\n",
       "        nan+nanj, nan +0.j],\n",
       "       [nan +0.j, nan+nanj, nan+nanj, nan+nanj, nan+nanj, nan+nanj,\n",
       "        nan+nanj, nan+nanj, nan+nanj, nan+nanj, nan+nanj, nan+nanj,\n",
       "        nan+nanj, nan+nanj, nan+nanj, nan+nanj, nan+nanj, nan+nanj,\n",
       "        nan+nanj, nan +0.j],\n",
       "       [nan +0.j, nan +0.j, nan+nanj, nan+nanj, nan+nanj, nan+nanj,\n",
       "        nan+nanj, nan+nanj, nan+nanj, nan+nanj, nan+nanj, nan+nanj,\n",
       "        nan+nanj, nan+nanj, nan+nanj, nan+nanj, nan+nanj, nan+nanj,\n",
       "        nan +0.j, nan +0.j],\n",
       "       [nan +0.j, nan +0.j, nan+nanj, nan+nanj, nan+nanj, nan+nanj,\n",
       "        nan+nanj, nan+nanj, nan+nanj, nan+nanj, nan+nanj, nan+nanj,\n",
       "        nan+nanj, nan+nanj, nan+nanj, nan+nanj, nan+nanj, nan+nanj,\n",
       "        nan +0.j, nan +0.j],\n",
       "       [nan +0.j, nan +0.j, nan +0.j, nan+nanj, nan+nanj, nan+nanj,\n",
       "        nan+nanj, nan+nanj, nan+nanj, nan+nanj, nan+nanj, nan+nanj,\n",
       "        nan+nanj, nan+nanj, nan+nanj, nan+nanj, nan+nanj, nan +0.j,\n",
       "        nan +0.j, nan +0.j],\n",
       "       [nan +0.j, nan +0.j, nan +0.j, nan +0.j, nan+nanj, nan+nanj,\n",
       "        nan+nanj, nan+nanj, nan+nanj, nan+nanj, nan+nanj, nan+nanj,\n",
       "        nan+nanj, nan+nanj, nan+nanj, nan+nanj, nan +0.j, nan +0.j,\n",
       "        nan +0.j, nan +0.j],\n",
       "       [nan +0.j, nan +0.j, nan +0.j, nan +0.j, nan +0.j, nan +0.j,\n",
       "        nan+nanj, nan+nanj, nan+nanj, nan+nanj, nan+nanj, nan+nanj,\n",
       "        nan+nanj, nan+nanj, nan +0.j, nan +0.j, nan +0.j, nan +0.j,\n",
       "        nan +0.j, nan +0.j],\n",
       "       [nan +0.j, nan +0.j, nan +0.j, nan +0.j, nan +0.j, nan +0.j,\n",
       "        nan +0.j, nan +0.j, nan +0.j, nan +0.j, nan +0.j, nan +0.j,\n",
       "        nan +0.j, nan +0.j, nan +0.j, nan +0.j, nan +0.j, nan +0.j,\n",
       "        nan +0.j, nan +0.j]], dtype=complex64)"
      ]
     },
     "execution_count": 16,
     "metadata": {},
     "output_type": "execute_result"
    }
   ],
   "source": [
    "wfe.simple=False\n",
    "wfe.jitter=[False,False]\n",
    "wfe.TTL(i,t,side='l')"
   ]
  },
  {
   "cell_type": "code",
   "execution_count": 17,
   "metadata": {},
   "outputs": [
    {
     "data": {
      "text/plain": [
       "<matplotlib.image.AxesImage at 0x7f65827bbd50>"
      ]
     },
     "execution_count": 17,
     "metadata": {},
     "output_type": "execute_result"
    },
    {
     "data": {
      "image/png": "[encoded data removed]",
      "text/plain": [
       "<Figure size 288x288 with 1 Axes>"
      ]
     },
     "metadata": {},
     "output_type": "display_data"
    }
   ],
   "source": [
    "plt.matshow(wfe.ttl_s_tot)"
   ]
  },
  {
   "cell_type": "code",
   "execution_count": 18,
   "metadata": {},
   "outputs": [
    {
     "data": {
      "text/plain": [
       "array([[            nan,             nan,             nan,\n",
       "                    nan,             nan,             nan,\n",
       "                    nan,             nan,             nan,\n",
       "                    nan,             nan,             nan,\n",
       "                    nan,             nan,             nan,\n",
       "                    nan,             nan,             nan,\n",
       "                    nan,             nan],\n",
       "       [            nan,             nan,             nan,\n",
       "                    nan,             nan,             nan,\n",
       "         1.62678250e-07,  1.62678250e-07,  1.62678250e-07,\n",
       "         1.62678250e-07,  1.62678250e-07,  1.62678250e-07,\n",
       "         1.62678250e-07,  1.62678250e-07,             nan,\n",
       "                    nan,             nan,             nan,\n",
       "                    nan,             nan],\n",
       "       [            nan,             nan,             nan,\n",
       "                    nan,  1.43539632e-07,  1.43539632e-07,\n",
       "         1.43539632e-07,  1.43539632e-07,  1.43539632e-07,\n",
       "         1.43539632e-07,  1.43539632e-07,  1.43539632e-07,\n",
       "         1.43539632e-07,  1.43539632e-07,  1.43539632e-07,\n",
       "         1.43539632e-07,             nan,             nan,\n",
       "                    nan,             nan],\n",
       "       [            nan,             nan,             nan,\n",
       "         1.24401014e-07,  1.24401014e-07,  1.24401014e-07,\n",
       "         1.24401014e-07,  1.24401014e-07,  1.24401014e-07,\n",
       "         1.24401014e-07,  1.24401014e-07,  1.24401014e-07,\n",
       "         1.24401014e-07,  1.24401014e-07,  1.24401014e-07,\n",
       "         1.24401014e-07,  1.24401014e-07,             nan,\n",
       "                    nan,             nan],\n",
       "       [            nan,             nan,  1.05262397e-07,\n",
       "         1.05262397e-07,  1.05262397e-07,  1.05262397e-07,\n",
       "         1.05262397e-07,  1.05262397e-07,  1.05262397e-07,\n",
       "         1.05262397e-07,  1.05262397e-07,  1.05262397e-07,\n",
       "         1.05262397e-07,  1.05262397e-07,  1.05262397e-07,\n",
       "         1.05262397e-07,  1.05262397e-07,  1.05262397e-07,\n",
       "                    nan,             nan],\n",
       "       [            nan,             nan,  8.61237793e-08,\n",
       "         8.61237793e-08,  8.61237793e-08,  8.61237793e-08,\n",
       "         8.61237793e-08,  8.61237793e-08,  8.61237793e-08,\n",
       "         8.61237793e-08,  8.61237793e-08,  8.61237793e-08,\n",
       "         8.61237793e-08,  8.61237793e-08,  8.61237793e-08,\n",
       "         8.61237793e-08,  8.61237793e-08,  8.61237793e-08,\n",
       "                    nan,             nan],\n",
       "       [            nan,  6.69851616e-08,  6.69851616e-08,\n",
       "         6.69851616e-08,  6.69851616e-08,  6.69851616e-08,\n",
       "         6.69851616e-08,  6.69851616e-08,  6.69851616e-08,\n",
       "         6.69851616e-08,  6.69851616e-08,  6.69851616e-08,\n",
       "         6.69851616e-08,  6.69851616e-08,  6.69851616e-08,\n",
       "         6.69851616e-08,  6.69851616e-08,  6.69851616e-08,\n",
       "         6.69851616e-08,             nan],\n",
       "       [            nan,  4.78465440e-08,  4.78465440e-08,\n",
       "         4.78465440e-08,  4.78465440e-08,  4.78465440e-08,\n",
       "         4.78465440e-08,  4.78465440e-08,  4.78465440e-08,\n",
       "         4.78465440e-08,  4.78465440e-08,  4.78465440e-08,\n",
       "         4.78465440e-08,  4.78465440e-08,  4.78465440e-08,\n",
       "         4.78465440e-08,  4.78465440e-08,  4.78465440e-08,\n",
       "         4.78465440e-08,             nan],\n",
       "       [            nan,  2.87079264e-08,  2.87079264e-08,\n",
       "         2.87079264e-08,  2.87079264e-08,  2.87079264e-08,\n",
       "         2.87079264e-08,  2.87079264e-08,  2.87079264e-08,\n",
       "         2.87079264e-08,  2.87079264e-08,  2.87079264e-08,\n",
       "         2.87079264e-08,  2.87079264e-08,  2.87079264e-08,\n",
       "         2.87079264e-08,  2.87079264e-08,  2.87079264e-08,\n",
       "         2.87079264e-08,             nan],\n",
       "       [            nan,  9.56930881e-09,  9.56930881e-09,\n",
       "         9.56930881e-09,  9.56930881e-09,  9.56930881e-09,\n",
       "         9.56930881e-09,  9.56930881e-09,  9.56930881e-09,\n",
       "         9.56930881e-09,  9.56930881e-09,  9.56930881e-09,\n",
       "         9.56930881e-09,  9.56930881e-09,  9.56930881e-09,\n",
       "         9.56930881e-09,  9.56930881e-09,  9.56930881e-09,\n",
       "         9.56930881e-09,             nan],\n",
       "       [            nan, -9.56930881e-09, -9.56930881e-09,\n",
       "        -9.56930881e-09, -9.56930881e-09, -9.56930881e-09,\n",
       "        -9.56930881e-09, -9.56930881e-09, -9.56930881e-09,\n",
       "        -9.56930881e-09, -9.56930881e-09, -9.56930881e-09,\n",
       "        -9.56930881e-09, -9.56930881e-09, -9.56930881e-09,\n",
       "        -9.56930881e-09, -9.56930881e-09, -9.56930881e-09,\n",
       "        -9.56930881e-09,             nan],\n",
       "       [            nan, -2.87079264e-08, -2.87079264e-08,\n",
       "        -2.87079264e-08, -2.87079264e-08, -2.87079264e-08,\n",
       "        -2.87079264e-08, -2.87079264e-08, -2.87079264e-08,\n",
       "        -2.87079264e-08, -2.87079264e-08, -2.87079264e-08,\n",
       "        -2.87079264e-08, -2.87079264e-08, -2.87079264e-08,\n",
       "        -2.87079264e-08, -2.87079264e-08, -2.87079264e-08,\n",
       "        -2.87079264e-08,             nan],\n",
       "       [            nan, -4.78465440e-08, -4.78465440e-08,\n",
       "        -4.78465440e-08, -4.78465440e-08, -4.78465440e-08,\n",
       "        -4.78465440e-08, -4.78465440e-08, -4.78465440e-08,\n",
       "        -4.78465440e-08, -4.78465440e-08, -4.78465440e-08,\n",
       "        -4.78465440e-08, -4.78465440e-08, -4.78465440e-08,\n",
       "        -4.78465440e-08, -4.78465440e-08, -4.78465440e-08,\n",
       "        -4.78465440e-08,             nan],\n",
       "       [            nan, -6.69851616e-08, -6.69851616e-08,\n",
       "        -6.69851616e-08, -6.69851616e-08, -6.69851616e-08,\n",
       "        -6.69851616e-08, -6.69851616e-08, -6.69851616e-08,\n",
       "        -6.69851616e-08, -6.69851616e-08, -6.69851616e-08,\n",
       "        -6.69851616e-08, -6.69851616e-08, -6.69851616e-08,\n",
       "        -6.69851616e-08, -6.69851616e-08, -6.69851616e-08,\n",
       "        -6.69851616e-08,             nan],\n",
       "       [            nan,             nan, -8.61237793e-08,\n",
       "        -8.61237793e-08, -8.61237793e-08, -8.61237793e-08,\n",
       "        -8.61237793e-08, -8.61237793e-08, -8.61237793e-08,\n",
       "        -8.61237793e-08, -8.61237793e-08, -8.61237793e-08,\n",
       "        -8.61237793e-08, -8.61237793e-08, -8.61237793e-08,\n",
       "        -8.61237793e-08, -8.61237793e-08, -8.61237793e-08,\n",
       "                    nan,             nan],\n",
       "       [            nan,             nan, -1.05262397e-07,\n",
       "        -1.05262397e-07, -1.05262397e-07, -1.05262397e-07,\n",
       "        -1.05262397e-07, -1.05262397e-07, -1.05262397e-07,\n",
       "        -1.05262397e-07, -1.05262397e-07, -1.05262397e-07,\n",
       "        -1.05262397e-07, -1.05262397e-07, -1.05262397e-07,\n",
       "        -1.05262397e-07, -1.05262397e-07, -1.05262397e-07,\n",
       "                    nan,             nan],\n",
       "       [            nan,             nan,             nan,\n",
       "        -1.24401014e-07, -1.24401014e-07, -1.24401014e-07,\n",
       "        -1.24401014e-07, -1.24401014e-07, -1.24401014e-07,\n",
       "        -1.24401014e-07, -1.24401014e-07, -1.24401014e-07,\n",
       "        -1.24401014e-07, -1.24401014e-07, -1.24401014e-07,\n",
       "        -1.24401014e-07, -1.24401014e-07,             nan,\n",
       "                    nan,             nan],\n",
       "       [            nan,             nan,             nan,\n",
       "                    nan, -1.43539632e-07, -1.43539632e-07,\n",
       "        -1.43539632e-07, -1.43539632e-07, -1.43539632e-07,\n",
       "        -1.43539632e-07, -1.43539632e-07, -1.43539632e-07,\n",
       "        -1.43539632e-07, -1.43539632e-07, -1.43539632e-07,\n",
       "        -1.43539632e-07,             nan,             nan,\n",
       "                    nan,             nan],\n",
       "       [            nan,             nan,             nan,\n",
       "                    nan,             nan,             nan,\n",
       "        -1.62678250e-07, -1.62678250e-07, -1.62678250e-07,\n",
       "        -1.62678250e-07, -1.62678250e-07, -1.62678250e-07,\n",
       "        -1.62678250e-07, -1.62678250e-07,             nan,\n",
       "                    nan,             nan,             nan,\n",
       "                    nan,             nan],\n",
       "       [            nan,             nan,             nan,\n",
       "                    nan,             nan,             nan,\n",
       "                    nan,             nan,             nan,\n",
       "                    nan,             nan,             nan,\n",
       "                    nan,             nan,             nan,\n",
       "                    nan,             nan,             nan,\n",
       "                    nan,             nan]])"
      ]
     },
     "execution_count": 18,
     "metadata": {},
     "output_type": "execute_result"
    }
   ],
   "source": [
    "wfe.ttl_s_tot+0"
   ]
  },
  {
   "cell_type": "code",
   "execution_count": null,
   "metadata": {},
   "outputs": [],
   "source": []
  },
  {
   "cell_type": "code",
   "execution_count": 19,
   "metadata": {},
   "outputs": [
    {
     "name": "stdout",
     "output_type": "stream",
     "text": [
      "Simple mode is off, calculating over whole aperture receiving telescope\n",
      "Type of telescope control is: SS\n"
     ]
    }
   ],
   "source": [
    "send = wfe.phase_rec(i,t,side='l')"
   ]
  },
  {
   "cell_type": "code",
   "execution_count": 20,
   "metadata": {},
   "outputs": [
    {
     "data": {
      "text/plain": [
       "<matplotlib.colorbar.Colorbar at 0x7f6582998f10>"
      ]
     },
     "execution_count": 20,
     "metadata": {},
     "output_type": "execute_result"
    },
    {
     "data": {
      "image/png": "[encoded data removed]",
      "text/plain": [
       "<Figure size 288x288 with 2 Axes>"
      ]
     },
     "metadata": {},
     "output_type": "display_data"
    }
   ],
   "source": [
    "plt.matshow(np.real(send),cmap='magma')\n",
    "plt.colorbar()"
   ]
  },
  {
   "cell_type": "code",
   "execution_count": 21,
   "metadata": {},
   "outputs": [],
   "source": [
    "labda = wfe.Ndata.data.labda\n",
    "w0 = wfe.Ndata.data.w0\n",
    "E0 = 1 #...adjust\n",
    "k = (2*np.pi)/labda\n",
    "D = wfe.Ndata.data.D\n",
    "LA = PAA_LISA.utils.la()"
   ]
  },
  {
   "cell_type": "code",
   "execution_count": 22,
   "metadata": {},
   "outputs": [
    {
     "data": {
      "text/plain": [
       "0"
      ]
     },
     "execution_count": 22,
     "metadata": {},
     "output_type": "execute_result"
    }
   ],
   "source": [
    "wfe.do_ttl_send()"
   ]
  },
  {
   "cell_type": "code",
   "execution_count": 23,
   "metadata": {},
   "outputs": [
    {
     "data": {
      "text/plain": [
       "8.526338885435822"
      ]
     },
     "execution_count": 23,
     "metadata": {},
     "output_type": "execute_result"
    }
   ],
   "source": [
    "wfe.Ndata.data.L_rl_func_tot(1,12321)"
   ]
  },
  {
   "cell_type": "code",
   "execution_count": 24,
   "metadata": {},
   "outputs": [
    {
     "data": {
      "text/plain": [
       "0"
      ]
     },
     "execution_count": 24,
     "metadata": {},
     "output_type": "execute_result"
    }
   ],
   "source": [
    "wfe.Ndata.PAA_point()"
   ]
  },
  {
   "cell_type": "code",
   "execution_count": 25,
   "metadata": {},
   "outputs": [
    {
     "ename": "TypeError",
     "evalue": "<lambda>() takes exactly 1 argument (2 given)",
     "output_type": "error",
     "traceback": [
      "\u001b[0;31m---------------------------------------------------------------------------\u001b[0m",
      "\u001b[0;31mTypeError\u001b[0m                                 Traceback (most recent call last)",
      "\u001b[0;32m<ipython-input-25-4ffe5761ad92>\u001b[0m in \u001b[0;36m<module>\u001b[0;34m()\u001b[0m\n\u001b[0;32m----> 1\u001b[0;31m \u001b[0mwfe\u001b[0m\u001b[0;34m.\u001b[0m\u001b[0mNdata\u001b[0m\u001b[0;34m.\u001b[0m\u001b[0mPAA_point_l\u001b[0m\u001b[0;34m(\u001b[0m\u001b[0;36m1\u001b[0m\u001b[0;34m,\u001b[0m\u001b[0;36m12322\u001b[0m\u001b[0;34m)\u001b[0m\u001b[0;34m\u001b[0m\u001b[0m\n\u001b[0m",
      "\u001b[0;32m/home/ester/git/synthlisa/calculations/NOISE_LISA/NOISE_LISA/calc.py\u001b[0m in \u001b[0;36m<lambda>\u001b[0;34m(i, t)\u001b[0m\n\u001b[1;32m    432\u001b[0m     \u001b[0;32mdef\u001b[0m \u001b[0mPAA_point\u001b[0m\u001b[0;34m(\u001b[0m\u001b[0mself\u001b[0m\u001b[0;34m)\u001b[0m\u001b[0;34m:\u001b[0m\u001b[0;34m\u001b[0m\u001b[0m\n\u001b[1;32m    433\u001b[0m         \u001b[0mself\u001b[0m\u001b[0;34m.\u001b[0m\u001b[0mPAA_point_l\u001b[0m \u001b[0;34m=\u001b[0m \u001b[0;32mlambda\u001b[0m \u001b[0mi\u001b[0m\u001b[0;34m,\u001b[0m\u001b[0mt\u001b[0m\u001b[0;34m:\u001b[0m \u001b[0mself\u001b[0m\u001b[0;34m.\u001b[0m\u001b[0mPAA_point_calc\u001b[0m\u001b[0;34m(\u001b[0m\u001b[0mi\u001b[0m\u001b[0;34m,\u001b[0m\u001b[0mt\u001b[0m\u001b[0;34m,\u001b[0m\u001b[0mside\u001b[0m\u001b[0;34m=\u001b[0m\u001b[0;34m'l'\u001b[0m\u001b[0;34m)\u001b[0m\u001b[0;34m\u001b[0m\u001b[0m\n\u001b[0;32m--> 434\u001b[0;31m         \u001b[0mself\u001b[0m\u001b[0;34m.\u001b[0m\u001b[0mPAA_point_l\u001b[0m \u001b[0;34m=\u001b[0m \u001b[0;32mlambda\u001b[0m \u001b[0mi\u001b[0m\u001b[0;34m,\u001b[0m\u001b[0mt\u001b[0m\u001b[0;34m:\u001b[0m \u001b[0mself\u001b[0m\u001b[0;34m.\u001b[0m\u001b[0mPAA_point_calc\u001b[0m\u001b[0;34m(\u001b[0m\u001b[0mi\u001b[0m\u001b[0;34m,\u001b[0m\u001b[0mt\u001b[0m\u001b[0;34m,\u001b[0m\u001b[0mside\u001b[0m\u001b[0;34m=\u001b[0m\u001b[0;34m'r'\u001b[0m\u001b[0;34m)\u001b[0m\u001b[0;34m\u001b[0m\u001b[0m\n\u001b[0m\u001b[1;32m    435\u001b[0m \u001b[0;34m\u001b[0m\u001b[0m\n\u001b[1;32m    436\u001b[0m         \u001b[0;32mreturn\u001b[0m \u001b[0;36m0\u001b[0m\u001b[0;34m\u001b[0m\u001b[0m\n",
      "\u001b[0;32m/home/ester/git/synthlisa/calculations/NOISE_LISA/NOISE_LISA/calc.py\u001b[0m in \u001b[0;36mPAA_point_calc\u001b[0;34m(self, i, t, side, noise)\u001b[0m\n\u001b[1;32m    426\u001b[0m             \u001b[0mbeam_send\u001b[0m \u001b[0;34m=\u001b[0m \u001b[0mLA\u001b[0m\u001b[0;34m.\u001b[0m\u001b[0mrotate\u001b[0m\u001b[0;34m(\u001b[0m\u001b[0mdata\u001b[0m\u001b[0;34m.\u001b[0m\u001b[0mv_l_func_tot\u001b[0m\u001b[0;34m(\u001b[0m\u001b[0mi_self\u001b[0m\u001b[0;34m,\u001b[0m\u001b[0mt\u001b[0m\u001b[0;34m)\u001b[0m\u001b[0;34m,\u001b[0m\u001b[0mrotas\u001b[0m\u001b[0;34m,\u001b[0m\u001b[0mself\u001b[0m\u001b[0;34m.\u001b[0m\u001b[0malpha_func\u001b[0m\u001b[0;34m[\u001b[0m\u001b[0mkeyl\u001b[0m\u001b[0;34m]\u001b[0m\u001b[0;34m(\u001b[0m\u001b[0mi_self\u001b[0m\u001b[0;34m,\u001b[0m\u001b[0mt\u001b[0m\u001b[0;34m)\u001b[0m\u001b[0;34m)\u001b[0m\u001b[0;34m\u001b[0m\u001b[0m\n\u001b[1;32m    427\u001b[0m         \u001b[0;32melif\u001b[0m \u001b[0mside\u001b[0m\u001b[0;34m==\u001b[0m\u001b[0;34m'r'\u001b[0m\u001b[0;34m:\u001b[0m\u001b[0;34m\u001b[0m\u001b[0m\n\u001b[0;32m--> 428\u001b[0;31m             \u001b[0mbeam_send\u001b[0m \u001b[0;34m=\u001b[0m \u001b[0mLA\u001b[0m\u001b[0;34m.\u001b[0m\u001b[0mrotate\u001b[0m\u001b[0;34m(\u001b[0m\u001b[0mdata\u001b[0m\u001b[0;34m.\u001b[0m\u001b[0mv_r_func_tot\u001b[0m\u001b[0;34m(\u001b[0m\u001b[0mi_self\u001b[0m\u001b[0;34m,\u001b[0m\u001b[0mt\u001b[0m\u001b[0;34m)\u001b[0m\u001b[0;34m,\u001b[0m\u001b[0mrotas\u001b[0m\u001b[0;34m,\u001b[0m\u001b[0mself\u001b[0m\u001b[0;34m.\u001b[0m\u001b[0malpha_func\u001b[0m\u001b[0;34m[\u001b[0m\u001b[0mkeyr\u001b[0m\u001b[0;34m]\u001b[0m\u001b[0;34m(\u001b[0m\u001b[0mi_self\u001b[0m\u001b[0;34m,\u001b[0m\u001b[0mt\u001b[0m\u001b[0;34m)\u001b[0m\u001b[0;34m)\u001b[0m\u001b[0;34m\u001b[0m\u001b[0m\n\u001b[0m\u001b[1;32m    429\u001b[0m \u001b[0;34m\u001b[0m\u001b[0m\n\u001b[1;32m    430\u001b[0m         \u001b[0;32mreturn\u001b[0m \u001b[0mbeam_send\u001b[0m\u001b[0;34m\u001b[0m\u001b[0m\n",
      "\u001b[0;31mTypeError\u001b[0m: <lambda>() takes exactly 1 argument (2 given)"
     ]
    }
   ],
   "source": [
    "wfe.Ndata.PAA_point_l(1,12322)"
   ]
  },
  {
   "cell_type": "code",
   "execution_count": null,
   "metadata": {},
   "outputs": [],
   "source": []
  },
  {
   "cell_type": "code",
   "execution_count": null,
   "metadata": {},
   "outputs": [],
   "source": []
  },
  {
   "cell_type": "code",
   "execution_count": null,
   "metadata": {},
   "outputs": [],
   "source": [
    "def rec_wf(i_self,t,dX,dY,ps_send,side='l',tilt_send = False,scale=1):\n",
    "\n",
    "    dx_list = self.xlist\n",
    "    dy_list = self.ylist\n",
    "    Ndata = self.Ndata\n",
    "    Deltax = self.Deltax\n",
    "    Deltay = self.Deltay\n",
    "    Nbinsx = self.Nbinsx\n",
    "    Nbinsy = self.Nbinsy\n",
    "\n",
    "    [i_self,i_left,i_right] = PAA_LISA.utils.i_slr(i_self)\n",
    "\n",
    "    n = Ndata.data.n_func(i_self,t)\n",
    "    \n",
    "    if side=='l':\n",
    "        tdel = self.Ndata.data.L_rl_func_tot(i,t)\n",
    "        n_left = Ndata.data.n_func(i_left,t-tdel)\n",
    "        if self.tele_control=='full control':\n",
    "            tele_rec = Ndata.tele_l_fc(i_self,t)\n",
    "            tele_send = Ndata.tele_r_fc(i_left,tdel)\n",
    "        elif self.tele_control=='no control':\n",
    "            tele_rec = Ndata.tele_l(i_self,t)\n",
    "            tele_send = Ndata.tele_r(i_left,t-tdel)\n",
    "        elif self.tele_control=='SS':\n",
    "            r = Ndata.data.r_func(i_self,t)\n",
    "            ang_SS = self.tele_SS_l(i_self,t)\n",
    "            ans_SS_left = self.tele_SS_r(i_lefy,t-tdel)\n",
    "            tele_rec = LA.unit(LA.rotate(Ndata.tele_l(i_self,t),n,ang_SS))\n",
    "            tele_send = LA.unit(LA.rotate(Ndata.tele_r(i_left,t-tdel),n_left,ang_SS_left))\n",
    "\n",
    "        beam = Ndata.data.u_l_func_tot(i_self,t) #...adjust for sending telescope --> PAAM control\n",
    "    elif side=='r':\n",
    "        tdel = self.Ndata.data.L_rr_func_tot(i,t)\n",
    "        if self.tele_control=='full control':\n",
    "            tele_rec = Ndata.tele_r_fc(i_self,t)\n",
    "            tele_send = Ndata.tele_l_fc(i_right,t-tdel)\n",
    "        elif self.tele_control=='no control':\n",
    "            tele_rec = Ndata.tele_r(i_self,t)\n",
    "            tele_send = Ndata.tele_l(i_right,t-tdel)\n",
    "        elif self.tele_control=='SS':\n",
    "            r = Ndata.data.r_func(i_self,t)\n",
    "            ang_SS = self.tele_SS_r(i_self,t)\n",
    "            ang_SS_right = self.tele_SS_l(i_right,t-tdel)\n",
    "            \n",
    "            tele_rec = LA.unit(LA.rotate(Ndata.tele_r(i_self,t),n,ang_SS))\n",
    "            tele_send = LA.unit(LA.rotate(Ndata.tele_l(i_right,t-tdel),n_right,ang_SS_right))\n",
    "\n",
    "    [ang_x,ang_y] = LA.beam_ang(beam,tele,n)\n",
    "\n",
    "    E0 = 1\n",
    "    psi=0\n",
    "    R = np.linalg.norm(beam)*scale\n",
    "    ps=np.empty((Nbinsx,Nbinsy),dtype = np.complex64)\n",
    "    for i in range(0,len(dx_list)):\n",
    "        for j in range(0,len(dy_list)):\n",
    "            dx = dx_list[i]\n",
    "            dy = dy_list[j]\n",
    "            dr = (dx**2+dy**2)**0.5\n",
    "            if tilt_send==True:\n",
    "                Zn=ps_send[i,j]\n",
    "            else:\n",
    "                Zn=0\n",
    "            if dr<=0.5*D:\n",
    "                E = E0*np.exp(-(dr**2)/(w0**2))*np.exp(1j*psi)\n",
    "                S = (R**2+(dX-dx_list[i])**2+(dY-dy_list[j])**2)**0.5\n",
    "                ps[i,j] = (E/S)*np.exp(1j*(2*np.pi/labda)*(Zn+S))*Deltax*Deltay\n",
    "            else:\n",
    "                ps[i,j] = np.nan\n",
    "\n",
    "        ret = np.nansum(ps)\n",
    "        I = np.real(ret)\n",
    "        TTL = np.imag(ret)\n",
    "\n",
    "    return I,TTL"
   ]
  },
  {
   "cell_type": "code",
   "execution_count": null,
   "metadata": {},
   "outputs": [],
   "source": [
    "i_self=1\n",
    "t = t_vec[2]\n",
    "self = wfe\n",
    "side='l'\n",
    "dX = 0.1\n",
    "dY = 0.1\n",
    "ps_send = self.ttl_s_tot\n",
    "tilt_send = False"
   ]
  },
  {
   "cell_type": "code",
   "execution_count": null,
   "metadata": {},
   "outputs": [],
   "source": [
    "ps = np.empty((Nbinsx,Nbinsy))\n",
    "for i in range(0,len(self.xlist)):\n",
    "    for j in range(0,len(self.ylist)):\n",
    "        ps[i,j] = rec_wf(i_self,t,self.xlist[i],self.ylist[j],ps_send,side='l',tilt_send = False,scale = 1e-9)[1]"
   ]
  },
  {
   "cell_type": "code",
   "execution_count": null,
   "metadata": {},
   "outputs": [],
   "source": [
    "Ndata.alpha_func['12']"
   ]
  },
  {
   "cell_type": "code",
   "execution_count": null,
   "metadata": {},
   "outputs": [],
   "source": [
    "Ndata.data"
   ]
  },
  {
   "cell_type": "code",
   "execution_count": null,
   "metadata": {},
   "outputs": [],
   "source": []
  },
  {
   "cell_type": "code",
   "execution_count": null,
   "metadata": {},
   "outputs": [],
   "source": []
  },
  {
   "cell_type": "code",
   "execution_count": null,
   "metadata": {},
   "outputs": [],
   "source": []
  }
 ],
 "metadata": {
  "kernelspec": {
   "display_name": "Python 2",
   "language": "python",
   "name": "python2"
  },
  "language_info": {
   "codemirror_mode": {
    "name": "ipython",
    "version": 2
   },
   "file_extension": ".py",
   "mimetype": "text/x-python",
   "name": "python",
   "nbconvert_exporter": "python",
   "pygments_lexer": "ipython2",
   "version": "2.7.15"
  }
 },
 "nbformat": 4,
 "nbformat_minor": 2
}
