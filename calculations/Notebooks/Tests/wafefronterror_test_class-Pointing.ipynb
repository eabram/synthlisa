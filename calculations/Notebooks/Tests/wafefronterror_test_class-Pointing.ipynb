{
 "cells": [
  {
   "cell_type": "code",
   "execution_count": 1,
   "metadata": {},
   "outputs": [],
   "source": [
    "import PAA_LISA\n",
    "import NOISE_LISA\n",
    "import os\n",
    "\n",
    "%matplotlib inline\n",
    "\n",
    "import matplotlib.pyplot as plt\n",
    "import numpy as np\n",
    "import random\n",
    "import os\n",
    "from fractions import Fraction\n",
    "import math\n",
    "import datetime\n",
    "from scipy.interpolate import interp1d\n",
    "from scipy.interpolate import RegularGridInterpolator\n",
    "import warnings\n",
    "warnings.filterwarnings('ignore', 'The iteration is not making good progress')\n",
    "#warnings.filterwarnings(\"error\")\n",
    "import scipy.optimize\n",
    "\n",
    "year2sec=32536000\n",
    "day2sec=year2sec/365.25\n",
    "c=300000000"
   ]
  },
  {
   "cell_type": "code",
   "execution_count": null,
   "metadata": {},
   "outputs": [],
   "source": []
  },
  {
   "cell_type": "code",
   "execution_count": 2,
   "metadata": {},
   "outputs": [
    {
     "name": "stdout",
     "output_type": "stream",
     "text": [
      "['positions_timestep_days_scale_1000.txt', 'Folkner_orbit_timestep_seconds_scale_10.txt', 'readable.py', 'NGO_1M_10deg_synthlisa_timestep_days_scale_1000.txt']\n",
      "['McKenzie_orbit_timestep_seconds_scale_1000.txt', 'Folkner_orbit_timestep_seconds_scale_1.txt', 'Hallion_2pt5G_orbits_pos_uniquedays_timestep_days_scale_1000.txt']\n",
      "['Folkner_orbit_timestep_seconds_scale_10.txt', 'NGO_1M_10deg_synthlisa_timestep_days_scale_1.txt', 'Folkner_orbit_timestep_seconds_scale_1.txt', 'NGO_1M_10deg_synthlisa_timestep_days_scale_1000.txt']\n",
      "Dir_extr:zzzWaluschka_no_abberation\n",
      "Dir_extr:zzzWaluschka_no_abberation\n",
      "Dir_extr:zzzWaluschka_no_abberation\n",
      "Dir_extr:zzzWaluschka_no_abberation\n",
      "Dir_extr:zzzWaluschka_no_abberation\n",
      "Dir_extr:zzzWaluschka_no_abberation\n",
      "Getting scale by filename:\n",
      "1000.0\n",
      "\n",
      "Getting timestep by filename:\n",
      "days\n",
      "\n",
      "Waluschka\n",
      "\n",
      "Importing Orbit\n",
      "20 datapoints\n",
      "Done in 0.038121\n",
      "Selected calculation method is: Waluschka\n",
      "\n",
      "Selected calculation method is: Waluschka\n",
      "\n",
      "Selected calculation method is: Waluschka\n",
      "\n",
      "Abberation: False\n",
      "\n",
      "\n",
      "test_calc: False\n",
      "Dir_extr:zzzWaluschka_no_abberation\n",
      "Dir_extr:zzzWaluschka_no_abberation\n",
      "Dir_extr:zzzWaluschka_no_abberation\n",
      "Dir_extr:zzzWaluschka_no_abberation\n"
     ]
    }
   ],
   "source": [
    "input_param = {\n",
    "        'calc_method': 'Waluschka',\n",
    "        'plot_on':False, #If plots will be made\n",
    "        'dir_savefig': os.getcwd(), # The directory where the figures will be saved. If False, it will be in the current working directory\n",
    "        'noise_check':False,\n",
    "        'home':'/home/ester/git/synthlisa/', # Home directory\n",
    "        'directory_imp': False,\n",
    "        'num_back': 0,\n",
    "        'dir_orbits': '/home/ester/git/synthlisa/orbits/', # Folder with orbit files\n",
    "        'length_calc': 20, # Length of number of imported datapoints of orbit files. 'all' is also possible\n",
    "        'dir_extr': 'zzzWaluschka_no_abberation', # This will be added to the folder name of the figures\n",
    "        'timeunit':'Default', # The timeunit of the plots (['minutes'],['days']['years'])\n",
    "        'LISA_opt':True, # If a LISA object from syntheticLISA will be used for further calculations (not sure if it works properly if this False)\n",
    "        'arm_influence': True, # Set True to consider the travel time of the photons when calculating the nominal armlengths\n",
    "        'tstep':False,\n",
    "        'delay':True, #'Not ahead' or False\n",
    "        'method':'fsolve', # Method used to solve the equation for the photon traveling time\n",
    "        'valorfunc':'Function', #\n",
    "        'select':'Hallion', # Select which orbit files will be imported ('all' is all)\n",
    "        'test_calc':False,\n",
    "        'abberation':False,\n",
    "        'delay': True\n",
    "        }\n",
    "\n",
    "data_all = PAA_LISA.runfile.do_run(input_param)"
   ]
  },
  {
   "cell_type": "code",
   "execution_count": 3,
   "metadata": {},
   "outputs": [],
   "source": [
    "for k in range(0,len(data_all)/2):\n",
    "    #data = PAA_res[str(k+1)]\n",
    "    data = data_all[str(k+1)]\n",
    "t_vec = data.t_all"
   ]
  },
  {
   "cell_type": "code",
   "execution_count": 4,
   "metadata": {},
   "outputs": [
    {
     "name": "stdout",
     "output_type": "stream",
     "text": [
      "Obtaining noise\n",
      "Obaining lasernoise\n",
      "Obtaining shotnoise\n",
      "Not using WFE\n"
     ]
    }
   ],
   "source": [
    "Ndata = NOISE_LISA.Noise(data=data)"
   ]
  },
  {
   "cell_type": "code",
   "execution_count": 5,
   "metadata": {},
   "outputs": [
    {
     "data": {
      "text/plain": [
       "0"
      ]
     },
     "execution_count": 5,
     "metadata": {},
     "output_type": "execute_result"
    }
   ],
   "source": [
    "Ndata.PAA_point()"
   ]
  },
  {
   "cell_type": "code",
   "execution_count": null,
   "metadata": {},
   "outputs": [],
   "source": []
  },
  {
   "cell_type": "code",
   "execution_count": null,
   "metadata": {},
   "outputs": [],
   "source": []
  },
  {
   "cell_type": "code",
   "execution_count": null,
   "metadata": {},
   "outputs": [],
   "source": []
  },
  {
   "cell_type": "code",
   "execution_count": null,
   "metadata": {},
   "outputs": [],
   "source": []
  },
  {
   "cell_type": "code",
   "execution_count": null,
   "metadata": {},
   "outputs": [],
   "source": []
  },
  {
   "cell_type": "code",
   "execution_count": null,
   "metadata": {},
   "outputs": [],
   "source": []
  },
  {
   "cell_type": "code",
   "execution_count": 6,
   "metadata": {},
   "outputs": [],
   "source": [
    "wfe = NOISE_LISA.WFE(Ndata=Ndata)"
   ]
  },
  {
   "cell_type": "code",
   "execution_count": 7,
   "metadata": {},
   "outputs": [],
   "source": [
    "wfe.tele_control='no control'\n",
    "wfe.pupil(Nbins=20)\n",
    "wfe.side = 'r'\n",
    "wfe.scale = 1#1e-9 # Scales distance of SC\n",
    "\n",
    "wfe.speed_on = True # Makes calculation faster, only valid for long armlengths\n",
    "wfe.simple = True # Calculates only 1 pixel"
   ]
  },
  {
   "cell_type": "code",
   "execution_count": null,
   "metadata": {},
   "outputs": [],
   "source": []
  },
  {
   "cell_type": "code",
   "execution_count": 8,
   "metadata": {
    "scrolled": true
   },
   "outputs": [
    {
     "name": "stdout",
     "output_type": "stream",
     "text": [
      "The telescope control method is: no control\n",
      " \n",
      "The PAAM control method is: SS\n",
      " \n"
     ]
    },
    {
     "data": {
      "text/plain": [
       "0"
      ]
     },
     "execution_count": 8,
     "metadata": {},
     "output_type": "execute_result"
    }
   ],
   "source": [
    "wfe.tele_aim(simple=True)\n",
    "wfe.PAAM_control()"
   ]
  },
  {
   "cell_type": "code",
   "execution_count": 17,
   "metadata": {},
   "outputs": [],
   "source": [
    "ttl = {}\n",
    "wfe.ttl_pointing_function(option='all')\n",
    "ttl['pointing_all'] = wfe.ttl_l,wfe.ttl_r\n",
    "wfe.ttl_pointing_function(option='tilt')\n",
    "ttl['pointing_tilt'] = wfe.ttl_l,wfe.ttl_r\n",
    "wfe.ttl_pointing_function(option='piston')\n",
    "ttl['pointing_piston'] = wfe.ttl_l,wfe.ttl_r"
   ]
  },
  {
   "cell_type": "code",
   "execution_count": 23,
   "metadata": {},
   "outputs": [
    {
     "name": "stdout",
     "output_type": "stream",
     "text": [
      "Using PAAM pointing from WFE class\n"
     ]
    }
   ],
   "source": [
    "ttl_PAAM_l = []\n",
    "ttl_PAAM_r = []\n",
    "ttl_PAAM = wfe.Ndata.PAAMnoise(wfe=wfe)\n",
    "for i in range(1,4):\n",
    "    [i_self,i_left,i_right] = PAA_LISA.utils.i_slr(i)\n",
    "    keyl = str(i_self)+str(i_left)\n",
    "    keyr = str(i_self)+str(i_right)\n",
    "    ttl_PAAM_l.append(ttl_PAAM[keyl])\n",
    "    ttl_PAAM_r.append(ttl_PAAM[keyr])\n",
    "\n",
    "ttl['PAAM'] = PAA_LISA.utils.func_over_sc(ttl_PAAM_l),PAA_LISA.utils.func_over_sc(ttl_PAAM_r)\n",
    "    "
   ]
  },
  {
   "cell_type": "code",
   "execution_count": 24,
   "metadata": {},
   "outputs": [],
   "source": [
    "t_plot = np.linspace(t_vec[1],t_vec[-2],100)\n",
    "i=1\n",
    "side=0 #l=0, r=1\n",
    "ttl_sample={}\n",
    "for t in t_plot:\n",
    "    for k in ttl.keys():\n",
    "        if k not in ttl_sample.keys():\n",
    "            ttl_sample[k]=[]\n",
    "        ttl_sample[k].append(ttl[k][side](i,t))"
   ]
  },
  {
   "cell_type": "code",
   "execution_count": 25,
   "metadata": {},
   "outputs": [
    {
     "data": {
      "image/png": "[encoded data removed]",
      "text/plain": [
       "<Figure size 1440x720 with 4 Axes>"
      ]
     },
     "metadata": {},
     "output_type": "display_data"
    }
   ],
   "source": [
    "f,ax = plt.subplots(len(ttl_sample.keys()),1,figsize=(20,10))\n",
    "for k in range(0,len(ttl_sample.keys())):\n",
    "    key = ttl_sample.keys()[k]\n",
    "    ax[k].plot(t_plot,ttl_sample[key],label=key)\n",
    "    ax[k].set_title(key)\n",
    "    ax[k].set_xlabel('time (s)')\n",
    "    ax[k].set_ylabel('Length (m)')"
   ]
  },
  {
   "cell_type": "code",
   "execution_count": 14,
   "metadata": {},
   "outputs": [
    {
     "name": "stdout",
     "output_type": "stream",
     "text": [
      "Using PAAM pointing from WFE class\n"
     ]
    }
   ],
   "source": [
    "...to do: add jitter"
   ]
  },
  {
   "cell_type": "code",
   "execution_count": null,
   "metadata": {},
   "outputs": [],
   "source": []
  },
  {
   "cell_type": "code",
   "execution_count": null,
   "metadata": {},
   "outputs": [],
   "source": []
  },
  {
   "cell_type": "code",
   "execution_count": null,
   "metadata": {},
   "outputs": [],
   "source": []
  },
  {
   "cell_type": "code",
   "execution_count": null,
   "metadata": {},
   "outputs": [],
   "source": []
  },
  {
   "cell_type": "code",
   "execution_count": null,
   "metadata": {},
   "outputs": [],
   "source": []
  },
  {
   "cell_type": "code",
   "execution_count": null,
   "metadata": {},
   "outputs": [],
   "source": []
  },
  {
   "cell_type": "code",
   "execution_count": 13,
   "metadata": {},
   "outputs": [
    {
     "ename": "SyntaxError",
     "evalue": "invalid syntax (<ipython-input-13-182370b4007f>, line 1)",
     "output_type": "error",
     "traceback": [
      "\u001b[0;36m  File \u001b[0;32m\"<ipython-input-13-182370b4007f>\"\u001b[0;36m, line \u001b[0;32m1\u001b[0m\n\u001b[0;31m    ...\u001b[0m\n\u001b[0m    ^\u001b[0m\n\u001b[0;31mSyntaxError\u001b[0m\u001b[0;31m:\u001b[0m invalid syntax\n"
     ]
    }
   ],
   "source": [
    "..."
   ]
  },
  {
   "cell_type": "code",
   "execution_count": null,
   "metadata": {},
   "outputs": [],
   "source": []
  },
  {
   "cell_type": "code",
   "execution_count": null,
   "metadata": {},
   "outputs": [],
   "source": []
  },
  {
   "cell_type": "code",
   "execution_count": null,
   "metadata": {},
   "outputs": [],
   "source": []
  },
  {
   "cell_type": "code",
   "execution_count": null,
   "metadata": {},
   "outputs": [],
   "source": [
    "wfe.beam_aim_vec_l(1,12321)"
   ]
  },
  {
   "cell_type": "code",
   "execution_count": null,
   "metadata": {},
   "outputs": [],
   "source": [
    "i=1\n",
    "LA = PAA_LISA.la()"
   ]
  },
  {
   "cell_type": "code",
   "execution_count": null,
   "metadata": {},
   "outputs": [],
   "source": [
    "t_plot = np.linspace(t_vec[0],t_vec[4],50)\n",
    "beam_aim_l = []\n",
    "tele_aim_l = []\n",
    "for t in t_plot:\n",
    "    beam_aim_l.append(wfe.beam_aim_l(i,t))\n",
    "    tele_aim_l.append(LA.angle(wfe.tele_aim_l(i,t),wfe.Ndata.data.r_func(i,t)))"
   ]
  },
  {
   "cell_type": "code",
   "execution_count": null,
   "metadata": {},
   "outputs": [],
   "source": [
    "f,ax = plt.subplots(4,1)\n",
    "ax[0].plot(t_plot,beam_aim_l,label='PAAM_SS')\n",
    "ax[1].plot(t_plot,tele_aim_l,label='tele_fc')"
   ]
  },
  {
   "cell_type": "code",
   "execution_count": null,
   "metadata": {},
   "outputs": [],
   "source": [
    "self = wfe\n",
    "L_tele = 2 #length tele [m]\n",
    "i_self=1\n",
    "side='l'"
   ]
  },
  {
   "cell_type": "code",
   "execution_count": null,
   "metadata": {},
   "outputs": [],
   "source": [
    "def zern_aim(self,i_self,t,side='l'):\n",
    "    [i_self,i_left,i_right] = PAA_LISA.utils.i_slr(i_self)\n",
    "    n = Ndata.data.n_func(i_self,t)\n",
    "\n",
    "    if side=='l':\n",
    "        i_next = i_left\n",
    "        tdel = self.Ndata.data.L_rl_func_tot(i_self,t)\n",
    "        n_next = Ndata.data.n_func(i_left,t-tdel)\n",
    "        tele_rec = LA.unit(self.tele_aim_l(i_self,t))*L_tele\n",
    "        beam_send = self.beam_aim_vec_r(i_next,t-tdel)\n",
    "        dist = tdel*c\n",
    "        beam_ideal = self.Ndata.data.v_r_func_tot(i_next,t-tdel)\n",
    "\n",
    "    elif side=='r':\n",
    "        i_next = i_right\n",
    "        tdel = self.Ndata.data.L_rr_func_tot(i_self,t)\n",
    "        n_next = Ndata.data.n_func(i_right,t-tdel)\n",
    "        tele_rec = LA.unit(self.tele_aim_r(i_self,t))*L_tele\n",
    "        beam_send = self.beam_aim_vec_l(i_next,t-tdel)\n",
    "        dist = tdel*c\n",
    "        beam_ideal = self.Ndata.data.v_l_func_tot(i_next,t-tdel)\n",
    "\n",
    "\n",
    "    # Calculating tilt\n",
    "    tele_beamcoor = LA.tele_coor(-tele_rec,beam_send,n_next)\n",
    "    angx = -np.arcsin(tele_beamcoor[0]/np.linalg.norm(tele_beamcoor))\n",
    "    angy = -np.arcsin(tele_beamcoor[1]/np.linalg.norm(tele_beamcoor))\n",
    "\n",
    "    #Calculating offset\n",
    "    tele_pos = beam_ideal - tele_rec\n",
    "    [xoff,yoff,zoff] = LA.tele_coor(tele_pos,beam_send,n_next)\n",
    "    piston = wfe.z_solve(xoff,yoff,zoff)\n",
    "    R = wfe.R(piston)\n",
    "\n",
    "    # Tilt by offset\n",
    "    angxoff = np.arcsin(xoff/R)\n",
    "    angyoff = np.arcsin(yoff/R)\n",
    "\n",
    "    # Zernike polynomials\n",
    "    angx_tot = angx+angxoff\n",
    "    angy_tot = angy+angyoff\n",
    "    thmn11 = np.arctan(angx_tot/angy_tot)\n",
    "    zmn11 = (angx_tot**2 + angy_tot**2)**0.5\n",
    "    zmn00 = piston\n",
    "\n",
    "    zmn={}\n",
    "    thmn={}\n",
    "    zmn['00'] = zmn00\n",
    "    zmn['11'] = zmn11\n",
    "    thmn['11'] = thmn11\n",
    "    \n",
    "    \n",
    "    return [xoff,yoff,zoff],zmn,thmn\n",
    "\n",
    "def obtain_ttl(self,zmn,thmn,offset,piston=True,tilt=True,mode='ttl'):\n",
    "    ps=np.zeros((self.Nbinsx,self.Nbinsy))\n",
    "    if piston==False:\n",
    "        zmn['00']=False\n",
    "        thmn['00']=False\n",
    "    if tilt==False:\n",
    "        zmn['11']=False\n",
    "        thmn['11']=False\n",
    "    for n in range(0,2):\n",
    "        for m in range(-n,n+1):\n",
    "            if ((m%2) == (n%2)):\n",
    "                ps = ps + self.zern(m,n,zmn=zmn,thmn=thmn,offset=[xoff,yoff],mode=mode)\n",
    "    if mode=='phase':\n",
    "        ps = ps%(2*np.pi)\n",
    "    wave_ttl = np.nanmean(ps)\n",
    "    \n",
    "    return ps, wave_ttl"
   ]
  },
  {
   "cell_type": "code",
   "execution_count": null,
   "metadata": {},
   "outputs": [],
   "source": [
    "wfe.tele_aim(method='no control',simple=True)\n",
    "wfe.PAAM_control()\n",
    "\n",
    "print(LA.unit(wfe.tele_aim_l(1,12321)))\n",
    "print(wfe.beam_aim_l(1,12321))\n",
    "print(wfe.beam_aim_vec_l(1,12321))\n",
    "print(LA.unit(wfe.Ndata.data.v_l_func_tot(1,12321))*2)\n",
    "\n",
    "print(np.degrees(LA.angle(wfe.Ndata.data.v_l_func_tot(1,12321),wfe.tele_aim_l(1,12321))))"
   ]
  },
  {
   "cell_type": "code",
   "execution_count": null,
   "metadata": {},
   "outputs": [],
   "source": []
  },
  {
   "cell_type": "code",
   "execution_count": null,
   "metadata": {},
   "outputs": [],
   "source": [
    "wfe.tele_aim(method='full control',simple=True)\n",
    "wfe.PAAM_control()\n",
    "\n",
    "print(wfe.tele_aim_l(1,12321))\n",
    "print(wfe.beam_aim_l(1,12321))\n",
    "print(wfe.beam_aim_vec_l(1,12321))\n",
    "print(LA.unit(wfe.Ndata.data.v_l_func_tot(1,12321))*2)"
   ]
  },
  {
   "cell_type": "code",
   "execution_count": null,
   "metadata": {},
   "outputs": [],
   "source": []
  },
  {
   "cell_type": "code",
   "execution_count": null,
   "metadata": {},
   "outputs": [],
   "source": [
    "ps_all = []\n",
    "wave_ttl_all = []\n",
    "PAAM_aim = []\n",
    "mode = 'ttl'\n",
    "i_self=1\n",
    "side='l'\n",
    "t_calc = np.linspace(t_vec[1],t_vec[-2],500)\n",
    "for t in t_calc:\n",
    "    [xoff,yoff,zoff],zmn,thmn = zern_aim(wfe,i_self,t,side=side)\n",
    "    ps,wave_ttl = obtain_ttl(wfe,zmn,thmn,[0,0],piston=True,tilt=True,mode=mode)\n",
    "    ps_all.append(ps_all)\n",
    "    wave_ttl_all.append(wave_ttl)\n",
    "    PAAM_aim.append(wfe.beam_aim_l(i_self,t))"
   ]
  },
  {
   "cell_type": "code",
   "execution_count": null,
   "metadata": {},
   "outputs": [],
   "source": [
    "f,ax = plt.subplots(4,1)\n",
    "ax[0].plot(t_calc,wave_ttl_all)\n",
    "ax[1].plot(t_calc,PAAM_aim)"
   ]
  },
  {
   "cell_type": "code",
   "execution_count": null,
   "metadata": {},
   "outputs": [],
   "source": []
  },
  {
   "cell_type": "code",
   "execution_count": null,
   "metadata": {},
   "outputs": [],
   "source": [
    "plt.matshow(ps,cmap='magma')\n",
    "plt.colorbar()"
   ]
  },
  {
   "cell_type": "code",
   "execution_count": null,
   "metadata": {},
   "outputs": [],
   "source": []
  },
  {
   "cell_type": "code",
   "execution_count": null,
   "metadata": {},
   "outputs": [],
   "source": []
  },
  {
   "cell_type": "code",
   "execution_count": null,
   "metadata": {},
   "outputs": [],
   "source": []
  },
  {
   "cell_type": "code",
   "execution_count": null,
   "metadata": {},
   "outputs": [],
   "source": []
  },
  {
   "cell_type": "code",
   "execution_count": null,
   "metadata": {},
   "outputs": [],
   "source": []
  },
  {
   "cell_type": "code",
   "execution_count": null,
   "metadata": {},
   "outputs": [],
   "source": []
  },
  {
   "cell_type": "code",
   "execution_count": null,
   "metadata": {},
   "outputs": [],
   "source": []
  },
  {
   "cell_type": "code",
   "execution_count": null,
   "metadata": {},
   "outputs": [],
   "source": []
  },
  {
   "cell_type": "code",
   "execution_count": null,
   "metadata": {},
   "outputs": [],
   "source": []
  },
  {
   "cell_type": "code",
   "execution_count": null,
   "metadata": {},
   "outputs": [],
   "source": []
  },
  {
   "cell_type": "code",
   "execution_count": null,
   "metadata": {},
   "outputs": [],
   "source": []
  },
  {
   "cell_type": "code",
   "execution_count": null,
   "metadata": {},
   "outputs": [],
   "source": []
  },
  {
   "cell_type": "code",
   "execution_count": null,
   "metadata": {},
   "outputs": [],
   "source": []
  },
  {
   "cell_type": "code",
   "execution_count": null,
   "metadata": {},
   "outputs": [],
   "source": [
    "wfe.beam_aim_l(1,12321)"
   ]
  },
  {
   "cell_type": "code",
   "execution_count": null,
   "metadata": {},
   "outputs": [],
   "source": [
    "# Calculating offset\n",
    "\n",
    "...Ga hier verder\n",
    "\n",
    "\n",
    "\n",
    "\n",
    "pos_send = np.array(self.Ndata.data.LISA.putp(i_next,t-tdel))\n",
    "pos_rec = np.array(self.Ndata.data.LISA.putp(i_self,t-tdel)) #... set on Waluschka)\n",
    "\n",
    "tele_rel = LA.unit(tele_rec)*L_tele\n",
    "O_tele = pos_rec - pos_send +tele_rel # ... Abram vs. Waluschka\n",
    "tele_beam = np.dot(O_tele,LA.unit(beam))*LA.unit(beam)\n",
    "\n",
    "tele_yoff = LA.outplane(O_tele - tele_beam,n)\n",
    "tele_xoff = np.linalg.norm(O_tele-tele_beam-tele_yoff)\n",
    "tele_yoff = np.linalg.norm(tele_yoff)\n",
    "tele_zoff = np.linalg.norm(tele_beam) - np.linalg.norm(beam)\n",
    "\n",
    "\n",
    "zmn={}\n",
    "\n",
    "zmn['11'] = zmn11\n",
    "thmn={}\n",
    "thmn['11'] = thmn11\n",
    "zxoff = tele_xoff*np.tan(angx)\n",
    "zyoff = tele_yoff*np.tan(angy)\n",
    "xoff = tele_xoff\n",
    "yoff = tele_yoff\n",
    "zoff = np.linalg.norm(tele_beam)+zxoff+zyoff\n",
    "zmn['00'] = zoff\n",
    "thmn['00'] = 0\n",
    "xoff = xoff/np.cos(angx)\n",
    "yoff = yoff/np.cos(angy)\n",
    "offset = np.array([xoff,yoff])"
   ]
  },
  {
   "cell_type": "code",
   "execution_count": null,
   "metadata": {},
   "outputs": [],
   "source": []
  },
  {
   "cell_type": "code",
   "execution_count": null,
   "metadata": {},
   "outputs": [],
   "source": []
  },
  {
   "cell_type": "code",
   "execution_count": null,
   "metadata": {},
   "outputs": [],
   "source": []
  },
  {
   "cell_type": "code",
   "execution_count": null,
   "metadata": {},
   "outputs": [],
   "source": []
  },
  {
   "cell_type": "code",
   "execution_count": null,
   "metadata": {},
   "outputs": [],
   "source": []
  },
  {
   "cell_type": "code",
   "execution_count": null,
   "metadata": {},
   "outputs": [],
   "source": []
  },
  {
   "cell_type": "code",
   "execution_count": null,
   "metadata": {},
   "outputs": [],
   "source": []
  },
  {
   "cell_type": "code",
   "execution_count": null,
   "metadata": {},
   "outputs": [],
   "source": [
    "i = 1\n",
    "t = t_vec[2]\n",
    "tele_fc(i,t+2)"
   ]
  },
  {
   "cell_type": "code",
   "execution_count": null,
   "metadata": {},
   "outputs": [],
   "source": [
    "tele_nc(i,t)"
   ]
  },
  {
   "cell_type": "code",
   "execution_count": null,
   "metadata": {},
   "outputs": [],
   "source": [
    "tele_SS(i,t+2)"
   ]
  },
  {
   "cell_type": "code",
   "execution_count": null,
   "metadata": {},
   "outputs": [],
   "source": [
    "wfe.Ndata.PAA_point()"
   ]
  },
  {
   "cell_type": "code",
   "execution_count": null,
   "metadata": {},
   "outputs": [],
   "source": [
    "wfe.Ndata.PAA_point_l(1,12321)"
   ]
  },
  {
   "cell_type": "code",
   "execution_count": null,
   "metadata": {},
   "outputs": [],
   "source": [
    "wfe.PAAM_control(method='SS')\n",
    "wfe.beam_aim_l(1,t_vec[2]+2)"
   ]
  },
  {
   "cell_type": "code",
   "execution_count": null,
   "metadata": {},
   "outputs": [],
   "source": [
    "wfe.PAAM_control(method='fc')\n",
    "wfe.beam_aim_l(1,t_vec[2])"
   ]
  },
  {
   "cell_type": "code",
   "execution_count": null,
   "metadata": {
    "scrolled": true
   },
   "outputs": [],
   "source": []
  },
  {
   "cell_type": "code",
   "execution_count": null,
   "metadata": {
    "scrolled": true
   },
   "outputs": [],
   "source": [
    "wfe.tele_control_ss(step_max=4,dt = 3600)"
   ]
  },
  {
   "cell_type": "code",
   "execution_count": null,
   "metadata": {},
   "outputs": [],
   "source": []
  },
  {
   "cell_type": "code",
   "execution_count": null,
   "metadata": {},
   "outputs": [],
   "source": [
    "i=1\n",
    "t = t_vec[2]\n",
    "wfe.simple=False\n",
    "wfe.jitter=[False,False]"
   ]
  },
  {
   "cell_type": "code",
   "execution_count": null,
   "metadata": {},
   "outputs": [],
   "source": []
  },
  {
   "cell_type": "code",
   "execution_count": null,
   "metadata": {},
   "outputs": [],
   "source": [
    "labda = wfe.Ndata.data.labda\n",
    "w0 = wfe.Ndata.data.w0\n",
    "E0 = 1 #...adjust\n",
    "k = (2*np.pi)/labda\n",
    "D = wfe.Ndata.data.D\n",
    "LA = PAA_LISA.utils.la()\n",
    "L_tele = 2 # length telescope"
   ]
  },
  {
   "cell_type": "code",
   "execution_count": null,
   "metadata": {},
   "outputs": [],
   "source": [
    "wfe.do_ttl_send()"
   ]
  },
  {
   "cell_type": "code",
   "execution_count": null,
   "metadata": {},
   "outputs": [],
   "source": []
  },
  {
   "cell_type": "code",
   "execution_count": null,
   "metadata": {},
   "outputs": [],
   "source": []
  },
  {
   "cell_type": "code",
   "execution_count": null,
   "metadata": {},
   "outputs": [],
   "source": [
    "wfe.scan_tele()"
   ]
  },
  {
   "cell_type": "code",
   "execution_count": null,
   "metadata": {},
   "outputs": [],
   "source": []
  },
  {
   "cell_type": "code",
   "execution_count": null,
   "metadata": {},
   "outputs": [],
   "source": []
  },
  {
   "cell_type": "code",
   "execution_count": null,
   "metadata": {},
   "outputs": [],
   "source": []
  }
 ],
 "metadata": {
  "kernelspec": {
   "display_name": "Python 2",
   "language": "python",
   "name": "python2"
  },
  "language_info": {
   "codemirror_mode": {
    "name": "ipython",
    "version": 2
   },
   "file_extension": ".py",
   "mimetype": "text/x-python",
   "name": "python",
   "nbconvert_exporter": "python",
   "pygments_lexer": "ipython2",
   "version": "2.7.15"
  }
 },
 "nbformat": 4,
 "nbformat_minor": 2
}
